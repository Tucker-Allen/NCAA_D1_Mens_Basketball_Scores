{
 "cells": [
  {
   "cell_type": "code",
   "execution_count": 1,
   "metadata": {
    "collapsed": true
   },
   "outputs": [],
   "source": [
    "import pandas as pd\n",
    "import numpy as np\n",
    "\n",
    "from sklearn.linear_model import LinearRegression\n",
    "from sklearn.model_selection import train_test_split\n",
    "from sklearn.model_selection import cross_val_score\n",
    "from sklearn.feature_extraction.text import CountVectorizer\n",
    "\n",
    "import requests\n",
    "from bs4 import BeautifulSoup\n",
    "import pandas as pd\n",
    "import numpy as np\n",
    "import time"
   ]
  },
  {
   "cell_type": "markdown",
   "metadata": {},
   "source": [
    "## Read in Player_By_Game Data from Scraper"
   ]
  },
  {
   "cell_type": "code",
   "execution_count": 2,
   "metadata": {
    "collapsed": true
   },
   "outputs": [],
   "source": [
    "# Read in all the partial data pieces\n",
    "\n",
    "df1 = pd.read_csv('../data/offset_0-200000.csv')\n",
    "df2 = pd.read_csv('../data/offset_200000-300000.csv')\n",
    "df3 = pd.read_csv('../data/offset_300000-475000.csv')\n",
    "df4 = pd.read_csv('../data/offset_475000-550000.csv')\n",
    "df5 = pd.read_csv('../data/offset_550000-600000.csv')\n",
    "df6 = pd.read_csv('../data/offset_600000-725000.csv')\n",
    "df7 = pd.read_csv('../data/offset_725000-909000.csv')"
   ]
  },
  {
   "cell_type": "code",
   "execution_count": 3,
   "metadata": {
    "collapsed": true
   },
   "outputs": [],
   "source": [
    "# Aggregate all the segmented data into one dataframe\n",
    "\n",
    "df = pd.concat([df1, df2, df3, df4, df5, df6, df7])"
   ]
  },
  {
   "cell_type": "code",
   "execution_count": 4,
   "metadata": {},
   "outputs": [
    {
     "data": {
      "text/plain": [
       "(909700, 31)"
      ]
     },
     "execution_count": 4,
     "metadata": {},
     "output_type": "execute_result"
    }
   ],
   "source": [
    "# Check starting shape\n",
    "\n",
    "df.shape"
   ]
  },
  {
   "cell_type": "code",
   "execution_count": 5,
   "metadata": {},
   "outputs": [
    {
     "data": {
      "text/html": [
       "<div>\n",
       "<style>\n",
       "    .dataframe thead tr:only-child th {\n",
       "        text-align: right;\n",
       "    }\n",
       "\n",
       "    .dataframe thead th {\n",
       "        text-align: left;\n",
       "    }\n",
       "\n",
       "    .dataframe tbody tr th {\n",
       "        vertical-align: top;\n",
       "    }\n",
       "</style>\n",
       "<table border=\"1\" class=\"dataframe\">\n",
       "  <thead>\n",
       "    <tr style=\"text-align: right;\">\n",
       "      <th></th>\n",
       "      <th>Unnamed: 0</th>\n",
       "      <th>player</th>\n",
       "      <th>pos</th>\n",
       "      <th>date_game</th>\n",
       "      <th>school_id</th>\n",
       "      <th>opp_id</th>\n",
       "      <th>game_result</th>\n",
       "      <th>gs</th>\n",
       "      <th>mp</th>\n",
       "      <th>fg</th>\n",
       "      <th>...</th>\n",
       "      <th>orb</th>\n",
       "      <th>drb</th>\n",
       "      <th>trb</th>\n",
       "      <th>ast</th>\n",
       "      <th>stl</th>\n",
       "      <th>blk</th>\n",
       "      <th>tov</th>\n",
       "      <th>pf</th>\n",
       "      <th>pts</th>\n",
       "      <th>game_score</th>\n",
       "    </tr>\n",
       "  </thead>\n",
       "  <tbody>\n",
       "    <tr>\n",
       "      <th>0</th>\n",
       "      <td>0</td>\n",
       "      <td>Nate Wolters</td>\n",
       "      <td>G</td>\n",
       "      <td>2013-02-07</td>\n",
       "      <td>South Dakota State</td>\n",
       "      <td>IPFW</td>\n",
       "      <td>W</td>\n",
       "      <td>1.0</td>\n",
       "      <td>40</td>\n",
       "      <td>17</td>\n",
       "      <td>...</td>\n",
       "      <td>2</td>\n",
       "      <td>2</td>\n",
       "      <td>4</td>\n",
       "      <td>3</td>\n",
       "      <td>1</td>\n",
       "      <td>1</td>\n",
       "      <td>3</td>\n",
       "      <td>0</td>\n",
       "      <td>53</td>\n",
       "      <td>42.6</td>\n",
       "    </tr>\n",
       "    <tr>\n",
       "      <th>1</th>\n",
       "      <td>1</td>\n",
       "      <td>Mike James</td>\n",
       "      <td>G</td>\n",
       "      <td>2011-01-04</td>\n",
       "      <td>Lamar</td>\n",
       "      <td>NaN</td>\n",
       "      <td>W</td>\n",
       "      <td>0.0</td>\n",
       "      <td>28</td>\n",
       "      <td>18</td>\n",
       "      <td>...</td>\n",
       "      <td>1</td>\n",
       "      <td>4</td>\n",
       "      <td>5</td>\n",
       "      <td>3</td>\n",
       "      <td>1</td>\n",
       "      <td>0</td>\n",
       "      <td>1</td>\n",
       "      <td>4</td>\n",
       "      <td>52</td>\n",
       "      <td>36.3</td>\n",
       "    </tr>\n",
       "    <tr>\n",
       "      <th>2</th>\n",
       "      <td>2</td>\n",
       "      <td>Marshon Brooks</td>\n",
       "      <td>G</td>\n",
       "      <td>2011-02-23</td>\n",
       "      <td>Providence</td>\n",
       "      <td>Notre Dame</td>\n",
       "      <td>L</td>\n",
       "      <td>1.0</td>\n",
       "      <td>40</td>\n",
       "      <td>20</td>\n",
       "      <td>...</td>\n",
       "      <td>2</td>\n",
       "      <td>3</td>\n",
       "      <td>5</td>\n",
       "      <td>4</td>\n",
       "      <td>1</td>\n",
       "      <td>0</td>\n",
       "      <td>1</td>\n",
       "      <td>4</td>\n",
       "      <td>52</td>\n",
       "      <td>42.3</td>\n",
       "    </tr>\n",
       "    <tr>\n",
       "      <th>3</th>\n",
       "      <td>3</td>\n",
       "      <td>Jimmer Fredette</td>\n",
       "      <td>G</td>\n",
       "      <td>2011-03-11</td>\n",
       "      <td>Brigham Young</td>\n",
       "      <td>New Mexico</td>\n",
       "      <td>W</td>\n",
       "      <td>1.0</td>\n",
       "      <td>40</td>\n",
       "      <td>22</td>\n",
       "      <td>...</td>\n",
       "      <td>0</td>\n",
       "      <td>2</td>\n",
       "      <td>2</td>\n",
       "      <td>4</td>\n",
       "      <td>1</td>\n",
       "      <td>0</td>\n",
       "      <td>2</td>\n",
       "      <td>2</td>\n",
       "      <td>52</td>\n",
       "      <td>36.5</td>\n",
       "    </tr>\n",
       "    <tr>\n",
       "      <th>4</th>\n",
       "      <td>4</td>\n",
       "      <td>Markus Howard</td>\n",
       "      <td>G</td>\n",
       "      <td>2018-01-03</td>\n",
       "      <td>Marquette</td>\n",
       "      <td>Providence</td>\n",
       "      <td>W</td>\n",
       "      <td>1.0</td>\n",
       "      <td>44</td>\n",
       "      <td>17</td>\n",
       "      <td>...</td>\n",
       "      <td>0</td>\n",
       "      <td>1</td>\n",
       "      <td>1</td>\n",
       "      <td>2</td>\n",
       "      <td>2</td>\n",
       "      <td>0</td>\n",
       "      <td>2</td>\n",
       "      <td>1</td>\n",
       "      <td>52</td>\n",
       "      <td>39.8</td>\n",
       "    </tr>\n",
       "  </tbody>\n",
       "</table>\n",
       "<p>5 rows × 31 columns</p>\n",
       "</div>"
      ],
      "text/plain": [
       "   Unnamed: 0           player pos   date_game           school_id  \\\n",
       "0           0     Nate Wolters   G  2013-02-07  South Dakota State   \n",
       "1           1       Mike James   G  2011-01-04               Lamar   \n",
       "2           2   Marshon Brooks   G  2011-02-23          Providence   \n",
       "3           3  Jimmer Fredette   G  2011-03-11       Brigham Young   \n",
       "4           4    Markus Howard   G  2018-01-03           Marquette   \n",
       "\n",
       "       opp_id game_result   gs  mp  fg     ...      orb  drb  trb  ast  stl  \\\n",
       "0        IPFW           W  1.0  40  17     ...        2    2    4    3    1   \n",
       "1         NaN           W  0.0  28  18     ...        1    4    5    3    1   \n",
       "2  Notre Dame           L  1.0  40  20     ...        2    3    5    4    1   \n",
       "3  New Mexico           W  1.0  40  22     ...        0    2    2    4    1   \n",
       "4  Providence           W  1.0  44  17     ...        0    1    1    2    2   \n",
       "\n",
       "   blk  tov  pf  pts  game_score  \n",
       "0    1    3   0   53        42.6  \n",
       "1    0    1   4   52        36.3  \n",
       "2    0    1   4   52        42.3  \n",
       "3    0    2   2   52        36.5  \n",
       "4    0    2   1   52        39.8  \n",
       "\n",
       "[5 rows x 31 columns]"
      ]
     },
     "execution_count": 5,
     "metadata": {},
     "output_type": "execute_result"
    }
   ],
   "source": [
    "df.head()"
   ]
  },
  {
   "cell_type": "markdown",
   "metadata": {},
   "source": [
    "## EDA And Cleaning of Player_By_Game Data"
   ]
  },
  {
   "cell_type": "code",
   "execution_count": 6,
   "metadata": {},
   "outputs": [
    {
     "data": {
      "text/plain": [
       "Index(['Unnamed: 0', 'player', 'pos', 'date_game', 'school_id', 'opp_id',\n",
       "       'game_result', 'gs', 'mp', 'fg', 'fga', 'fg_pct', 'fg2', 'fg2a',\n",
       "       'fg2_pct', 'fg3', 'fg3a', 'fg3_pct', 'ft', 'fta', 'ft_pct', 'orb',\n",
       "       'drb', 'trb', 'ast', 'stl', 'blk', 'tov', 'pf', 'pts', 'game_score'],\n",
       "      dtype='object')"
      ]
     },
     "execution_count": 6,
     "metadata": {},
     "output_type": "execute_result"
    }
   ],
   "source": [
    "df.columns"
   ]
  },
  {
   "cell_type": "code",
   "execution_count": 7,
   "metadata": {
    "scrolled": true
   },
   "outputs": [
    {
     "data": {
      "text/plain": [
       "Unnamed: 0          0\n",
       "player              0\n",
       "pos                91\n",
       "date_game           0\n",
       "school_id           0\n",
       "opp_id          38014\n",
       "game_result         0\n",
       "gs               1558\n",
       "mp                  0\n",
       "fg                  0\n",
       "fga                 0\n",
       "fg_pct         107301\n",
       "fg2                 0\n",
       "fg2a                0\n",
       "fg2_pct        173922\n",
       "fg3                 0\n",
       "fg3a                0\n",
       "fg3_pct        384069\n",
       "ft                  0\n",
       "fta                 0\n",
       "ft_pct         415522\n",
       "orb                 0\n",
       "drb                 0\n",
       "trb                 0\n",
       "ast                 0\n",
       "stl                 0\n",
       "blk                 0\n",
       "tov                 0\n",
       "pf                  0\n",
       "pts                 0\n",
       "game_score          0\n",
       "dtype: int64"
      ]
     },
     "execution_count": 7,
     "metadata": {},
     "output_type": "execute_result"
    }
   ],
   "source": [
    "df.isnull().sum()"
   ]
  },
  {
   "cell_type": "code",
   "execution_count": 8,
   "metadata": {
    "collapsed": true
   },
   "outputs": [],
   "source": [
    "# Drop these columns because they are derived explicity from existing features\n",
    "df.drop(['fg_pct', 'fg2_pct', 'fg3_pct', 'ft_pct', 'trb'], axis=1, inplace=True)"
   ]
  },
  {
   "cell_type": "code",
   "execution_count": 9,
   "metadata": {
    "collapsed": true
   },
   "outputs": [],
   "source": [
    "# Drop erroneous column\n",
    "df.drop('Unnamed: 0', axis=1, inplace=True)"
   ]
  },
  {
   "cell_type": "code",
   "execution_count": 10,
   "metadata": {
    "collapsed": true
   },
   "outputs": [],
   "source": [
    "# If we don't know whether they started or not, chances are they did not. We'll set np.nan \n",
    "# of 'gs' to 0.\n",
    "df['gs'] = df['gs'].fillna(value=0)"
   ]
  },
  {
   "cell_type": "code",
   "execution_count": 11,
   "metadata": {},
   "outputs": [
    {
     "data": {
      "text/plain": [
       "1526"
      ]
     },
     "execution_count": 11,
     "metadata": {},
     "output_type": "execute_result"
    }
   ],
   "source": [
    "# Check and drop duplicated rows, probably resulting from scraping overlap\n",
    "df.duplicated().sum()"
   ]
  },
  {
   "cell_type": "code",
   "execution_count": 12,
   "metadata": {
    "collapsed": true
   },
   "outputs": [],
   "source": [
    "df.drop_duplicates(inplace=True)"
   ]
  },
  {
   "cell_type": "code",
   "execution_count": 13,
   "metadata": {},
   "outputs": [
    {
     "data": {
      "text/plain": [
       "player             0\n",
       "pos               90\n",
       "date_game          0\n",
       "school_id          0\n",
       "opp_id         37961\n",
       "game_result        0\n",
       "gs                 0\n",
       "mp                 0\n",
       "fg                 0\n",
       "fga                0\n",
       "fg2                0\n",
       "fg2a               0\n",
       "fg3                0\n",
       "fg3a               0\n",
       "ft                 0\n",
       "fta                0\n",
       "orb                0\n",
       "drb                0\n",
       "ast                0\n",
       "stl                0\n",
       "blk                0\n",
       "tov                0\n",
       "pf                 0\n",
       "pts                0\n",
       "game_score         0\n",
       "dtype: int64"
      ]
     },
     "execution_count": 13,
     "metadata": {},
     "output_type": "execute_result"
    }
   ],
   "source": [
    "df.isnull().sum()"
   ]
  },
  {
   "cell_type": "code",
   "execution_count": 14,
   "metadata": {
    "collapsed": true
   },
   "outputs": [],
   "source": [
    "# We will be bringing in a lot of opponent data as features, so not knowing the opp_id is \n",
    "# useless to us. So let's drop the np.nan values in opp_id\n",
    "\n",
    "df.dropna(inplace=True)"
   ]
  },
  {
   "cell_type": "code",
   "execution_count": 15,
   "metadata": {},
   "outputs": [
    {
     "data": {
      "text/plain": [
       "player         0\n",
       "pos            0\n",
       "date_game      0\n",
       "school_id      0\n",
       "opp_id         0\n",
       "game_result    0\n",
       "gs             0\n",
       "mp             0\n",
       "fg             0\n",
       "fga            0\n",
       "fg2            0\n",
       "fg2a           0\n",
       "fg3            0\n",
       "fg3a           0\n",
       "ft             0\n",
       "fta            0\n",
       "orb            0\n",
       "drb            0\n",
       "ast            0\n",
       "stl            0\n",
       "blk            0\n",
       "tov            0\n",
       "pf             0\n",
       "pts            0\n",
       "game_score     0\n",
       "dtype: int64"
      ]
     },
     "execution_count": 15,
     "metadata": {},
     "output_type": "execute_result"
    }
   ],
   "source": [
    "df.isnull().sum()"
   ]
  },
  {
   "cell_type": "code",
   "execution_count": 16,
   "metadata": {},
   "outputs": [
    {
     "data": {
      "text/plain": [
       "(870131, 25)"
      ]
     },
     "execution_count": 16,
     "metadata": {},
     "output_type": "execute_result"
    }
   ],
   "source": [
    "# Check resulting shape. We still have 96% of our original rows. Pretty good\n",
    "df.shape"
   ]
  },
  {
   "cell_type": "code",
   "execution_count": 17,
   "metadata": {
    "collapsed": true
   },
   "outputs": [],
   "source": [
    "# Convert date_game to datetime type\n",
    "\n",
    "df['date_game'] = pd.to_datetime(df['date_game'])"
   ]
  },
  {
   "cell_type": "code",
   "execution_count": 18,
   "metadata": {
    "collapsed": true
   },
   "outputs": [],
   "source": [
    "# Create a year and month feature\n",
    "\n",
    "df['year'] = df['date_game'].map(lambda x: x.year)\n",
    "df['month'] = df['date_game'].map(lambda x: x.month)"
   ]
  },
  {
   "cell_type": "code",
   "execution_count": 19,
   "metadata": {},
   "outputs": [
    {
     "name": "stdout",
     "output_type": "stream",
     "text": [
      "2010-11-08 00:00:00\n",
      "2018-03-07 00:00:00\n"
     ]
    }
   ],
   "source": [
    "# Get an idea of timeframe \n",
    "\n",
    "print(df['date_game'].min())\n",
    "print(df['date_game'].max())"
   ]
  },
  {
   "cell_type": "code",
   "execution_count": 21,
   "metadata": {
    "collapsed": true
   },
   "outputs": [],
   "source": [
    "# Make a 'season' feature, where the year it ended is defined as the season\n",
    "\n",
    "season_list = []\n",
    "for i in df['date_game']:\n",
    "    if i.month == 11 or i.month == 12:\n",
    "        season_list.append(i.year + 1)\n",
    "    else:\n",
    "        season_list.append(i.year)"
   ]
  },
  {
   "cell_type": "code",
   "execution_count": 22,
   "metadata": {
    "collapsed": true
   },
   "outputs": [],
   "source": [
    "df['season'] = season_list"
   ]
  },
  {
   "cell_type": "code",
   "execution_count": 23,
   "metadata": {
    "collapsed": true
   },
   "outputs": [],
   "source": [
    "# Codify Win/Loss with 1/0\n",
    "df['W'] = df['game_result'].map(lambda x: 1 if x == 'W' else 0)"
   ]
  },
  {
   "cell_type": "code",
   "execution_count": 24,
   "metadata": {
    "collapsed": true
   },
   "outputs": [],
   "source": [
    "# Dummify position\n",
    "#df = pd.concat([df, pd.get_dummies(df['pos'])], axis=1)"
   ]
  },
  {
   "cell_type": "code",
   "execution_count": 25,
   "metadata": {
    "collapsed": true
   },
   "outputs": [],
   "source": [
    "# Drop game_result: We have one-hot encoded\n",
    "df.drop('game_result', axis=1, inplace=True)"
   ]
  },
  {
   "cell_type": "code",
   "execution_count": 26,
   "metadata": {},
   "outputs": [
    {
     "data": {
      "text/plain": [
       "player        0\n",
       "pos           0\n",
       "date_game     0\n",
       "school_id     0\n",
       "opp_id        0\n",
       "gs            0\n",
       "mp            0\n",
       "fg            0\n",
       "fga           0\n",
       "fg2           0\n",
       "fg2a          0\n",
       "fg3           0\n",
       "fg3a          0\n",
       "ft            0\n",
       "fta           0\n",
       "orb           0\n",
       "drb           0\n",
       "ast           0\n",
       "stl           0\n",
       "blk           0\n",
       "tov           0\n",
       "pf            0\n",
       "pts           0\n",
       "game_score    0\n",
       "year          0\n",
       "month         0\n",
       "season        0\n",
       "W             0\n",
       "dtype: int64"
      ]
     },
     "execution_count": 26,
     "metadata": {},
     "output_type": "execute_result"
    }
   ],
   "source": [
    "df.isnull().sum()"
   ]
  },
  {
   "cell_type": "code",
   "execution_count": 27,
   "metadata": {},
   "outputs": [
    {
     "data": {
      "text/plain": [
       "player                object\n",
       "pos                   object\n",
       "date_game     datetime64[ns]\n",
       "school_id             object\n",
       "opp_id                object\n",
       "gs                   float64\n",
       "mp                     int64\n",
       "fg                     int64\n",
       "fga                    int64\n",
       "fg2                    int64\n",
       "fg2a                   int64\n",
       "fg3                    int64\n",
       "fg3a                   int64\n",
       "ft                     int64\n",
       "fta                    int64\n",
       "orb                    int64\n",
       "drb                    int64\n",
       "ast                    int64\n",
       "stl                    int64\n",
       "blk                    int64\n",
       "tov                    int64\n",
       "pf                     int64\n",
       "pts                    int64\n",
       "game_score           float64\n",
       "year                   int64\n",
       "month                  int64\n",
       "season                 int64\n",
       "W                      int64\n",
       "dtype: object"
      ]
     },
     "execution_count": 27,
     "metadata": {},
     "output_type": "execute_result"
    }
   ],
   "source": [
    "df.dtypes"
   ]
  },
  {
   "cell_type": "markdown",
   "metadata": {},
   "source": [
    "## Quick Scrape for some School Data"
   ]
  },
  {
   "cell_type": "code",
   "execution_count": 31,
   "metadata": {},
   "outputs": [
    {
     "name": "stdout",
     "output_type": "stream",
     "text": [
      "200\n",
      "200\n",
      "200\n",
      "200\n",
      "200\n",
      "200\n",
      "200\n",
      "200\n",
      "200\n"
     ]
    }
   ],
   "source": [
    "stat_year = 2010\n",
    "col_list = ['School', 'WinLossPct', 'SRS', 'SOS', 'Year']\n",
    "school_df = pd.DataFrame(columns=col_list)\n",
    "\n",
    "for i in range(2010,2019, 1):\n",
    "    \n",
    "    schools = []\n",
    "    winlosspct = []\n",
    "    srs = []\n",
    "    sos = []\n",
    "    stat_year = i\n",
    "    \n",
    "    this_df = pd.DataFrame(columns=col_list)\n",
    "    \n",
    "    URL = 'https://www.sports-reference.com/cbb/seasons/'+str(stat_year)+'-school-stats.html'\n",
    "    response = requests.get(URL)\n",
    "    print(response.status_code)\n",
    "    soup = BeautifulSoup(response.text, 'lxml')\n",
    "     \n",
    "    td_schools = soup.find_all('td', {'data-stat':'school_name'})\n",
    "    for element in td_schools:\n",
    "        td_ref = element.find('a')\n",
    "        try:\n",
    "            schools.append(td_ref.text)\n",
    "        except:\n",
    "            schools.append(np.nan)\n",
    "            \n",
    "    td_winloss = soup.find_all('td', {'data-stat':'win_loss_pct'})\n",
    "    for element in td_winloss:\n",
    "        try:\n",
    "            winlosspct.append(element.text)\n",
    "        except:\n",
    "            winlosspct.append(np.nan)\n",
    "            \n",
    "    td_srs = soup.find_all('td', {'data-stat':'srs'})\n",
    "    for element in td_srs:\n",
    "        try:\n",
    "            srs.append(element.text)\n",
    "        except:\n",
    "            srs.append(np.nan)\n",
    "\n",
    "    td_sos = soup.find_all('td', {'data-stat':'sos'})\n",
    "    for element in td_sos:\n",
    "        try:\n",
    "            sos.append(element.text)\n",
    "        except:\n",
    "            sos.append(np.nan)\n",
    "            \n",
    "    this_df['School'] = schools\n",
    "    this_df['WinLossPct'] = winlosspct\n",
    "    this_df['SRS'] = srs\n",
    "    this_df['SOS'] = sos\n",
    "    this_df['Year'] = stat_year\n",
    "    \n",
    "    school_df = pd.concat([school_df, this_df])"
   ]
  },
  {
   "cell_type": "code",
   "execution_count": 32,
   "metadata": {},
   "outputs": [
    {
     "data": {
      "text/plain": [
       "School        0\n",
       "WinLossPct    0\n",
       "SRS           0\n",
       "SOS           0\n",
       "Year          0\n",
       "dtype: int64"
      ]
     },
     "execution_count": 32,
     "metadata": {},
     "output_type": "execute_result"
    }
   ],
   "source": [
    "school_df.isnull().sum()"
   ]
  },
  {
   "cell_type": "code",
   "execution_count": 33,
   "metadata": {},
   "outputs": [
    {
     "data": {
      "text/html": [
       "<div>\n",
       "<style>\n",
       "    .dataframe thead tr:only-child th {\n",
       "        text-align: right;\n",
       "    }\n",
       "\n",
       "    .dataframe thead th {\n",
       "        text-align: left;\n",
       "    }\n",
       "\n",
       "    .dataframe tbody tr th {\n",
       "        vertical-align: top;\n",
       "    }\n",
       "</style>\n",
       "<table border=\"1\" class=\"dataframe\">\n",
       "  <thead>\n",
       "    <tr style=\"text-align: right;\">\n",
       "      <th></th>\n",
       "      <th>School</th>\n",
       "      <th>WinLossPct</th>\n",
       "      <th>SRS</th>\n",
       "      <th>SOS</th>\n",
       "      <th>Year</th>\n",
       "    </tr>\n",
       "  </thead>\n",
       "  <tbody>\n",
       "    <tr>\n",
       "      <th>0</th>\n",
       "      <td>Air Force</td>\n",
       "      <td>.323</td>\n",
       "      <td>-4.90</td>\n",
       "      <td>3.13</td>\n",
       "      <td>2010</td>\n",
       "    </tr>\n",
       "    <tr>\n",
       "      <th>1</th>\n",
       "      <td>Akron</td>\n",
       "      <td>.686</td>\n",
       "      <td>2.82</td>\n",
       "      <td>-1.50</td>\n",
       "      <td>2010</td>\n",
       "    </tr>\n",
       "    <tr>\n",
       "      <th>2</th>\n",
       "      <td>Alabama A&amp;M</td>\n",
       "      <td>.407</td>\n",
       "      <td>-20.19</td>\n",
       "      <td>-13.71</td>\n",
       "      <td>2010</td>\n",
       "    </tr>\n",
       "    <tr>\n",
       "      <th>3</th>\n",
       "      <td>Alabama-Birmingham</td>\n",
       "      <td>.735</td>\n",
       "      <td>9.46</td>\n",
       "      <td>2.90</td>\n",
       "      <td>2010</td>\n",
       "    </tr>\n",
       "    <tr>\n",
       "      <th>4</th>\n",
       "      <td>Alabama State</td>\n",
       "      <td>.516</td>\n",
       "      <td>-14.41</td>\n",
       "      <td>-12.02</td>\n",
       "      <td>2010</td>\n",
       "    </tr>\n",
       "  </tbody>\n",
       "</table>\n",
       "</div>"
      ],
      "text/plain": [
       "               School WinLossPct     SRS     SOS  Year\n",
       "0           Air Force       .323   -4.90    3.13  2010\n",
       "1               Akron       .686    2.82   -1.50  2010\n",
       "2         Alabama A&M       .407  -20.19  -13.71  2010\n",
       "3  Alabama-Birmingham       .735    9.46    2.90  2010\n",
       "4       Alabama State       .516  -14.41  -12.02  2010"
      ]
     },
     "execution_count": 33,
     "metadata": {},
     "output_type": "execute_result"
    }
   ],
   "source": [
    "school_df.head()"
   ]
  },
  {
   "cell_type": "code",
   "execution_count": 34,
   "metadata": {
    "collapsed": true
   },
   "outputs": [],
   "source": [
    "school_df.to_csv('../data/schools.csv')"
   ]
  },
  {
   "cell_type": "markdown",
   "metadata": {},
   "source": [
    "## Engineer Defender Features"
   ]
  },
  {
   "cell_type": "code",
   "execution_count": 35,
   "metadata": {
    "collapsed": true
   },
   "outputs": [],
   "source": [
    "school_list = school_df['School']"
   ]
  },
  {
   "cell_type": "code",
   "execution_count": 36,
   "metadata": {
    "collapsed": true
   },
   "outputs": [],
   "source": [
    "game_dates = df['date_game'].unique()"
   ]
  },
  {
   "cell_type": "code",
   "execution_count": 37,
   "metadata": {
    "collapsed": true
   },
   "outputs": [],
   "source": [
    "# TEST!!!\n",
    "game_dates = '2010-11-08'"
   ]
  },
  {
   "cell_type": "code",
   "execution_count": 52,
   "metadata": {
    "collapsed": true
   },
   "outputs": [],
   "source": [
    "for m in game_dates:\n",
    "    for n in school_list:    \n",
    "        date_mask = m\n",
    "        school_mask = n\n",
    "\n",
    "        df_myteam = df[(df['date_game']==date_mask) & (df['school_id']==school_mask)]\n",
    "        df_myteam = df_myteam.sort_values(['gs', 'mp'], ascending=False)\n",
    "\n",
    "        opp_school = list(df_myteam['opp_id'])[0]\n",
    "\n",
    "        df_opp = df[(df['date_game']==date_mask) & (df['school_id']==opp_school)]\n",
    "        df_opp = df_opp.sort_values(['gs', 'mp'], ascending=False)\n",
    "\n",
    "        largest = min([len(df_opp), len(df_myteam)])\n",
    "\n",
    "        df_myteam = df_myteam[0:largest]\n",
    "        df_opp = df_opp[0:largest]\n",
    "\n",
    "        my_team_index = df_myteam.index\n",
    "        matchup_index = []\n",
    "\n",
    "        opp_pos_list = df_opp['pos']\n",
    "\n",
    "        for i in df_myteam['pos']:\n",
    "            if i == 'PG':\n",
    "                for j in df_opp['pos'].index:\n",
    "                    if df_opp['pos'][j] == 'PG':\n",
    "                        matchup_index.append(j)\n",
    "                        df_opp['pos'].drop(j, inplace=True)\n",
    "                        break\n",
    "                for j in df_opp['pos'].index:\n",
    "                    if df_opp['pos'][j] == 'SG':\n",
    "                        matchup_index.append(j)\n",
    "                        df_opp['pos'].drop(j, inplace=True)\n",
    "                        break\n",
    "                for j in df_opp['pos'].index:\n",
    "                    if df_opp['pos'][j] == 'G':\n",
    "                        matchup_index.append(j)\n",
    "                        df_opp['pos'].drop(j, inplace=True)\n",
    "                        break\n",
    "\n",
    "            if i == 'SG':\n",
    "                for j in df_opp['pos'].index:\n",
    "                    if df_opp['pos'][j] == 'SG':\n",
    "                        matchup_index.append(j)\n",
    "                        df_opp['pos'].drop(j, inplace=True)\n",
    "                        break\n",
    "                for j in df_opp['pos'].index:\n",
    "                    if df_opp['pos'][j] == 'PG':\n",
    "                        matchup_index.append(j)\n",
    "                        df_opp['pos'].drop(j, inplace=True)\n",
    "                        break\n",
    "                for j in df_opp['pos'].index:\n",
    "                    if df_opp['pos'][j] == 'G':\n",
    "                        matchup_index.append(j)\n",
    "                        df_opp['pos'].drop(j, inplace=True)\n",
    "                        break  \n",
    "\n",
    "            if i == 'SF':\n",
    "                for j in df_opp['pos'].index:\n",
    "                    if df_opp['pos'][j] == 'SF':\n",
    "                        matchup_index.append(j)\n",
    "                        df_opp['pos'].drop(j, inplace=True)\n",
    "                        break\n",
    "                for j in df_opp['pos'].index:\n",
    "                    if df_opp['pos'][j] == 'PF':\n",
    "                        matchup_index.append(j)\n",
    "                        df_opp['pos'].drop(j, inplace=True)\n",
    "                        break\n",
    "                for j in df_opp['pos'].index:\n",
    "                    if df_opp['pos'][j] == 'F':\n",
    "                        matchup_index.append(j)\n",
    "                        df_opp['pos'].drop(j, inplace=True)\n",
    "                        break\n",
    "\n",
    "            if i == 'PF':\n",
    "                for j in df_opp['pos'].index:\n",
    "                    if df_opp['pos'][j] == 'PF':\n",
    "                        matchup_index.append(j)\n",
    "                        df_opp['pos'].drop(j, inplace=True)\n",
    "                        break\n",
    "                for j in df_opp['pos'].index:\n",
    "                    if df_opp['pos'][j] == 'SF':\n",
    "                        matchup_index.append(j)\n",
    "                        df_opp['pos'].drop(j, inplace=True)\n",
    "                        break\n",
    "                for j in df_opp['pos'].index:\n",
    "                    if df_opp['pos'][j] == 'C':\n",
    "                        matchup_index.append(j)\n",
    "                        df_opp['pos'].drop(j, inplace=True)\n",
    "                        break\n",
    "                for j in df_opp['pos'].index:\n",
    "                    if df_opp['pos'][j] == 'F':\n",
    "                        matchup_index.append(j)\n",
    "                        df_opp['pos'].drop(j, inplace=True)\n",
    "                        break\n",
    "\n",
    "            if i == 'C':\n",
    "                for j in df_opp['pos'].index:\n",
    "                    if df_opp['pos'][j] == 'C':\n",
    "                        matchup_index.append(j)\n",
    "                        df_opp['pos'].drop(j, inplace=True)\n",
    "                        break\n",
    "                for j in df_opp['pos'].index:\n",
    "                    if df_opp['pos'][j] == 'PF':\n",
    "                        matchup_index.append(j)\n",
    "                        df_opp['pos'].drop(j, inplace=True)\n",
    "                        break\n",
    "\n",
    "            if i == 'G':\n",
    "                for j in df_opp['pos'].index:\n",
    "                    if df_opp['pos'][j] == 'PG':\n",
    "                        matchup_index.append(j)\n",
    "                        df_opp['pos'].drop(j, inplace=True)\n",
    "                        break\n",
    "                for j in df_opp['pos'].index:\n",
    "                    if df_opp['pos'][j] == 'SG':\n",
    "                        matchup_index.append(j)\n",
    "                        df_opp['pos'].drop(j, inplace=True)\n",
    "                        break\n",
    "                for j in df_opp['pos'].index:\n",
    "                    if df_opp['pos'][j] == 'G':\n",
    "                        matchup_index.append(j)\n",
    "                        df_opp['pos'].drop(j, inplace=True)\n",
    "                        break\n",
    "                for j in df_opp['pos'].index:\n",
    "                    if df_opp['pos'][j] == 'SF':\n",
    "                        matchup_index.append(j)\n",
    "                        df_opp['pos'].drop(j, inplace=True)\n",
    "                        break\n",
    "\n",
    "            if i == 'F':\n",
    "                for j in df_opp['pos'].index:\n",
    "                    if df_opp['pos'][j] == 'PF':\n",
    "                        matchup_index.append(j)\n",
    "                        df_opp['pos'].drop(j, inplace=True)\n",
    "                        break\n",
    "                for j in df_opp['pos'].index:\n",
    "                    if df_opp['pos'][j] == 'SF':\n",
    "                        matchup_index.append(j)\n",
    "                        df_opp['pos'].drop(j, inplace=True)\n",
    "                        break\n",
    "                for j in df_opp['pos'].index:\n",
    "                    if df_opp['pos'][j] == 'F':\n",
    "                        matchup_index.append(j)\n",
    "                        df_opp['pos'].drop(j, inplace=True)\n",
    "                        break\n",
    "            try:\n",
    "                matchup_index.append(df_opp['pos'].index[0])\n",
    "                df_opp['pos'].drop(df_opp['pos'].index[0], inplace=True)\n",
    "            except:\n",
    "                pass\n",
    "        df.merge()\n",
    "        # Do a thing that appends select cols to the right\n"
   ]
  },
  {
   "cell_type": "markdown",
   "metadata": {},
   "source": [
    "# Modeling"
   ]
  },
  {
   "cell_type": "code",
   "execution_count": 141,
   "metadata": {
    "collapsed": true
   },
   "outputs": [],
   "source": [
    "# Come back to set X to drop just pts and 'Unnamed:0'\n",
    "\n",
    "X = df.drop(['pts'], axis=1)\n",
    "y = df['pts']"
   ]
  },
  {
   "cell_type": "code",
   "execution_count": 143,
   "metadata": {},
   "outputs": [
    {
     "data": {
      "text/plain": [
       "Index(['gs', 'mp', 'fg', 'fga', 'fg2', 'fg2a', 'fg3', 'fg3a', 'ft', 'fta',\n",
       "       'orb', 'drb', 'ast', 'stl', 'blk', 'tov', 'pf', 'game_score', 'year',\n",
       "       'month', 'season', 'W', 'C', 'F', 'G', 'PF', 'PG', 'SF', 'SG'],\n",
       "      dtype='object')"
      ]
     },
     "execution_count": 143,
     "metadata": {},
     "output_type": "execute_result"
    }
   ],
   "source": [
    "X.columns"
   ]
  },
  {
   "cell_type": "code",
   "execution_count": 115,
   "metadata": {
    "collapsed": true
   },
   "outputs": [],
   "source": [
    "X_train, X_test, y_train, y_test = train_test_split(X,y)"
   ]
  },
  {
   "cell_type": "code",
   "execution_count": 116,
   "metadata": {},
   "outputs": [
    {
     "name": "stdout",
     "output_type": "stream",
     "text": [
      "(653562, 30)\n",
      "(653562,)\n",
      "(217855, 30)\n",
      "(217855,)\n"
     ]
    }
   ],
   "source": [
    "print(X_train.shape)\n",
    "print(y_train.shape)\n",
    "print(X_test.shape)\n",
    "print(y_test.shape)"
   ]
  },
  {
   "cell_type": "code",
   "execution_count": 117,
   "metadata": {},
   "outputs": [
    {
     "name": "stderr",
     "output_type": "stream",
     "text": [
      "/anaconda3/lib/python3.6/site-packages/scipy/linalg/basic.py:1226: RuntimeWarning: internal gelsd driver lwork query error, required iwork dimension not returned. This is likely the result of LAPACK bug 0038, fixed in LAPACK 3.2.2 (released July 21, 2010). Falling back to 'gelss' driver.\n",
      "  warnings.warn(mesg, RuntimeWarning)\n"
     ]
    },
    {
     "data": {
      "text/plain": [
       "LinearRegression(copy_X=True, fit_intercept=True, n_jobs=1, normalize=False)"
      ]
     },
     "execution_count": 117,
     "metadata": {},
     "output_type": "execute_result"
    }
   ],
   "source": [
    "linreg = LinearRegression()\n",
    "linreg.fit(X_train, y_train)"
   ]
  },
  {
   "cell_type": "code",
   "execution_count": 119,
   "metadata": {},
   "outputs": [
    {
     "data": {
      "text/plain": [
       "array([1., 1., 1.])"
      ]
     },
     "execution_count": 119,
     "metadata": {},
     "output_type": "execute_result"
    }
   ],
   "source": [
    "cross_val_score(linreg, X_train, y_train)"
   ]
  },
  {
   "cell_type": "code",
   "execution_count": null,
   "metadata": {
    "collapsed": true
   },
   "outputs": [],
   "source": []
  }
 ],
 "metadata": {
  "kernelspec": {
   "display_name": "Python [default]",
   "language": "python",
   "name": "python3"
  },
  "language_info": {
   "codemirror_mode": {
    "name": "ipython",
    "version": 3
   },
   "file_extension": ".py",
   "mimetype": "text/x-python",
   "name": "python",
   "nbconvert_exporter": "python",
   "pygments_lexer": "ipython3",
   "version": "3.6.3"
  }
 },
 "nbformat": 4,
 "nbformat_minor": 2
}
