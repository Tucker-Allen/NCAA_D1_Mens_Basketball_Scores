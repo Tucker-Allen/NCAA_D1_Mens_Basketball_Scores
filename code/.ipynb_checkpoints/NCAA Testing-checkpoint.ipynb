{
 "cells": [
  {
   "cell_type": "code",
   "execution_count": 1,
   "metadata": {
    "collapsed": true
   },
   "outputs": [],
   "source": [
    "import pandas as pd"
   ]
  },
  {
   "cell_type": "code",
   "execution_count": 2,
   "metadata": {
    "collapsed": true
   },
   "outputs": [],
   "source": [
    "df1 = pd.read_csv('../data/offset_0-200000.csv')\n",
    "df2 = pd.read_csv('../data/offset_200000-300000.csv')\n",
    "df3 = pd.read_csv('../data/offset_300000-475000.csv')\n",
    "df4 = pd.read_csv('../data/offset_475000-550000.csv')\n",
    "df5 = pd.read_csv('../data/offset_550000-600000.csv')\n",
    "df6 = pd.read_csv('../data/offset_600000-725000.csv')\n",
    "df7 = pd.read_csv('../data/offset_725000-909000.csv')"
   ]
  },
  {
   "cell_type": "code",
   "execution_count": 3,
   "metadata": {
    "collapsed": true
   },
   "outputs": [],
   "source": [
    "df = pd.concat([df1, df2, df3, df4, df5, df6, df7])"
   ]
  },
  {
   "cell_type": "code",
   "execution_count": 4,
   "metadata": {},
   "outputs": [
    {
     "data": {
      "text/plain": [
       "(909700, 31)"
      ]
     },
     "execution_count": 4,
     "metadata": {},
     "output_type": "execute_result"
    }
   ],
   "source": [
    "df.shape"
   ]
  },
  {
   "cell_type": "code",
   "execution_count": 5,
   "metadata": {},
   "outputs": [
    {
     "data": {
      "text/plain": [
       "Unnamed: 0          0\n",
       "player              0\n",
       "pos                91\n",
       "date_game           0\n",
       "school_id           0\n",
       "opp_id          38014\n",
       "game_result         0\n",
       "gs               1558\n",
       "mp                  0\n",
       "fg                  0\n",
       "fga                 0\n",
       "fg_pct         107301\n",
       "fg2                 0\n",
       "fg2a                0\n",
       "fg2_pct        173922\n",
       "fg3                 0\n",
       "fg3a                0\n",
       "fg3_pct        384069\n",
       "ft                  0\n",
       "fta                 0\n",
       "ft_pct         415522\n",
       "orb                 0\n",
       "drb                 0\n",
       "trb                 0\n",
       "ast                 0\n",
       "stl                 0\n",
       "blk                 0\n",
       "tov                 0\n",
       "pf                  0\n",
       "pts                 0\n",
       "game_score          0\n",
       "dtype: int64"
      ]
     },
     "execution_count": 5,
     "metadata": {},
     "output_type": "execute_result"
    }
   ],
   "source": [
    "df.isnull().sum()"
   ]
  },
  {
   "cell_type": "code",
   "execution_count": 6,
   "metadata": {},
   "outputs": [
    {
     "data": {
      "text/plain": [
       "16668"
      ]
     },
     "execution_count": 6,
     "metadata": {},
     "output_type": "execute_result"
    }
   ],
   "source": [
    "df['player'].nunique()"
   ]
  },
  {
   "cell_type": "code",
   "execution_count": 7,
   "metadata": {},
   "outputs": [
    {
     "data": {
      "text/plain": [
       "200"
      ]
     },
     "execution_count": 7,
     "metadata": {},
     "output_type": "execute_result"
    }
   ],
   "source": [
    "df.duplicated().sum()"
   ]
  },
  {
   "cell_type": "code",
   "execution_count": null,
   "metadata": {
    "collapsed": true
   },
   "outputs": [],
   "source": []
  }
 ],
 "metadata": {
  "kernelspec": {
   "display_name": "Python [default]",
   "language": "python",
   "name": "python3"
  },
  "language_info": {
   "codemirror_mode": {
    "name": "ipython",
    "version": 3
   },
   "file_extension": ".py",
   "mimetype": "text/x-python",
   "name": "python",
   "nbconvert_exporter": "python",
   "pygments_lexer": "ipython3",
   "version": "3.6.3"
  }
 },
 "nbformat": 4,
 "nbformat_minor": 2
}
