{
 "cells": [
  {
   "cell_type": "code",
   "execution_count": null,
   "metadata": {
    "collapsed": true
   },
   "outputs": [],
   "source": [
    "# Look into Home/Away data\n",
    "# Refine offensive/defensive characterization\n",
    "# Could explore boosted models\n",
    "# Could explore neural nets"
   ]
  },
  {
   "cell_type": "markdown",
   "metadata": {},
   "source": [
    "## Imports"
   ]
  },
  {
   "cell_type": "code",
   "execution_count": 1,
   "metadata": {
    "collapsed": true
   },
   "outputs": [],
   "source": [
    "import pandas as pd\n",
    "import numpy as np\n",
    "from datetime import datetime\n",
    "\n",
    "#from sklearn.linear_model import LinearRegression\n",
    "#from sklearn.ensemble import RandomForestRegressor\n",
    "\n",
    "from sklearn.linear_model import LogisticRegression\n",
    "from sklearn.neighbors import KNeighborsClassifier\n",
    "from sklearn.ensemble import RandomForestClassifier\n",
    "from sklearn.model_selection import GridSearchCV\n",
    "from sklearn.model_selection import RandomizedSearchCV\n",
    "\n",
    "from sklearn.metrics import classification_report\n",
    "from sklearn.metrics import confusion_matrix\n",
    "from sklearn.metrics import roc_auc_score\n",
    "from sklearn.metrics import roc_curve\n",
    "from sklearn.metrics import auc\n",
    "\n",
    "from sklearn.preprocessing import StandardScaler\n",
    "\n",
    "from sklearn.model_selection import train_test_split\n",
    "from sklearn.model_selection import cross_val_score\n",
    "#from sklearn.metrics import r2_score\n",
    "#from sklearn.feature_extraction.text import CountVectorizer\n",
    "\n",
    "from sklearn.decomposition import PCA\n",
    "\n",
    "import os\n",
    "import re\n",
    "from datetime import datetime\n",
    "from datetime import timedelta\n",
    "from operator import itemgetter\n",
    "from string import digits\n",
    "\n",
    "import requests\n",
    "from bs4 import BeautifulSoup\n",
    "import time\n",
    "\n",
    "from collections import Counter\n",
    "\n",
    "import matplotlib.pyplot as plt\n",
    "\n",
    "%matplotlib inline"
   ]
  },
  {
   "cell_type": "markdown",
   "metadata": {},
   "source": [
    "## Read in Player_By_Game Data from Scraper"
   ]
  },
  {
   "cell_type": "code",
   "execution_count": 2,
   "metadata": {},
   "outputs": [
    {
     "data": {
      "text/html": [
       "<div>\n",
       "<style>\n",
       "    .dataframe thead tr:only-child th {\n",
       "        text-align: right;\n",
       "    }\n",
       "\n",
       "    .dataframe thead th {\n",
       "        text-align: left;\n",
       "    }\n",
       "\n",
       "    .dataframe tbody tr th {\n",
       "        vertical-align: top;\n",
       "    }\n",
       "</style>\n",
       "<table border=\"1\" class=\"dataframe\">\n",
       "  <thead>\n",
       "    <tr style=\"text-align: right;\">\n",
       "      <th></th>\n",
       "      <th></th>\n",
       "      <th>player</th>\n",
       "      <th>pos</th>\n",
       "      <th>date_game</th>\n",
       "      <th>school_id</th>\n",
       "      <th>opp_id</th>\n",
       "      <th>gs</th>\n",
       "      <th>mp</th>\n",
       "      <th>fg</th>\n",
       "      <th>fga</th>\n",
       "      <th>fg2</th>\n",
       "      <th>...</th>\n",
       "      <th>stl</th>\n",
       "      <th>blk</th>\n",
       "      <th>tov</th>\n",
       "      <th>pf</th>\n",
       "      <th>pts</th>\n",
       "      <th>game_score</th>\n",
       "      <th>year</th>\n",
       "      <th>month</th>\n",
       "      <th>season</th>\n",
       "      <th>W</th>\n",
       "    </tr>\n",
       "    <tr>\n",
       "      <th>player</th>\n",
       "      <th>date_game</th>\n",
       "      <th></th>\n",
       "      <th></th>\n",
       "      <th></th>\n",
       "      <th></th>\n",
       "      <th></th>\n",
       "      <th></th>\n",
       "      <th></th>\n",
       "      <th></th>\n",
       "      <th></th>\n",
       "      <th></th>\n",
       "      <th></th>\n",
       "      <th></th>\n",
       "      <th></th>\n",
       "      <th></th>\n",
       "      <th></th>\n",
       "      <th></th>\n",
       "      <th></th>\n",
       "      <th></th>\n",
       "      <th></th>\n",
       "      <th></th>\n",
       "      <th></th>\n",
       "    </tr>\n",
       "  </thead>\n",
       "  <tbody>\n",
       "    <tr>\n",
       "      <th>Nate Wolters</th>\n",
       "      <th>2013-02-07</th>\n",
       "      <td>Nate Wolters</td>\n",
       "      <td>G</td>\n",
       "      <td>2013-02-07</td>\n",
       "      <td>South Dakota State</td>\n",
       "      <td>IPFW</td>\n",
       "      <td>1.0</td>\n",
       "      <td>40</td>\n",
       "      <td>17</td>\n",
       "      <td>28</td>\n",
       "      <td>8</td>\n",
       "      <td>...</td>\n",
       "      <td>1</td>\n",
       "      <td>1</td>\n",
       "      <td>3</td>\n",
       "      <td>0</td>\n",
       "      <td>53</td>\n",
       "      <td>42.6</td>\n",
       "      <td>2013</td>\n",
       "      <td>2</td>\n",
       "      <td>2013</td>\n",
       "      <td>1</td>\n",
       "    </tr>\n",
       "    <tr>\n",
       "      <th>Marshon Brooks</th>\n",
       "      <th>2011-02-23</th>\n",
       "      <td>Marshon Brooks</td>\n",
       "      <td>G</td>\n",
       "      <td>2011-02-23</td>\n",
       "      <td>Providence</td>\n",
       "      <td>Notre Dame</td>\n",
       "      <td>1.0</td>\n",
       "      <td>40</td>\n",
       "      <td>20</td>\n",
       "      <td>28</td>\n",
       "      <td>14</td>\n",
       "      <td>...</td>\n",
       "      <td>1</td>\n",
       "      <td>0</td>\n",
       "      <td>1</td>\n",
       "      <td>4</td>\n",
       "      <td>52</td>\n",
       "      <td>42.3</td>\n",
       "      <td>2011</td>\n",
       "      <td>2</td>\n",
       "      <td>2011</td>\n",
       "      <td>0</td>\n",
       "    </tr>\n",
       "    <tr>\n",
       "      <th>Jimmer Fredette</th>\n",
       "      <th>2011-03-11</th>\n",
       "      <td>Jimmer Fredette</td>\n",
       "      <td>G</td>\n",
       "      <td>2011-03-11</td>\n",
       "      <td>Brigham Young</td>\n",
       "      <td>New Mexico</td>\n",
       "      <td>1.0</td>\n",
       "      <td>40</td>\n",
       "      <td>22</td>\n",
       "      <td>37</td>\n",
       "      <td>15</td>\n",
       "      <td>...</td>\n",
       "      <td>1</td>\n",
       "      <td>0</td>\n",
       "      <td>2</td>\n",
       "      <td>2</td>\n",
       "      <td>52</td>\n",
       "      <td>36.5</td>\n",
       "      <td>2011</td>\n",
       "      <td>3</td>\n",
       "      <td>2011</td>\n",
       "      <td>1</td>\n",
       "    </tr>\n",
       "    <tr>\n",
       "      <th>Markus Howard</th>\n",
       "      <th>2018-01-03</th>\n",
       "      <td>Markus Howard</td>\n",
       "      <td>G</td>\n",
       "      <td>2018-01-03</td>\n",
       "      <td>Marquette</td>\n",
       "      <td>Providence</td>\n",
       "      <td>1.0</td>\n",
       "      <td>44</td>\n",
       "      <td>17</td>\n",
       "      <td>29</td>\n",
       "      <td>6</td>\n",
       "      <td>...</td>\n",
       "      <td>2</td>\n",
       "      <td>0</td>\n",
       "      <td>2</td>\n",
       "      <td>1</td>\n",
       "      <td>52</td>\n",
       "      <td>39.8</td>\n",
       "      <td>2018</td>\n",
       "      <td>1</td>\n",
       "      <td>2018</td>\n",
       "      <td>1</td>\n",
       "    </tr>\n",
       "    <tr>\n",
       "      <th>Mike Daum</th>\n",
       "      <th>2017-02-18</th>\n",
       "      <td>Mike Daum</td>\n",
       "      <td>F</td>\n",
       "      <td>2017-02-18</td>\n",
       "      <td>South Dakota State</td>\n",
       "      <td>IPFW</td>\n",
       "      <td>1.0</td>\n",
       "      <td>36</td>\n",
       "      <td>14</td>\n",
       "      <td>29</td>\n",
       "      <td>7</td>\n",
       "      <td>...</td>\n",
       "      <td>0</td>\n",
       "      <td>1</td>\n",
       "      <td>2</td>\n",
       "      <td>0</td>\n",
       "      <td>51</td>\n",
       "      <td>39.8</td>\n",
       "      <td>2017</td>\n",
       "      <td>2</td>\n",
       "      <td>2017</td>\n",
       "      <td>1</td>\n",
       "    </tr>\n",
       "  </tbody>\n",
       "</table>\n",
       "<p>5 rows × 28 columns</p>\n",
       "</div>"
      ],
      "text/plain": [
       "                                     player pos  date_game  \\\n",
       "player          date_game                                    \n",
       "Nate Wolters    2013-02-07     Nate Wolters   G 2013-02-07   \n",
       "Marshon Brooks  2011-02-23   Marshon Brooks   G 2011-02-23   \n",
       "Jimmer Fredette 2011-03-11  Jimmer Fredette   G 2011-03-11   \n",
       "Markus Howard   2018-01-03    Markus Howard   G 2018-01-03   \n",
       "Mike Daum       2017-02-18        Mike Daum   F 2017-02-18   \n",
       "\n",
       "                                     school_id      opp_id   gs  mp  fg  fga  \\\n",
       "player          date_game                                                      \n",
       "Nate Wolters    2013-02-07  South Dakota State        IPFW  1.0  40  17   28   \n",
       "Marshon Brooks  2011-02-23          Providence  Notre Dame  1.0  40  20   28   \n",
       "Jimmer Fredette 2011-03-11       Brigham Young  New Mexico  1.0  40  22   37   \n",
       "Markus Howard   2018-01-03           Marquette  Providence  1.0  44  17   29   \n",
       "Mike Daum       2017-02-18  South Dakota State        IPFW  1.0  36  14   29   \n",
       "\n",
       "                            fg2 ...  stl  blk  tov  pf  pts  game_score  year  \\\n",
       "player          date_game       ...                                             \n",
       "Nate Wolters    2013-02-07    8 ...    1    1    3   0   53        42.6  2013   \n",
       "Marshon Brooks  2011-02-23   14 ...    1    0    1   4   52        42.3  2011   \n",
       "Jimmer Fredette 2011-03-11   15 ...    1    0    2   2   52        36.5  2011   \n",
       "Markus Howard   2018-01-03    6 ...    2    0    2   1   52        39.8  2018   \n",
       "Mike Daum       2017-02-18    7 ...    0    1    2   0   51        39.8  2017   \n",
       "\n",
       "                            month  season  W  \n",
       "player          date_game                     \n",
       "Nate Wolters    2013-02-07      2    2013  1  \n",
       "Marshon Brooks  2011-02-23      2    2011  0  \n",
       "Jimmer Fredette 2011-03-11      3    2011  1  \n",
       "Markus Howard   2018-01-03      1    2018  1  \n",
       "Mike Daum       2017-02-18      2    2017  1  \n",
       "\n",
       "[5 rows x 28 columns]"
      ]
     },
     "execution_count": 2,
     "metadata": {},
     "output_type": "execute_result"
    }
   ],
   "source": [
    "df = pd.read_csv('../data/player_boxscores_df.csv', index_col=0)\n",
    "df['date_game'] = pd.to_datetime(df['date_game'])\n",
    "df.set_index(['player', 'date_game'], drop=False, inplace=True)\n",
    "df.head()"
   ]
  },
  {
   "cell_type": "code",
   "execution_count": 3,
   "metadata": {
    "collapsed": true
   },
   "outputs": [],
   "source": [
    "# May be useful to scrape and get Class/Height/Weight of Players, then generate a \"Mismatch\"\n",
    "# feature to apply to the team_level game."
   ]
  },
  {
   "cell_type": "code",
   "execution_count": 7,
   "metadata": {},
   "outputs": [
    {
     "data": {
      "text/plain": [
       "0"
      ]
     },
     "execution_count": 7,
     "metadata": {},
     "output_type": "execute_result"
    }
   ],
   "source": [
    "df.duplicated().sum()"
   ]
  },
  {
   "cell_type": "code",
   "execution_count": 19,
   "metadata": {},
   "outputs": [
    {
     "data": {
      "text/plain": [
       "(870131, 28)"
      ]
     },
     "execution_count": 19,
     "metadata": {},
     "output_type": "execute_result"
    }
   ],
   "source": [
    "df.shape"
   ]
  },
  {
   "cell_type": "code",
   "execution_count": 8,
   "metadata": {},
   "outputs": [
    {
     "name": "stdout",
     "output_type": "stream",
     "text": [
      "2018-03-07 00:00:00\n",
      "2010-11-08 00:00:00\n"
     ]
    }
   ],
   "source": [
    "print(df['date_game'].max())\n",
    "print(df['date_game'].min())"
   ]
  },
  {
   "cell_type": "code",
   "execution_count": 17,
   "metadata": {},
   "outputs": [
    {
     "data": {
      "text/plain": [
       "345"
      ]
     },
     "execution_count": 17,
     "metadata": {},
     "output_type": "execute_result"
    }
   ],
   "source": [
    "len(df[df['season']==2011]['school_id'].unique())"
   ]
  },
  {
   "cell_type": "code",
   "execution_count": 18,
   "metadata": {},
   "outputs": [
    {
     "data": {
      "text/plain": [
       "351"
      ]
     },
     "execution_count": 18,
     "metadata": {},
     "output_type": "execute_result"
    }
   ],
   "source": [
    "len(df[df['year']==2018]['school_id'].unique())"
   ]
  },
  {
   "cell_type": "markdown",
   "metadata": {},
   "source": [
    "## Bring in School Data from Scraper"
   ]
  },
  {
   "cell_type": "code",
   "execution_count": 20,
   "metadata": {},
   "outputs": [
    {
     "data": {
      "text/html": [
       "<div>\n",
       "<style>\n",
       "    .dataframe thead tr:only-child th {\n",
       "        text-align: right;\n",
       "    }\n",
       "\n",
       "    .dataframe thead th {\n",
       "        text-align: left;\n",
       "    }\n",
       "\n",
       "    .dataframe tbody tr th {\n",
       "        vertical-align: top;\n",
       "    }\n",
       "</style>\n",
       "<table border=\"1\" class=\"dataframe\">\n",
       "  <thead>\n",
       "    <tr style=\"text-align: right;\">\n",
       "      <th></th>\n",
       "      <th>School</th>\n",
       "      <th>WinLossPct</th>\n",
       "      <th>SRS</th>\n",
       "      <th>SOS</th>\n",
       "      <th>Year</th>\n",
       "    </tr>\n",
       "  </thead>\n",
       "  <tbody>\n",
       "    <tr>\n",
       "      <th>0</th>\n",
       "      <td>Air Force</td>\n",
       "      <td>0.323</td>\n",
       "      <td>-4.90</td>\n",
       "      <td>3.13</td>\n",
       "      <td>2010</td>\n",
       "    </tr>\n",
       "    <tr>\n",
       "      <th>1</th>\n",
       "      <td>Akron</td>\n",
       "      <td>0.686</td>\n",
       "      <td>2.82</td>\n",
       "      <td>-1.50</td>\n",
       "      <td>2010</td>\n",
       "    </tr>\n",
       "    <tr>\n",
       "      <th>2</th>\n",
       "      <td>Alabama A&amp;M</td>\n",
       "      <td>0.407</td>\n",
       "      <td>-20.19</td>\n",
       "      <td>-13.71</td>\n",
       "      <td>2010</td>\n",
       "    </tr>\n",
       "    <tr>\n",
       "      <th>3</th>\n",
       "      <td>Alabama-Birmingham</td>\n",
       "      <td>0.735</td>\n",
       "      <td>9.46</td>\n",
       "      <td>2.90</td>\n",
       "      <td>2010</td>\n",
       "    </tr>\n",
       "    <tr>\n",
       "      <th>4</th>\n",
       "      <td>Alabama State</td>\n",
       "      <td>0.516</td>\n",
       "      <td>-14.41</td>\n",
       "      <td>-12.02</td>\n",
       "      <td>2010</td>\n",
       "    </tr>\n",
       "  </tbody>\n",
       "</table>\n",
       "</div>"
      ],
      "text/plain": [
       "               School  WinLossPct    SRS    SOS  Year\n",
       "0           Air Force       0.323  -4.90   3.13  2010\n",
       "1               Akron       0.686   2.82  -1.50  2010\n",
       "2         Alabama A&M       0.407 -20.19 -13.71  2010\n",
       "3  Alabama-Birmingham       0.735   9.46   2.90  2010\n",
       "4       Alabama State       0.516 -14.41 -12.02  2010"
      ]
     },
     "execution_count": 20,
     "metadata": {},
     "output_type": "execute_result"
    }
   ],
   "source": [
    "school_df = pd.read_csv('../data/schools.csv', index_col=0)\n",
    "school_df.head()"
   ]
  },
  {
   "cell_type": "code",
   "execution_count": 21,
   "metadata": {
    "collapsed": true
   },
   "outputs": [],
   "source": [
    "school_df = school_df.rename(columns = {'School':'school_id', 'Year':'year'})"
   ]
  },
  {
   "cell_type": "code",
   "execution_count": 22,
   "metadata": {
    "collapsed": true
   },
   "outputs": [],
   "source": [
    "school_df.set_index(['school_id', 'year'], drop=False, inplace=True)"
   ]
  },
  {
   "cell_type": "code",
   "execution_count": 23,
   "metadata": {},
   "outputs": [
    {
     "data": {
      "text/html": [
       "<div>\n",
       "<style>\n",
       "    .dataframe thead tr:only-child th {\n",
       "        text-align: right;\n",
       "    }\n",
       "\n",
       "    .dataframe thead th {\n",
       "        text-align: left;\n",
       "    }\n",
       "\n",
       "    .dataframe tbody tr th {\n",
       "        vertical-align: top;\n",
       "    }\n",
       "</style>\n",
       "<table border=\"1\" class=\"dataframe\">\n",
       "  <thead>\n",
       "    <tr style=\"text-align: right;\">\n",
       "      <th></th>\n",
       "      <th></th>\n",
       "      <th>school_id</th>\n",
       "      <th>WinLossPct</th>\n",
       "      <th>SRS</th>\n",
       "      <th>SOS</th>\n",
       "      <th>year</th>\n",
       "    </tr>\n",
       "    <tr>\n",
       "      <th>school_id</th>\n",
       "      <th>year</th>\n",
       "      <th></th>\n",
       "      <th></th>\n",
       "      <th></th>\n",
       "      <th></th>\n",
       "      <th></th>\n",
       "    </tr>\n",
       "  </thead>\n",
       "  <tbody>\n",
       "    <tr>\n",
       "      <th>Air Force</th>\n",
       "      <th>2010</th>\n",
       "      <td>Air Force</td>\n",
       "      <td>0.323</td>\n",
       "      <td>-4.90</td>\n",
       "      <td>3.13</td>\n",
       "      <td>2010</td>\n",
       "    </tr>\n",
       "    <tr>\n",
       "      <th>Akron</th>\n",
       "      <th>2010</th>\n",
       "      <td>Akron</td>\n",
       "      <td>0.686</td>\n",
       "      <td>2.82</td>\n",
       "      <td>-1.50</td>\n",
       "      <td>2010</td>\n",
       "    </tr>\n",
       "    <tr>\n",
       "      <th>Alabama A&amp;M</th>\n",
       "      <th>2010</th>\n",
       "      <td>Alabama A&amp;M</td>\n",
       "      <td>0.407</td>\n",
       "      <td>-20.19</td>\n",
       "      <td>-13.71</td>\n",
       "      <td>2010</td>\n",
       "    </tr>\n",
       "    <tr>\n",
       "      <th>Alabama-Birmingham</th>\n",
       "      <th>2010</th>\n",
       "      <td>Alabama-Birmingham</td>\n",
       "      <td>0.735</td>\n",
       "      <td>9.46</td>\n",
       "      <td>2.90</td>\n",
       "      <td>2010</td>\n",
       "    </tr>\n",
       "    <tr>\n",
       "      <th>Alabama State</th>\n",
       "      <th>2010</th>\n",
       "      <td>Alabama State</td>\n",
       "      <td>0.516</td>\n",
       "      <td>-14.41</td>\n",
       "      <td>-12.02</td>\n",
       "      <td>2010</td>\n",
       "    </tr>\n",
       "  </tbody>\n",
       "</table>\n",
       "</div>"
      ],
      "text/plain": [
       "                                  school_id  WinLossPct    SRS    SOS  year\n",
       "school_id          year                                                    \n",
       "Air Force          2010           Air Force       0.323  -4.90   3.13  2010\n",
       "Akron              2010               Akron       0.686   2.82  -1.50  2010\n",
       "Alabama A&M        2010         Alabama A&M       0.407 -20.19 -13.71  2010\n",
       "Alabama-Birmingham 2010  Alabama-Birmingham       0.735   9.46   2.90  2010\n",
       "Alabama State      2010       Alabama State       0.516 -14.41 -12.02  2010"
      ]
     },
     "execution_count": 23,
     "metadata": {},
     "output_type": "execute_result"
    }
   ],
   "source": [
    "school_df.head()"
   ]
  },
  {
   "cell_type": "code",
   "execution_count": 24,
   "metadata": {
    "collapsed": true
   },
   "outputs": [],
   "source": [
    "# May be useful scrape Ortg/Drtg and apply as features to the team_level game."
   ]
  },
  {
   "cell_type": "markdown",
   "metadata": {},
   "source": [
    "# Evaluation at the Team Level"
   ]
  },
  {
   "cell_type": "markdown",
   "metadata": {},
   "source": [
    "### Set up \"MyTeam\""
   ]
  },
  {
   "cell_type": "code",
   "execution_count": 25,
   "metadata": {},
   "outputs": [
    {
     "name": "stderr",
     "output_type": "stream",
     "text": [
      "/anaconda3/lib/python3.6/site-packages/ipykernel/__main__.py:1: FutureWarning: 'date_game' is both a column name and an index level.\n",
      "Defaulting to column but this will raise an ambiguity error in a future version\n",
      "  if __name__ == '__main__':\n"
     ]
    }
   ],
   "source": [
    "myteam_df = df.groupby(['school_id', 'opp_id', 'date_game']).sum()"
   ]
  },
  {
   "cell_type": "code",
   "execution_count": 26,
   "metadata": {
    "collapsed": true
   },
   "outputs": [],
   "source": [
    "# Sum of 'game_started' flag and 'minutes_played' meaningless, so we can drop\n",
    "myteam_df.drop(['gs', 'mp', 'month', 'year', 'season'], axis=1, inplace=True)"
   ]
  },
  {
   "cell_type": "code",
   "execution_count": 27,
   "metadata": {
    "collapsed": true
   },
   "outputs": [],
   "source": [
    "# Drop 'fg' and 'fga' since these are captured in 'fg2'/'fg2a'/'fg3'/'fg3a'\n",
    "myteam_df.drop(['fg', 'fga'], axis=1, inplace=True)"
   ]
  },
  {
   "cell_type": "code",
   "execution_count": 28,
   "metadata": {
    "collapsed": true
   },
   "outputs": [],
   "source": [
    "# Change to 0/1 Flags\n",
    "myteam_df['W'] = myteam_df['W'].apply(lambda x: 1 if x > 0 else 0)"
   ]
  },
  {
   "cell_type": "code",
   "execution_count": 29,
   "metadata": {
    "collapsed": true
   },
   "outputs": [],
   "source": [
    "myteam_df.reset_index(inplace=True)"
   ]
  },
  {
   "cell_type": "code",
   "execution_count": 30,
   "metadata": {
    "collapsed": true
   },
   "outputs": [],
   "source": [
    "myteam_df.set_index(['school_id', 'date_game'], drop=False, inplace=True)"
   ]
  },
  {
   "cell_type": "code",
   "execution_count": 31,
   "metadata": {},
   "outputs": [
    {
     "data": {
      "text/html": [
       "<div>\n",
       "<style>\n",
       "    .dataframe thead tr:only-child th {\n",
       "        text-align: right;\n",
       "    }\n",
       "\n",
       "    .dataframe thead th {\n",
       "        text-align: left;\n",
       "    }\n",
       "\n",
       "    .dataframe tbody tr th {\n",
       "        vertical-align: top;\n",
       "    }\n",
       "</style>\n",
       "<table border=\"1\" class=\"dataframe\">\n",
       "  <thead>\n",
       "    <tr style=\"text-align: right;\">\n",
       "      <th></th>\n",
       "      <th></th>\n",
       "      <th>school_id</th>\n",
       "      <th>opp_id</th>\n",
       "      <th>date_game</th>\n",
       "      <th>fg2</th>\n",
       "      <th>fg2a</th>\n",
       "      <th>fg3</th>\n",
       "      <th>fg3a</th>\n",
       "      <th>ft</th>\n",
       "      <th>fta</th>\n",
       "      <th>orb</th>\n",
       "      <th>drb</th>\n",
       "      <th>ast</th>\n",
       "      <th>stl</th>\n",
       "      <th>blk</th>\n",
       "      <th>tov</th>\n",
       "      <th>pf</th>\n",
       "      <th>pts</th>\n",
       "      <th>game_score</th>\n",
       "      <th>W</th>\n",
       "    </tr>\n",
       "    <tr>\n",
       "      <th>school_id</th>\n",
       "      <th>date_game</th>\n",
       "      <th></th>\n",
       "      <th></th>\n",
       "      <th></th>\n",
       "      <th></th>\n",
       "      <th></th>\n",
       "      <th></th>\n",
       "      <th></th>\n",
       "      <th></th>\n",
       "      <th></th>\n",
       "      <th></th>\n",
       "      <th></th>\n",
       "      <th></th>\n",
       "      <th></th>\n",
       "      <th></th>\n",
       "      <th></th>\n",
       "      <th></th>\n",
       "      <th></th>\n",
       "      <th></th>\n",
       "      <th></th>\n",
       "    </tr>\n",
       "  </thead>\n",
       "  <tbody>\n",
       "    <tr>\n",
       "      <th rowspan=\"5\" valign=\"top\">Abilene Christian</th>\n",
       "      <th>2017-12-06</th>\n",
       "      <td>Abilene Christian</td>\n",
       "      <td>Air Force</td>\n",
       "      <td>2017-12-06</td>\n",
       "      <td>14</td>\n",
       "      <td>29</td>\n",
       "      <td>9</td>\n",
       "      <td>25</td>\n",
       "      <td>7</td>\n",
       "      <td>15</td>\n",
       "      <td>7</td>\n",
       "      <td>17</td>\n",
       "      <td>11</td>\n",
       "      <td>8</td>\n",
       "      <td>4</td>\n",
       "      <td>12</td>\n",
       "      <td>16</td>\n",
       "      <td>62</td>\n",
       "      <td>40.3</td>\n",
       "      <td>1</td>\n",
       "    </tr>\n",
       "    <tr>\n",
       "      <th>2017-11-13</th>\n",
       "      <td>Abilene Christian</td>\n",
       "      <td>Arkansas State</td>\n",
       "      <td>2017-11-13</td>\n",
       "      <td>22</td>\n",
       "      <td>32</td>\n",
       "      <td>3</td>\n",
       "      <td>13</td>\n",
       "      <td>16</td>\n",
       "      <td>20</td>\n",
       "      <td>5</td>\n",
       "      <td>14</td>\n",
       "      <td>11</td>\n",
       "      <td>4</td>\n",
       "      <td>2</td>\n",
       "      <td>13</td>\n",
       "      <td>19</td>\n",
       "      <td>69</td>\n",
       "      <td>46.1</td>\n",
       "      <td>0</td>\n",
       "    </tr>\n",
       "    <tr>\n",
       "      <th>2014-12-23</th>\n",
       "      <td>Abilene Christian</td>\n",
       "      <td>Arkansas-Pine Bluff</td>\n",
       "      <td>2014-12-23</td>\n",
       "      <td>14</td>\n",
       "      <td>25</td>\n",
       "      <td>10</td>\n",
       "      <td>20</td>\n",
       "      <td>11</td>\n",
       "      <td>16</td>\n",
       "      <td>5</td>\n",
       "      <td>22</td>\n",
       "      <td>15</td>\n",
       "      <td>7</td>\n",
       "      <td>2</td>\n",
       "      <td>18</td>\n",
       "      <td>21</td>\n",
       "      <td>69</td>\n",
       "      <td>47.7</td>\n",
       "      <td>1</td>\n",
       "    </tr>\n",
       "    <tr>\n",
       "      <th>2014-12-20</th>\n",
       "      <td>Abilene Christian</td>\n",
       "      <td>Boise State</td>\n",
       "      <td>2014-12-20</td>\n",
       "      <td>5</td>\n",
       "      <td>36</td>\n",
       "      <td>6</td>\n",
       "      <td>19</td>\n",
       "      <td>5</td>\n",
       "      <td>6</td>\n",
       "      <td>11</td>\n",
       "      <td>10</td>\n",
       "      <td>4</td>\n",
       "      <td>4</td>\n",
       "      <td>0</td>\n",
       "      <td>9</td>\n",
       "      <td>12</td>\n",
       "      <td>33</td>\n",
       "      <td>2.2</td>\n",
       "      <td>0</td>\n",
       "    </tr>\n",
       "    <tr>\n",
       "      <th>2017-11-26</th>\n",
       "      <td>Abilene Christian</td>\n",
       "      <td>Bowling Green State</td>\n",
       "      <td>2017-11-26</td>\n",
       "      <td>28</td>\n",
       "      <td>48</td>\n",
       "      <td>6</td>\n",
       "      <td>16</td>\n",
       "      <td>14</td>\n",
       "      <td>18</td>\n",
       "      <td>10</td>\n",
       "      <td>26</td>\n",
       "      <td>18</td>\n",
       "      <td>2</td>\n",
       "      <td>6</td>\n",
       "      <td>8</td>\n",
       "      <td>18</td>\n",
       "      <td>88</td>\n",
       "      <td>73.6</td>\n",
       "      <td>1</td>\n",
       "    </tr>\n",
       "  </tbody>\n",
       "</table>\n",
       "</div>"
      ],
      "text/plain": [
       "                                      school_id               opp_id  \\\n",
       "school_id         date_game                                            \n",
       "Abilene Christian 2017-12-06  Abilene Christian            Air Force   \n",
       "                  2017-11-13  Abilene Christian       Arkansas State   \n",
       "                  2014-12-23  Abilene Christian  Arkansas-Pine Bluff   \n",
       "                  2014-12-20  Abilene Christian          Boise State   \n",
       "                  2017-11-26  Abilene Christian  Bowling Green State   \n",
       "\n",
       "                              date_game  fg2  fg2a  fg3  fg3a  ft  fta  orb  \\\n",
       "school_id         date_game                                                   \n",
       "Abilene Christian 2017-12-06 2017-12-06   14    29    9    25   7   15    7   \n",
       "                  2017-11-13 2017-11-13   22    32    3    13  16   20    5   \n",
       "                  2014-12-23 2014-12-23   14    25   10    20  11   16    5   \n",
       "                  2014-12-20 2014-12-20    5    36    6    19   5    6   11   \n",
       "                  2017-11-26 2017-11-26   28    48    6    16  14   18   10   \n",
       "\n",
       "                              drb  ast  stl  blk  tov  pf  pts  game_score  W  \n",
       "school_id         date_game                                                    \n",
       "Abilene Christian 2017-12-06   17   11    8    4   12  16   62        40.3  1  \n",
       "                  2017-11-13   14   11    4    2   13  19   69        46.1  0  \n",
       "                  2014-12-23   22   15    7    2   18  21   69        47.7  1  \n",
       "                  2014-12-20   10    4    4    0    9  12   33         2.2  0  \n",
       "                  2017-11-26   26   18    2    6    8  18   88        73.6  1  "
      ]
     },
     "execution_count": 31,
     "metadata": {},
     "output_type": "execute_result"
    }
   ],
   "source": [
    "myteam_df.head()"
   ]
  },
  {
   "cell_type": "markdown",
   "metadata": {},
   "source": [
    "### Set up \"YourTeam\" (which will be base defensive characteristics on)"
   ]
  },
  {
   "cell_type": "code",
   "execution_count": 32,
   "metadata": {},
   "outputs": [
    {
     "name": "stderr",
     "output_type": "stream",
     "text": [
      "/anaconda3/lib/python3.6/site-packages/ipykernel/__main__.py:1: FutureWarning: 'date_game' is both a column name and an index level.\n",
      "Defaulting to column but this will raise an ambiguity error in a future version\n",
      "  if __name__ == '__main__':\n"
     ]
    }
   ],
   "source": [
    "yourteam_df = df.groupby(['opp_id', 'school_id', 'date_game']).sum()\n",
    "\n",
    "# Sum of 'game_started' flag and 'minutes_played' meaningless, so we can drop\n",
    "yourteam_df.drop(['gs', 'mp', 'year', 'month', 'season'], axis=1, inplace=True)\n",
    "\n",
    "# Drop 'fg' and 'fga' since these are captured in 'fg2'/'fg2a'/'fg3'/'fg3a'\n",
    "yourteam_df.drop(['fg', 'fga'], axis=1, inplace=True)\n",
    "\n",
    "# Change to 0/1 Flags\n",
    "yourteam_df['W'] = yourteam_df['W'].apply(lambda x: 1 if x > 0 else 0)\n",
    "\n",
    "yourteam_df.reset_index(inplace=True)\n",
    "\n",
    "yourteam_df.set_index(['opp_id', 'date_game'], drop=False, inplace=True)"
   ]
  },
  {
   "cell_type": "code",
   "execution_count": 33,
   "metadata": {
    "collapsed": true
   },
   "outputs": [],
   "source": [
    "yourteam_df.columns = 'heldto_' + yourteam_df.columns"
   ]
  },
  {
   "cell_type": "code",
   "execution_count": 34,
   "metadata": {},
   "outputs": [
    {
     "data": {
      "text/html": [
       "<div>\n",
       "<style>\n",
       "    .dataframe thead tr:only-child th {\n",
       "        text-align: right;\n",
       "    }\n",
       "\n",
       "    .dataframe thead th {\n",
       "        text-align: left;\n",
       "    }\n",
       "\n",
       "    .dataframe tbody tr th {\n",
       "        vertical-align: top;\n",
       "    }\n",
       "</style>\n",
       "<table border=\"1\" class=\"dataframe\">\n",
       "  <thead>\n",
       "    <tr style=\"text-align: right;\">\n",
       "      <th></th>\n",
       "      <th></th>\n",
       "      <th>heldto_opp_id</th>\n",
       "      <th>heldto_school_id</th>\n",
       "      <th>heldto_date_game</th>\n",
       "      <th>heldto_fg2</th>\n",
       "      <th>heldto_fg2a</th>\n",
       "      <th>heldto_fg3</th>\n",
       "      <th>heldto_fg3a</th>\n",
       "      <th>heldto_ft</th>\n",
       "      <th>heldto_fta</th>\n",
       "      <th>heldto_orb</th>\n",
       "      <th>heldto_drb</th>\n",
       "      <th>heldto_ast</th>\n",
       "      <th>heldto_stl</th>\n",
       "      <th>heldto_blk</th>\n",
       "      <th>heldto_tov</th>\n",
       "      <th>heldto_pf</th>\n",
       "      <th>heldto_pts</th>\n",
       "      <th>heldto_game_score</th>\n",
       "      <th>heldto_W</th>\n",
       "    </tr>\n",
       "    <tr>\n",
       "      <th>opp_id</th>\n",
       "      <th>date_game</th>\n",
       "      <th></th>\n",
       "      <th></th>\n",
       "      <th></th>\n",
       "      <th></th>\n",
       "      <th></th>\n",
       "      <th></th>\n",
       "      <th></th>\n",
       "      <th></th>\n",
       "      <th></th>\n",
       "      <th></th>\n",
       "      <th></th>\n",
       "      <th></th>\n",
       "      <th></th>\n",
       "      <th></th>\n",
       "      <th></th>\n",
       "      <th></th>\n",
       "      <th></th>\n",
       "      <th></th>\n",
       "      <th></th>\n",
       "    </tr>\n",
       "  </thead>\n",
       "  <tbody>\n",
       "    <tr>\n",
       "      <th rowspan=\"5\" valign=\"top\">Abilene Christian</th>\n",
       "      <th>2017-12-06</th>\n",
       "      <td>Abilene Christian</td>\n",
       "      <td>Air Force</td>\n",
       "      <td>2017-12-06</td>\n",
       "      <td>22</td>\n",
       "      <td>33</td>\n",
       "      <td>3</td>\n",
       "      <td>18</td>\n",
       "      <td>5</td>\n",
       "      <td>8</td>\n",
       "      <td>5</td>\n",
       "      <td>28</td>\n",
       "      <td>15</td>\n",
       "      <td>5</td>\n",
       "      <td>2</td>\n",
       "      <td>20</td>\n",
       "      <td>14</td>\n",
       "      <td>58</td>\n",
       "      <td>34.3</td>\n",
       "      <td>0</td>\n",
       "    </tr>\n",
       "    <tr>\n",
       "      <th>2017-11-13</th>\n",
       "      <td>Abilene Christian</td>\n",
       "      <td>Arkansas State</td>\n",
       "      <td>2017-11-13</td>\n",
       "      <td>21</td>\n",
       "      <td>35</td>\n",
       "      <td>7</td>\n",
       "      <td>13</td>\n",
       "      <td>20</td>\n",
       "      <td>26</td>\n",
       "      <td>9</td>\n",
       "      <td>15</td>\n",
       "      <td>7</td>\n",
       "      <td>6</td>\n",
       "      <td>1</td>\n",
       "      <td>9</td>\n",
       "      <td>12</td>\n",
       "      <td>83</td>\n",
       "      <td>66.8</td>\n",
       "      <td>1</td>\n",
       "    </tr>\n",
       "    <tr>\n",
       "      <th>2014-12-23</th>\n",
       "      <td>Abilene Christian</td>\n",
       "      <td>Arkansas-Pine Bluff</td>\n",
       "      <td>2014-12-23</td>\n",
       "      <td>15</td>\n",
       "      <td>34</td>\n",
       "      <td>5</td>\n",
       "      <td>19</td>\n",
       "      <td>16</td>\n",
       "      <td>20</td>\n",
       "      <td>11</td>\n",
       "      <td>18</td>\n",
       "      <td>5</td>\n",
       "      <td>3</td>\n",
       "      <td>2</td>\n",
       "      <td>14</td>\n",
       "      <td>19</td>\n",
       "      <td>61</td>\n",
       "      <td>29.7</td>\n",
       "      <td>0</td>\n",
       "    </tr>\n",
       "    <tr>\n",
       "      <th>2014-12-20</th>\n",
       "      <td>Abilene Christian</td>\n",
       "      <td>Boise State</td>\n",
       "      <td>2014-12-20</td>\n",
       "      <td>21</td>\n",
       "      <td>32</td>\n",
       "      <td>10</td>\n",
       "      <td>20</td>\n",
       "      <td>5</td>\n",
       "      <td>6</td>\n",
       "      <td>8</td>\n",
       "      <td>32</td>\n",
       "      <td>17</td>\n",
       "      <td>2</td>\n",
       "      <td>6</td>\n",
       "      <td>12</td>\n",
       "      <td>7</td>\n",
       "      <td>77</td>\n",
       "      <td>71.1</td>\n",
       "      <td>1</td>\n",
       "    </tr>\n",
       "    <tr>\n",
       "      <th>2017-11-26</th>\n",
       "      <td>Abilene Christian</td>\n",
       "      <td>Bowling Green State</td>\n",
       "      <td>2017-11-26</td>\n",
       "      <td>22</td>\n",
       "      <td>48</td>\n",
       "      <td>8</td>\n",
       "      <td>24</td>\n",
       "      <td>15</td>\n",
       "      <td>22</td>\n",
       "      <td>17</td>\n",
       "      <td>20</td>\n",
       "      <td>9</td>\n",
       "      <td>4</td>\n",
       "      <td>3</td>\n",
       "      <td>8</td>\n",
       "      <td>18</td>\n",
       "      <td>83</td>\n",
       "      <td>56.9</td>\n",
       "      <td>0</td>\n",
       "    </tr>\n",
       "  </tbody>\n",
       "</table>\n",
       "</div>"
      ],
      "text/plain": [
       "                                  heldto_opp_id     heldto_school_id  \\\n",
       "opp_id            date_game                                            \n",
       "Abilene Christian 2017-12-06  Abilene Christian            Air Force   \n",
       "                  2017-11-13  Abilene Christian       Arkansas State   \n",
       "                  2014-12-23  Abilene Christian  Arkansas-Pine Bluff   \n",
       "                  2014-12-20  Abilene Christian          Boise State   \n",
       "                  2017-11-26  Abilene Christian  Bowling Green State   \n",
       "\n",
       "                             heldto_date_game  heldto_fg2  heldto_fg2a  \\\n",
       "opp_id            date_game                                              \n",
       "Abilene Christian 2017-12-06       2017-12-06          22           33   \n",
       "                  2017-11-13       2017-11-13          21           35   \n",
       "                  2014-12-23       2014-12-23          15           34   \n",
       "                  2014-12-20       2014-12-20          21           32   \n",
       "                  2017-11-26       2017-11-26          22           48   \n",
       "\n",
       "                              heldto_fg3  heldto_fg3a  heldto_ft  heldto_fta  \\\n",
       "opp_id            date_game                                                    \n",
       "Abilene Christian 2017-12-06           3           18          5           8   \n",
       "                  2017-11-13           7           13         20          26   \n",
       "                  2014-12-23           5           19         16          20   \n",
       "                  2014-12-20          10           20          5           6   \n",
       "                  2017-11-26           8           24         15          22   \n",
       "\n",
       "                              heldto_orb  heldto_drb  heldto_ast  heldto_stl  \\\n",
       "opp_id            date_game                                                    \n",
       "Abilene Christian 2017-12-06           5          28          15           5   \n",
       "                  2017-11-13           9          15           7           6   \n",
       "                  2014-12-23          11          18           5           3   \n",
       "                  2014-12-20           8          32          17           2   \n",
       "                  2017-11-26          17          20           9           4   \n",
       "\n",
       "                              heldto_blk  heldto_tov  heldto_pf  heldto_pts  \\\n",
       "opp_id            date_game                                                   \n",
       "Abilene Christian 2017-12-06           2          20         14          58   \n",
       "                  2017-11-13           1           9         12          83   \n",
       "                  2014-12-23           2          14         19          61   \n",
       "                  2014-12-20           6          12          7          77   \n",
       "                  2017-11-26           3           8         18          83   \n",
       "\n",
       "                              heldto_game_score  heldto_W  \n",
       "opp_id            date_game                                \n",
       "Abilene Christian 2017-12-06               34.3         0  \n",
       "                  2017-11-13               66.8         1  \n",
       "                  2014-12-23               29.7         0  \n",
       "                  2014-12-20               71.1         1  \n",
       "                  2017-11-26               56.9         0  "
      ]
     },
     "execution_count": 34,
     "metadata": {},
     "output_type": "execute_result"
    }
   ],
   "source": [
    "yourteam_df.head()"
   ]
  },
  {
   "cell_type": "markdown",
   "metadata": {},
   "source": [
    "### \"MyTeam\" Rolling/EWM Statistics Generation"
   ]
  },
  {
   "cell_type": "code",
   "execution_count": 35,
   "metadata": {
    "collapsed": true
   },
   "outputs": [],
   "source": [
    "myteam_stats = ['date_game', 'opp_id', 'fg2', 'fg2a', 'fg3', 'fg3a', 'ft', 'fta', 'orb', 'drb', \n",
    "         'ast', 'stl', 'blk', 'tov', 'pf', 'pts', 'game_score', 'W']"
   ]
  },
  {
   "cell_type": "code",
   "execution_count": 36,
   "metadata": {
    "collapsed": true
   },
   "outputs": [],
   "source": [
    "teams = df['school_id'].unique()"
   ]
  },
  {
   "cell_type": "code",
   "execution_count": 37,
   "metadata": {},
   "outputs": [
    {
     "data": {
      "text/plain": [
       "353"
      ]
     },
     "execution_count": 37,
     "metadata": {},
     "output_type": "execute_result"
    }
   ],
   "source": [
    "len(teams)"
   ]
  },
  {
   "cell_type": "code",
   "execution_count": null,
   "metadata": {
    "collapsed": true
   },
   "outputs": [],
   "source": [
    "for team in teams:\n",
    "    one_team_df = myteam_df.loc[team][myteam_stats].sort_values('date_game')\n",
    "    \n",
    "    ewm_03 = one_team_df.drop(['date_game', 'opp_id'], axis=1).ewm(span=3).mean().shift()\n",
    "    ewm_10 = one_team_df.drop(['date_game', 'opp_id'], axis=1).ewm(span=10).mean().shift()\n",
    "    ewm_20 = one_team_df.drop(['date_game', 'opp_id'], axis=1).ewm(span=20).mean().shift()\n",
    "    rm_30 = one_team_df.drop(['date_game', 'opp_id'], axis=1).rolling(window=30).mean().shift()\n",
    "\n",
    "    this_df = pd.concat([ewm_03, ewm_10, ewm_20, rm_30], axis=1)\n",
    "    \n",
    "    this_df['school_id'] = team\n",
    "    this_df['date_game'] = one_team_df['date_game']\n",
    "    this_df['opp_id'] = one_team_df['opp_id']\n",
    "\n",
    "    this_df.to_csv('../data/myteam_ewm/'+team.replace(' ', '_')+'.csv')"
   ]
  },
  {
   "cell_type": "code",
   "execution_count": null,
   "metadata": {
    "collapsed": true
   },
   "outputs": [],
   "source": [
    "for (dirpath, dirnames, filenames) in os.walk('../data/myteam_ewm/'):\n",
    "    break\n",
    "\n",
    "f = filenames # [:3] for testing\n",
    "\n",
    "with open('../data/myteam_ewm_df.csv', 'wb') as output:\n",
    "    for filename in f:\n",
    "        with open('../data/myteam_ewm/'+filename, 'rb') as _input:\n",
    "            for i, line in enumerate(_input):\n",
    "                if i == 0:\n",
    "                    continue       \n",
    "                #print(line) # for testing\n",
    "                output.write(line)"
   ]
  },
  {
   "cell_type": "code",
   "execution_count": 38,
   "metadata": {
    "collapsed": true
   },
   "outputs": [],
   "source": [
    "myteam_ewm_df = pd.read_csv('../data/myteam_ewm_df.csv', header=None)"
   ]
  },
  {
   "cell_type": "code",
   "execution_count": 39,
   "metadata": {},
   "outputs": [
    {
     "data": {
      "text/plain": [
       "(87171, 68)"
      ]
     },
     "execution_count": 39,
     "metadata": {},
     "output_type": "execute_result"
    }
   ],
   "source": [
    "myteam_ewm_df.shape"
   ]
  },
  {
   "cell_type": "code",
   "execution_count": 40,
   "metadata": {
    "collapsed": true
   },
   "outputs": [],
   "source": [
    "# Drop duplicate of opposing team\n",
    "myteam_ewm_df.drop(66, axis=1, inplace=True)"
   ]
  },
  {
   "cell_type": "code",
   "execution_count": 41,
   "metadata": {},
   "outputs": [
    {
     "data": {
      "text/html": [
       "<div>\n",
       "<style>\n",
       "    .dataframe thead tr:only-child th {\n",
       "        text-align: right;\n",
       "    }\n",
       "\n",
       "    .dataframe thead th {\n",
       "        text-align: left;\n",
       "    }\n",
       "\n",
       "    .dataframe tbody tr th {\n",
       "        vertical-align: top;\n",
       "    }\n",
       "</style>\n",
       "<table border=\"1\" class=\"dataframe\">\n",
       "  <thead>\n",
       "    <tr style=\"text-align: right;\">\n",
       "      <th></th>\n",
       "      <th>0</th>\n",
       "      <th>1</th>\n",
       "      <th>2</th>\n",
       "      <th>3</th>\n",
       "      <th>4</th>\n",
       "      <th>5</th>\n",
       "      <th>6</th>\n",
       "      <th>7</th>\n",
       "      <th>8</th>\n",
       "      <th>9</th>\n",
       "      <th>...</th>\n",
       "      <th>57</th>\n",
       "      <th>58</th>\n",
       "      <th>59</th>\n",
       "      <th>60</th>\n",
       "      <th>61</th>\n",
       "      <th>62</th>\n",
       "      <th>63</th>\n",
       "      <th>64</th>\n",
       "      <th>65</th>\n",
       "      <th>67</th>\n",
       "    </tr>\n",
       "  </thead>\n",
       "  <tbody>\n",
       "    <tr>\n",
       "      <th>0</th>\n",
       "      <td>2010-11-15</td>\n",
       "      <td>NaN</td>\n",
       "      <td>NaN</td>\n",
       "      <td>NaN</td>\n",
       "      <td>NaN</td>\n",
       "      <td>NaN</td>\n",
       "      <td>NaN</td>\n",
       "      <td>NaN</td>\n",
       "      <td>NaN</td>\n",
       "      <td>NaN</td>\n",
       "      <td>...</td>\n",
       "      <td>NaN</td>\n",
       "      <td>NaN</td>\n",
       "      <td>NaN</td>\n",
       "      <td>NaN</td>\n",
       "      <td>NaN</td>\n",
       "      <td>NaN</td>\n",
       "      <td>NaN</td>\n",
       "      <td>NaN</td>\n",
       "      <td>High Point</td>\n",
       "      <td>Old Dominion</td>\n",
       "    </tr>\n",
       "    <tr>\n",
       "      <th>1</th>\n",
       "      <td>2010-11-23</td>\n",
       "      <td>8.000000</td>\n",
       "      <td>32.000000</td>\n",
       "      <td>8.000000</td>\n",
       "      <td>22.000000</td>\n",
       "      <td>17.000000</td>\n",
       "      <td>29.000000</td>\n",
       "      <td>10.000000</td>\n",
       "      <td>19.000000</td>\n",
       "      <td>10.000000</td>\n",
       "      <td>...</td>\n",
       "      <td>NaN</td>\n",
       "      <td>NaN</td>\n",
       "      <td>NaN</td>\n",
       "      <td>NaN</td>\n",
       "      <td>NaN</td>\n",
       "      <td>NaN</td>\n",
       "      <td>NaN</td>\n",
       "      <td>NaN</td>\n",
       "      <td>High Point</td>\n",
       "      <td>Citadel</td>\n",
       "    </tr>\n",
       "    <tr>\n",
       "      <th>2</th>\n",
       "      <td>2010-11-28</td>\n",
       "      <td>14.666667</td>\n",
       "      <td>42.000000</td>\n",
       "      <td>4.000000</td>\n",
       "      <td>12.000000</td>\n",
       "      <td>19.666667</td>\n",
       "      <td>31.666667</td>\n",
       "      <td>10.000000</td>\n",
       "      <td>20.333333</td>\n",
       "      <td>7.333333</td>\n",
       "      <td>...</td>\n",
       "      <td>NaN</td>\n",
       "      <td>NaN</td>\n",
       "      <td>NaN</td>\n",
       "      <td>NaN</td>\n",
       "      <td>NaN</td>\n",
       "      <td>NaN</td>\n",
       "      <td>NaN</td>\n",
       "      <td>NaN</td>\n",
       "      <td>High Point</td>\n",
       "      <td>Hampton</td>\n",
       "    </tr>\n",
       "    <tr>\n",
       "      <th>3</th>\n",
       "      <td>2010-12-02</td>\n",
       "      <td>13.714286</td>\n",
       "      <td>39.142857</td>\n",
       "      <td>5.142857</td>\n",
       "      <td>12.000000</td>\n",
       "      <td>19.857143</td>\n",
       "      <td>27.857143</td>\n",
       "      <td>7.142857</td>\n",
       "      <td>23.571429</td>\n",
       "      <td>10.000000</td>\n",
       "      <td>...</td>\n",
       "      <td>NaN</td>\n",
       "      <td>NaN</td>\n",
       "      <td>NaN</td>\n",
       "      <td>NaN</td>\n",
       "      <td>NaN</td>\n",
       "      <td>NaN</td>\n",
       "      <td>NaN</td>\n",
       "      <td>NaN</td>\n",
       "      <td>High Point</td>\n",
       "      <td>Gardner-Webb</td>\n",
       "    </tr>\n",
       "    <tr>\n",
       "      <th>4</th>\n",
       "      <td>2010-12-04</td>\n",
       "      <td>16.533333</td>\n",
       "      <td>39.066667</td>\n",
       "      <td>4.000000</td>\n",
       "      <td>10.933333</td>\n",
       "      <td>19.400000</td>\n",
       "      <td>28.466667</td>\n",
       "      <td>6.533333</td>\n",
       "      <td>22.733333</td>\n",
       "      <td>9.466667</td>\n",
       "      <td>...</td>\n",
       "      <td>NaN</td>\n",
       "      <td>NaN</td>\n",
       "      <td>NaN</td>\n",
       "      <td>NaN</td>\n",
       "      <td>NaN</td>\n",
       "      <td>NaN</td>\n",
       "      <td>NaN</td>\n",
       "      <td>NaN</td>\n",
       "      <td>High Point</td>\n",
       "      <td>North Carolina-Asheville</td>\n",
       "    </tr>\n",
       "  </tbody>\n",
       "</table>\n",
       "<p>5 rows × 67 columns</p>\n",
       "</div>"
      ],
      "text/plain": [
       "           0          1          2         3          4          5   \\\n",
       "0  2010-11-15        NaN        NaN       NaN        NaN        NaN   \n",
       "1  2010-11-23   8.000000  32.000000  8.000000  22.000000  17.000000   \n",
       "2  2010-11-28  14.666667  42.000000  4.000000  12.000000  19.666667   \n",
       "3  2010-12-02  13.714286  39.142857  5.142857  12.000000  19.857143   \n",
       "4  2010-12-04  16.533333  39.066667  4.000000  10.933333  19.400000   \n",
       "\n",
       "          6          7          8          9             ...             57  \\\n",
       "0        NaN        NaN        NaN        NaN            ...            NaN   \n",
       "1  29.000000  10.000000  19.000000  10.000000            ...            NaN   \n",
       "2  31.666667  10.000000  20.333333   7.333333            ...            NaN   \n",
       "3  27.857143   7.142857  23.571429  10.000000            ...            NaN   \n",
       "4  28.466667   6.533333  22.733333   9.466667            ...            NaN   \n",
       "\n",
       "   58  59  60  61  62  63  64          65                        67  \n",
       "0 NaN NaN NaN NaN NaN NaN NaN  High Point              Old Dominion  \n",
       "1 NaN NaN NaN NaN NaN NaN NaN  High Point                   Citadel  \n",
       "2 NaN NaN NaN NaN NaN NaN NaN  High Point                   Hampton  \n",
       "3 NaN NaN NaN NaN NaN NaN NaN  High Point              Gardner-Webb  \n",
       "4 NaN NaN NaN NaN NaN NaN NaN  High Point  North Carolina-Asheville  \n",
       "\n",
       "[5 rows x 67 columns]"
      ]
     },
     "execution_count": 41,
     "metadata": {},
     "output_type": "execute_result"
    }
   ],
   "source": [
    "myteam_ewm_df.head()"
   ]
  },
  {
   "cell_type": "code",
   "execution_count": 42,
   "metadata": {
    "collapsed": true
   },
   "outputs": [],
   "source": [
    "myteam_stats = pd.Series(myteam_stats)"
   ]
  },
  {
   "cell_type": "code",
   "execution_count": 43,
   "metadata": {
    "collapsed": true
   },
   "outputs": [],
   "source": [
    "myteam_cols = []\n",
    "for i in ['ewm03', 'ewm10', 'ewm20', 'rm30']:\n",
    "    for j in myteam_stats.drop([0,1]):\n",
    "        myteam_cols.append(i+j)"
   ]
  },
  {
   "cell_type": "code",
   "execution_count": 44,
   "metadata": {
    "collapsed": true
   },
   "outputs": [],
   "source": [
    "myteam_cols.insert(0, 'date_game')\n",
    "myteam_cols.append('school_id')\n",
    "myteam_cols.append('opp_id')"
   ]
  },
  {
   "cell_type": "code",
   "execution_count": 45,
   "metadata": {
    "collapsed": true
   },
   "outputs": [],
   "source": [
    "myteam_ewm_df.columns = myteam_cols"
   ]
  },
  {
   "cell_type": "code",
   "execution_count": 46,
   "metadata": {},
   "outputs": [
    {
     "data": {
      "text/html": [
       "<div>\n",
       "<style>\n",
       "    .dataframe thead tr:only-child th {\n",
       "        text-align: right;\n",
       "    }\n",
       "\n",
       "    .dataframe thead th {\n",
       "        text-align: left;\n",
       "    }\n",
       "\n",
       "    .dataframe tbody tr th {\n",
       "        vertical-align: top;\n",
       "    }\n",
       "</style>\n",
       "<table border=\"1\" class=\"dataframe\">\n",
       "  <thead>\n",
       "    <tr style=\"text-align: right;\">\n",
       "      <th></th>\n",
       "      <th>date_game</th>\n",
       "      <th>ewm03fg2</th>\n",
       "      <th>ewm03fg2a</th>\n",
       "      <th>ewm03fg3</th>\n",
       "      <th>ewm03fg3a</th>\n",
       "      <th>ewm03ft</th>\n",
       "      <th>ewm03fta</th>\n",
       "      <th>ewm03orb</th>\n",
       "      <th>ewm03drb</th>\n",
       "      <th>ewm03ast</th>\n",
       "      <th>...</th>\n",
       "      <th>rm30ast</th>\n",
       "      <th>rm30stl</th>\n",
       "      <th>rm30blk</th>\n",
       "      <th>rm30tov</th>\n",
       "      <th>rm30pf</th>\n",
       "      <th>rm30pts</th>\n",
       "      <th>rm30game_score</th>\n",
       "      <th>rm30W</th>\n",
       "      <th>school_id</th>\n",
       "      <th>opp_id</th>\n",
       "    </tr>\n",
       "  </thead>\n",
       "  <tbody>\n",
       "    <tr>\n",
       "      <th>0</th>\n",
       "      <td>2010-11-15</td>\n",
       "      <td>NaN</td>\n",
       "      <td>NaN</td>\n",
       "      <td>NaN</td>\n",
       "      <td>NaN</td>\n",
       "      <td>NaN</td>\n",
       "      <td>NaN</td>\n",
       "      <td>NaN</td>\n",
       "      <td>NaN</td>\n",
       "      <td>NaN</td>\n",
       "      <td>...</td>\n",
       "      <td>NaN</td>\n",
       "      <td>NaN</td>\n",
       "      <td>NaN</td>\n",
       "      <td>NaN</td>\n",
       "      <td>NaN</td>\n",
       "      <td>NaN</td>\n",
       "      <td>NaN</td>\n",
       "      <td>NaN</td>\n",
       "      <td>High Point</td>\n",
       "      <td>Old Dominion</td>\n",
       "    </tr>\n",
       "    <tr>\n",
       "      <th>1</th>\n",
       "      <td>2010-11-23</td>\n",
       "      <td>8.000000</td>\n",
       "      <td>32.000000</td>\n",
       "      <td>8.000000</td>\n",
       "      <td>22.000000</td>\n",
       "      <td>17.000000</td>\n",
       "      <td>29.000000</td>\n",
       "      <td>10.000000</td>\n",
       "      <td>19.000000</td>\n",
       "      <td>10.000000</td>\n",
       "      <td>...</td>\n",
       "      <td>NaN</td>\n",
       "      <td>NaN</td>\n",
       "      <td>NaN</td>\n",
       "      <td>NaN</td>\n",
       "      <td>NaN</td>\n",
       "      <td>NaN</td>\n",
       "      <td>NaN</td>\n",
       "      <td>NaN</td>\n",
       "      <td>High Point</td>\n",
       "      <td>Citadel</td>\n",
       "    </tr>\n",
       "    <tr>\n",
       "      <th>2</th>\n",
       "      <td>2010-11-28</td>\n",
       "      <td>14.666667</td>\n",
       "      <td>42.000000</td>\n",
       "      <td>4.000000</td>\n",
       "      <td>12.000000</td>\n",
       "      <td>19.666667</td>\n",
       "      <td>31.666667</td>\n",
       "      <td>10.000000</td>\n",
       "      <td>20.333333</td>\n",
       "      <td>7.333333</td>\n",
       "      <td>...</td>\n",
       "      <td>NaN</td>\n",
       "      <td>NaN</td>\n",
       "      <td>NaN</td>\n",
       "      <td>NaN</td>\n",
       "      <td>NaN</td>\n",
       "      <td>NaN</td>\n",
       "      <td>NaN</td>\n",
       "      <td>NaN</td>\n",
       "      <td>High Point</td>\n",
       "      <td>Hampton</td>\n",
       "    </tr>\n",
       "    <tr>\n",
       "      <th>3</th>\n",
       "      <td>2010-12-02</td>\n",
       "      <td>13.714286</td>\n",
       "      <td>39.142857</td>\n",
       "      <td>5.142857</td>\n",
       "      <td>12.000000</td>\n",
       "      <td>19.857143</td>\n",
       "      <td>27.857143</td>\n",
       "      <td>7.142857</td>\n",
       "      <td>23.571429</td>\n",
       "      <td>10.000000</td>\n",
       "      <td>...</td>\n",
       "      <td>NaN</td>\n",
       "      <td>NaN</td>\n",
       "      <td>NaN</td>\n",
       "      <td>NaN</td>\n",
       "      <td>NaN</td>\n",
       "      <td>NaN</td>\n",
       "      <td>NaN</td>\n",
       "      <td>NaN</td>\n",
       "      <td>High Point</td>\n",
       "      <td>Gardner-Webb</td>\n",
       "    </tr>\n",
       "    <tr>\n",
       "      <th>4</th>\n",
       "      <td>2010-12-04</td>\n",
       "      <td>16.533333</td>\n",
       "      <td>39.066667</td>\n",
       "      <td>4.000000</td>\n",
       "      <td>10.933333</td>\n",
       "      <td>19.400000</td>\n",
       "      <td>28.466667</td>\n",
       "      <td>6.533333</td>\n",
       "      <td>22.733333</td>\n",
       "      <td>9.466667</td>\n",
       "      <td>...</td>\n",
       "      <td>NaN</td>\n",
       "      <td>NaN</td>\n",
       "      <td>NaN</td>\n",
       "      <td>NaN</td>\n",
       "      <td>NaN</td>\n",
       "      <td>NaN</td>\n",
       "      <td>NaN</td>\n",
       "      <td>NaN</td>\n",
       "      <td>High Point</td>\n",
       "      <td>North Carolina-Asheville</td>\n",
       "    </tr>\n",
       "  </tbody>\n",
       "</table>\n",
       "<p>5 rows × 67 columns</p>\n",
       "</div>"
      ],
      "text/plain": [
       "    date_game   ewm03fg2  ewm03fg2a  ewm03fg3  ewm03fg3a    ewm03ft  \\\n",
       "0  2010-11-15        NaN        NaN       NaN        NaN        NaN   \n",
       "1  2010-11-23   8.000000  32.000000  8.000000  22.000000  17.000000   \n",
       "2  2010-11-28  14.666667  42.000000  4.000000  12.000000  19.666667   \n",
       "3  2010-12-02  13.714286  39.142857  5.142857  12.000000  19.857143   \n",
       "4  2010-12-04  16.533333  39.066667  4.000000  10.933333  19.400000   \n",
       "\n",
       "    ewm03fta   ewm03orb   ewm03drb   ewm03ast            ...             \\\n",
       "0        NaN        NaN        NaN        NaN            ...              \n",
       "1  29.000000  10.000000  19.000000  10.000000            ...              \n",
       "2  31.666667  10.000000  20.333333   7.333333            ...              \n",
       "3  27.857143   7.142857  23.571429  10.000000            ...              \n",
       "4  28.466667   6.533333  22.733333   9.466667            ...              \n",
       "\n",
       "   rm30ast  rm30stl  rm30blk  rm30tov  rm30pf  rm30pts  rm30game_score  rm30W  \\\n",
       "0      NaN      NaN      NaN      NaN     NaN      NaN             NaN    NaN   \n",
       "1      NaN      NaN      NaN      NaN     NaN      NaN             NaN    NaN   \n",
       "2      NaN      NaN      NaN      NaN     NaN      NaN             NaN    NaN   \n",
       "3      NaN      NaN      NaN      NaN     NaN      NaN             NaN    NaN   \n",
       "4      NaN      NaN      NaN      NaN     NaN      NaN             NaN    NaN   \n",
       "\n",
       "    school_id                    opp_id  \n",
       "0  High Point              Old Dominion  \n",
       "1  High Point                   Citadel  \n",
       "2  High Point                   Hampton  \n",
       "3  High Point              Gardner-Webb  \n",
       "4  High Point  North Carolina-Asheville  \n",
       "\n",
       "[5 rows x 67 columns]"
      ]
     },
     "execution_count": 46,
     "metadata": {},
     "output_type": "execute_result"
    }
   ],
   "source": [
    "myteam_ewm_df.head()"
   ]
  },
  {
   "cell_type": "code",
   "execution_count": 47,
   "metadata": {
    "collapsed": true
   },
   "outputs": [],
   "source": [
    "myteam_ewm_df['date_game'] = pd.to_datetime(myteam_ewm_df['date_game'])"
   ]
  },
  {
   "cell_type": "markdown",
   "metadata": {},
   "source": [
    "### \"YourTeam\" Rolling/EWM Statistics Generation"
   ]
  },
  {
   "cell_type": "code",
   "execution_count": 48,
   "metadata": {
    "collapsed": true
   },
   "outputs": [],
   "source": [
    "yourteam_stats = ['heldto_school_id', 'heldto_date_game', 'heldto_fg2',\n",
    "       'heldto_fg2a', 'heldto_fg3', 'heldto_fg3a', 'heldto_ft', 'heldto_fta',\n",
    "       'heldto_orb', 'heldto_drb', 'heldto_ast', 'heldto_stl', 'heldto_blk',\n",
    "       'heldto_tov', 'heldto_pf', 'heldto_pts', 'heldto_game_score',\n",
    "       'heldto_W']"
   ]
  },
  {
   "cell_type": "code",
   "execution_count": 49,
   "metadata": {
    "collapsed": true
   },
   "outputs": [],
   "source": [
    "for team in teams:\n",
    "    try:\n",
    "        one_team_df = yourteam_df.loc[team][yourteam_stats].sort_values('heldto_date_game')\n",
    "\n",
    "        ewm_03 = one_team_df.drop(['heldto_date_game', 'heldto_school_id'], axis=1).ewm(span=3).mean().shift()\n",
    "        ewm_10 = one_team_df.drop(['heldto_date_game', 'heldto_school_id'], axis=1).ewm(span=10).mean().shift()\n",
    "        ewm_20 = one_team_df.drop(['heldto_date_game', 'heldto_school_id'], axis=1).ewm(span=20).mean().shift()\n",
    "        rm_30 = one_team_df.drop(['heldto_date_game', 'heldto_school_id'], axis=1).rolling(window=30).mean().shift()\n",
    "\n",
    "        this_df = pd.concat([ewm_03, ewm_10, ewm_20, rm_30], axis=1)\n",
    "\n",
    "        this_df['heldto_opp_id'] = team\n",
    "        this_df['heldto_date_game'] = one_team_df['heldto_date_game']\n",
    "        this_df['heldto_school_id'] = one_team_df['heldto_school_id']\n",
    "\n",
    "        this_df.to_csv('../data/yourteam_ewm/'+team.replace(' ', '_')+'.csv')\n",
    "    except:\n",
    "        pass"
   ]
  },
  {
   "cell_type": "code",
   "execution_count": 50,
   "metadata": {
    "collapsed": true
   },
   "outputs": [],
   "source": [
    "for (dirpath, dirnames, filenames) in os.walk('../data/yourteam_ewm/'):\n",
    "    break\n",
    "\n",
    "f = filenames # [:3] for testing\n",
    "\n",
    "with open('../data/yourteam_ewm_df.csv', 'wb') as output:\n",
    "    for filename in f:\n",
    "        with open('../data/yourteam_ewm/'+filename, 'rb') as _input:\n",
    "            for i, line in enumerate(_input):\n",
    "                if i == 0:\n",
    "                    continue       \n",
    "                #print(line) # for testing\n",
    "                output.write(line)"
   ]
  },
  {
   "cell_type": "code",
   "execution_count": 51,
   "metadata": {
    "collapsed": true
   },
   "outputs": [],
   "source": [
    "yourteam_ewm_df = pd.read_csv('../data/yourteam_ewm_df.csv', header=None)"
   ]
  },
  {
   "cell_type": "code",
   "execution_count": 52,
   "metadata": {},
   "outputs": [
    {
     "data": {
      "text/plain": [
       "(87171, 68)"
      ]
     },
     "execution_count": 52,
     "metadata": {},
     "output_type": "execute_result"
    }
   ],
   "source": [
    "yourteam_ewm_df.shape"
   ]
  },
  {
   "cell_type": "code",
   "execution_count": 53,
   "metadata": {
    "collapsed": true
   },
   "outputs": [],
   "source": [
    "# Drop duplicate of opposing team\n",
    "yourteam_ewm_df.drop(66, axis=1, inplace=True)"
   ]
  },
  {
   "cell_type": "code",
   "execution_count": 54,
   "metadata": {
    "collapsed": true
   },
   "outputs": [],
   "source": [
    "yourteam_stats = pd.Series(yourteam_stats)"
   ]
  },
  {
   "cell_type": "code",
   "execution_count": 55,
   "metadata": {
    "collapsed": true
   },
   "outputs": [],
   "source": [
    "yourteam_cols = []\n",
    "for i in ['ewm03', 'ewm10', 'ewm20', 'rm30']:\n",
    "    for j in yourteam_stats.drop([0,1]):\n",
    "        yourteam_cols.append(i+j)"
   ]
  },
  {
   "cell_type": "code",
   "execution_count": 56,
   "metadata": {
    "collapsed": true
   },
   "outputs": [],
   "source": [
    "yourteam_cols.insert(0, 'date_game')\n",
    "yourteam_cols.append('heldto_opp_id')\n",
    "yourteam_cols.append('heldto_school_id')"
   ]
  },
  {
   "cell_type": "code",
   "execution_count": 57,
   "metadata": {
    "collapsed": true
   },
   "outputs": [],
   "source": [
    "yourteam_ewm_df.columns = yourteam_cols"
   ]
  },
  {
   "cell_type": "code",
   "execution_count": 58,
   "metadata": {
    "collapsed": true
   },
   "outputs": [],
   "source": [
    "yourteam_ewm_df['date_game'] = pd.to_datetime(yourteam_ewm_df['date_game'])"
   ]
  },
  {
   "cell_type": "markdown",
   "metadata": {},
   "source": [
    "## Join \"MyTeam\" and \"YourTeam\""
   ]
  },
  {
   "cell_type": "code",
   "execution_count": 59,
   "metadata": {
    "collapsed": true
   },
   "outputs": [],
   "source": [
    "temp_my = myteam_ewm_df.set_index(['school_id', 'date_game'], drop=False)"
   ]
  },
  {
   "cell_type": "code",
   "execution_count": 60,
   "metadata": {},
   "outputs": [
    {
     "data": {
      "text/html": [
       "<div>\n",
       "<style>\n",
       "    .dataframe thead tr:only-child th {\n",
       "        text-align: right;\n",
       "    }\n",
       "\n",
       "    .dataframe thead th {\n",
       "        text-align: left;\n",
       "    }\n",
       "\n",
       "    .dataframe tbody tr th {\n",
       "        vertical-align: top;\n",
       "    }\n",
       "</style>\n",
       "<table border=\"1\" class=\"dataframe\">\n",
       "  <thead>\n",
       "    <tr style=\"text-align: right;\">\n",
       "      <th></th>\n",
       "      <th></th>\n",
       "      <th>date_game</th>\n",
       "      <th>ewm03fg2</th>\n",
       "      <th>ewm03fg2a</th>\n",
       "      <th>ewm03fg3</th>\n",
       "      <th>ewm03fg3a</th>\n",
       "      <th>ewm03ft</th>\n",
       "      <th>ewm03fta</th>\n",
       "      <th>ewm03orb</th>\n",
       "      <th>ewm03drb</th>\n",
       "      <th>ewm03ast</th>\n",
       "      <th>...</th>\n",
       "      <th>rm30ast</th>\n",
       "      <th>rm30stl</th>\n",
       "      <th>rm30blk</th>\n",
       "      <th>rm30tov</th>\n",
       "      <th>rm30pf</th>\n",
       "      <th>rm30pts</th>\n",
       "      <th>rm30game_score</th>\n",
       "      <th>rm30W</th>\n",
       "      <th>school_id</th>\n",
       "      <th>opp_id</th>\n",
       "    </tr>\n",
       "    <tr>\n",
       "      <th>school_id</th>\n",
       "      <th>date_game</th>\n",
       "      <th></th>\n",
       "      <th></th>\n",
       "      <th></th>\n",
       "      <th></th>\n",
       "      <th></th>\n",
       "      <th></th>\n",
       "      <th></th>\n",
       "      <th></th>\n",
       "      <th></th>\n",
       "      <th></th>\n",
       "      <th></th>\n",
       "      <th></th>\n",
       "      <th></th>\n",
       "      <th></th>\n",
       "      <th></th>\n",
       "      <th></th>\n",
       "      <th></th>\n",
       "      <th></th>\n",
       "      <th></th>\n",
       "      <th></th>\n",
       "      <th></th>\n",
       "    </tr>\n",
       "  </thead>\n",
       "  <tbody>\n",
       "    <tr>\n",
       "      <th rowspan=\"5\" valign=\"top\">High Point</th>\n",
       "      <th>2010-11-15</th>\n",
       "      <td>2010-11-15</td>\n",
       "      <td>NaN</td>\n",
       "      <td>NaN</td>\n",
       "      <td>NaN</td>\n",
       "      <td>NaN</td>\n",
       "      <td>NaN</td>\n",
       "      <td>NaN</td>\n",
       "      <td>NaN</td>\n",
       "      <td>NaN</td>\n",
       "      <td>NaN</td>\n",
       "      <td>...</td>\n",
       "      <td>NaN</td>\n",
       "      <td>NaN</td>\n",
       "      <td>NaN</td>\n",
       "      <td>NaN</td>\n",
       "      <td>NaN</td>\n",
       "      <td>NaN</td>\n",
       "      <td>NaN</td>\n",
       "      <td>NaN</td>\n",
       "      <td>High Point</td>\n",
       "      <td>Old Dominion</td>\n",
       "    </tr>\n",
       "    <tr>\n",
       "      <th>2010-11-23</th>\n",
       "      <td>2010-11-23</td>\n",
       "      <td>8.000000</td>\n",
       "      <td>32.000000</td>\n",
       "      <td>8.000000</td>\n",
       "      <td>22.000000</td>\n",
       "      <td>17.000000</td>\n",
       "      <td>29.000000</td>\n",
       "      <td>10.000000</td>\n",
       "      <td>19.000000</td>\n",
       "      <td>10.000000</td>\n",
       "      <td>...</td>\n",
       "      <td>NaN</td>\n",
       "      <td>NaN</td>\n",
       "      <td>NaN</td>\n",
       "      <td>NaN</td>\n",
       "      <td>NaN</td>\n",
       "      <td>NaN</td>\n",
       "      <td>NaN</td>\n",
       "      <td>NaN</td>\n",
       "      <td>High Point</td>\n",
       "      <td>Citadel</td>\n",
       "    </tr>\n",
       "    <tr>\n",
       "      <th>2010-11-28</th>\n",
       "      <td>2010-11-28</td>\n",
       "      <td>14.666667</td>\n",
       "      <td>42.000000</td>\n",
       "      <td>4.000000</td>\n",
       "      <td>12.000000</td>\n",
       "      <td>19.666667</td>\n",
       "      <td>31.666667</td>\n",
       "      <td>10.000000</td>\n",
       "      <td>20.333333</td>\n",
       "      <td>7.333333</td>\n",
       "      <td>...</td>\n",
       "      <td>NaN</td>\n",
       "      <td>NaN</td>\n",
       "      <td>NaN</td>\n",
       "      <td>NaN</td>\n",
       "      <td>NaN</td>\n",
       "      <td>NaN</td>\n",
       "      <td>NaN</td>\n",
       "      <td>NaN</td>\n",
       "      <td>High Point</td>\n",
       "      <td>Hampton</td>\n",
       "    </tr>\n",
       "    <tr>\n",
       "      <th>2010-12-02</th>\n",
       "      <td>2010-12-02</td>\n",
       "      <td>13.714286</td>\n",
       "      <td>39.142857</td>\n",
       "      <td>5.142857</td>\n",
       "      <td>12.000000</td>\n",
       "      <td>19.857143</td>\n",
       "      <td>27.857143</td>\n",
       "      <td>7.142857</td>\n",
       "      <td>23.571429</td>\n",
       "      <td>10.000000</td>\n",
       "      <td>...</td>\n",
       "      <td>NaN</td>\n",
       "      <td>NaN</td>\n",
       "      <td>NaN</td>\n",
       "      <td>NaN</td>\n",
       "      <td>NaN</td>\n",
       "      <td>NaN</td>\n",
       "      <td>NaN</td>\n",
       "      <td>NaN</td>\n",
       "      <td>High Point</td>\n",
       "      <td>Gardner-Webb</td>\n",
       "    </tr>\n",
       "    <tr>\n",
       "      <th>2010-12-04</th>\n",
       "      <td>2010-12-04</td>\n",
       "      <td>16.533333</td>\n",
       "      <td>39.066667</td>\n",
       "      <td>4.000000</td>\n",
       "      <td>10.933333</td>\n",
       "      <td>19.400000</td>\n",
       "      <td>28.466667</td>\n",
       "      <td>6.533333</td>\n",
       "      <td>22.733333</td>\n",
       "      <td>9.466667</td>\n",
       "      <td>...</td>\n",
       "      <td>NaN</td>\n",
       "      <td>NaN</td>\n",
       "      <td>NaN</td>\n",
       "      <td>NaN</td>\n",
       "      <td>NaN</td>\n",
       "      <td>NaN</td>\n",
       "      <td>NaN</td>\n",
       "      <td>NaN</td>\n",
       "      <td>High Point</td>\n",
       "      <td>North Carolina-Asheville</td>\n",
       "    </tr>\n",
       "  </tbody>\n",
       "</table>\n",
       "<p>5 rows × 67 columns</p>\n",
       "</div>"
      ],
      "text/plain": [
       "                       date_game   ewm03fg2  ewm03fg2a  ewm03fg3  ewm03fg3a  \\\n",
       "school_id  date_game                                                          \n",
       "High Point 2010-11-15 2010-11-15        NaN        NaN       NaN        NaN   \n",
       "           2010-11-23 2010-11-23   8.000000  32.000000  8.000000  22.000000   \n",
       "           2010-11-28 2010-11-28  14.666667  42.000000  4.000000  12.000000   \n",
       "           2010-12-02 2010-12-02  13.714286  39.142857  5.142857  12.000000   \n",
       "           2010-12-04 2010-12-04  16.533333  39.066667  4.000000  10.933333   \n",
       "\n",
       "                         ewm03ft   ewm03fta   ewm03orb   ewm03drb   ewm03ast  \\\n",
       "school_id  date_game                                                           \n",
       "High Point 2010-11-15        NaN        NaN        NaN        NaN        NaN   \n",
       "           2010-11-23  17.000000  29.000000  10.000000  19.000000  10.000000   \n",
       "           2010-11-28  19.666667  31.666667  10.000000  20.333333   7.333333   \n",
       "           2010-12-02  19.857143  27.857143   7.142857  23.571429  10.000000   \n",
       "           2010-12-04  19.400000  28.466667   6.533333  22.733333   9.466667   \n",
       "\n",
       "                                 ...             rm30ast  rm30stl  rm30blk  \\\n",
       "school_id  date_game             ...                                         \n",
       "High Point 2010-11-15            ...                 NaN      NaN      NaN   \n",
       "           2010-11-23            ...                 NaN      NaN      NaN   \n",
       "           2010-11-28            ...                 NaN      NaN      NaN   \n",
       "           2010-12-02            ...                 NaN      NaN      NaN   \n",
       "           2010-12-04            ...                 NaN      NaN      NaN   \n",
       "\n",
       "                       rm30tov  rm30pf  rm30pts  rm30game_score  rm30W  \\\n",
       "school_id  date_game                                                     \n",
       "High Point 2010-11-15      NaN     NaN      NaN             NaN    NaN   \n",
       "           2010-11-23      NaN     NaN      NaN             NaN    NaN   \n",
       "           2010-11-28      NaN     NaN      NaN             NaN    NaN   \n",
       "           2010-12-02      NaN     NaN      NaN             NaN    NaN   \n",
       "           2010-12-04      NaN     NaN      NaN             NaN    NaN   \n",
       "\n",
       "                        school_id                    opp_id  \n",
       "school_id  date_game                                         \n",
       "High Point 2010-11-15  High Point              Old Dominion  \n",
       "           2010-11-23  High Point                   Citadel  \n",
       "           2010-11-28  High Point                   Hampton  \n",
       "           2010-12-02  High Point              Gardner-Webb  \n",
       "           2010-12-04  High Point  North Carolina-Asheville  \n",
       "\n",
       "[5 rows x 67 columns]"
      ]
     },
     "execution_count": 60,
     "metadata": {},
     "output_type": "execute_result"
    }
   ],
   "source": [
    "temp_my.head()"
   ]
  },
  {
   "cell_type": "code",
   "execution_count": 61,
   "metadata": {
    "collapsed": true
   },
   "outputs": [],
   "source": [
    "# Rename these cols so that 'join' will work later\n",
    "yourteam_ewm_df.rename(columns={'heldto_school_id':'school_id'}, inplace=True)\n",
    "yourteam_ewm_df.rename(columns={'heldto_opp_id':'opp_id'}, inplace=True)"
   ]
  },
  {
   "cell_type": "code",
   "execution_count": 62,
   "metadata": {
    "collapsed": true
   },
   "outputs": [],
   "source": [
    "temp_your = yourteam_ewm_df.set_index(['school_id', 'date_game'], drop=False)"
   ]
  },
  {
   "cell_type": "code",
   "execution_count": 63,
   "metadata": {},
   "outputs": [
    {
     "data": {
      "text/html": [
       "<div>\n",
       "<style>\n",
       "    .dataframe thead tr:only-child th {\n",
       "        text-align: right;\n",
       "    }\n",
       "\n",
       "    .dataframe thead th {\n",
       "        text-align: left;\n",
       "    }\n",
       "\n",
       "    .dataframe tbody tr th {\n",
       "        vertical-align: top;\n",
       "    }\n",
       "</style>\n",
       "<table border=\"1\" class=\"dataframe\">\n",
       "  <thead>\n",
       "    <tr style=\"text-align: right;\">\n",
       "      <th></th>\n",
       "      <th></th>\n",
       "      <th>date_game</th>\n",
       "      <th>ewm03heldto_fg2</th>\n",
       "      <th>ewm03heldto_fg2a</th>\n",
       "      <th>ewm03heldto_fg3</th>\n",
       "      <th>ewm03heldto_fg3a</th>\n",
       "      <th>ewm03heldto_ft</th>\n",
       "      <th>ewm03heldto_fta</th>\n",
       "      <th>ewm03heldto_orb</th>\n",
       "      <th>ewm03heldto_drb</th>\n",
       "      <th>ewm03heldto_ast</th>\n",
       "      <th>...</th>\n",
       "      <th>rm30heldto_ast</th>\n",
       "      <th>rm30heldto_stl</th>\n",
       "      <th>rm30heldto_blk</th>\n",
       "      <th>rm30heldto_tov</th>\n",
       "      <th>rm30heldto_pf</th>\n",
       "      <th>rm30heldto_pts</th>\n",
       "      <th>rm30heldto_game_score</th>\n",
       "      <th>rm30heldto_W</th>\n",
       "      <th>opp_id</th>\n",
       "      <th>school_id</th>\n",
       "    </tr>\n",
       "    <tr>\n",
       "      <th>school_id</th>\n",
       "      <th>date_game</th>\n",
       "      <th></th>\n",
       "      <th></th>\n",
       "      <th></th>\n",
       "      <th></th>\n",
       "      <th></th>\n",
       "      <th></th>\n",
       "      <th></th>\n",
       "      <th></th>\n",
       "      <th></th>\n",
       "      <th></th>\n",
       "      <th></th>\n",
       "      <th></th>\n",
       "      <th></th>\n",
       "      <th></th>\n",
       "      <th></th>\n",
       "      <th></th>\n",
       "      <th></th>\n",
       "      <th></th>\n",
       "      <th></th>\n",
       "      <th></th>\n",
       "      <th></th>\n",
       "    </tr>\n",
       "  </thead>\n",
       "  <tbody>\n",
       "    <tr>\n",
       "      <th>Old Dominion</th>\n",
       "      <th>2010-11-15</th>\n",
       "      <td>2010-11-15</td>\n",
       "      <td>NaN</td>\n",
       "      <td>NaN</td>\n",
       "      <td>NaN</td>\n",
       "      <td>NaN</td>\n",
       "      <td>NaN</td>\n",
       "      <td>NaN</td>\n",
       "      <td>NaN</td>\n",
       "      <td>NaN</td>\n",
       "      <td>NaN</td>\n",
       "      <td>...</td>\n",
       "      <td>NaN</td>\n",
       "      <td>NaN</td>\n",
       "      <td>NaN</td>\n",
       "      <td>NaN</td>\n",
       "      <td>NaN</td>\n",
       "      <td>NaN</td>\n",
       "      <td>NaN</td>\n",
       "      <td>NaN</td>\n",
       "      <td>High Point</td>\n",
       "      <td>Old Dominion</td>\n",
       "    </tr>\n",
       "    <tr>\n",
       "      <th>Citadel</th>\n",
       "      <th>2010-11-23</th>\n",
       "      <td>2010-11-23</td>\n",
       "      <td>19.000000</td>\n",
       "      <td>36.000000</td>\n",
       "      <td>7.000000</td>\n",
       "      <td>19.000000</td>\n",
       "      <td>20.000000</td>\n",
       "      <td>34.000000</td>\n",
       "      <td>17.000000</td>\n",
       "      <td>27.000000</td>\n",
       "      <td>19.000000</td>\n",
       "      <td>...</td>\n",
       "      <td>NaN</td>\n",
       "      <td>NaN</td>\n",
       "      <td>NaN</td>\n",
       "      <td>NaN</td>\n",
       "      <td>NaN</td>\n",
       "      <td>NaN</td>\n",
       "      <td>NaN</td>\n",
       "      <td>NaN</td>\n",
       "      <td>High Point</td>\n",
       "      <td>Citadel</td>\n",
       "    </tr>\n",
       "    <tr>\n",
       "      <th>Hampton</th>\n",
       "      <th>2010-11-28</th>\n",
       "      <td>2010-11-28</td>\n",
       "      <td>18.333333</td>\n",
       "      <td>40.000000</td>\n",
       "      <td>5.666667</td>\n",
       "      <td>17.000000</td>\n",
       "      <td>20.000000</td>\n",
       "      <td>31.333333</td>\n",
       "      <td>15.666667</td>\n",
       "      <td>26.333333</td>\n",
       "      <td>17.000000</td>\n",
       "      <td>...</td>\n",
       "      <td>NaN</td>\n",
       "      <td>NaN</td>\n",
       "      <td>NaN</td>\n",
       "      <td>NaN</td>\n",
       "      <td>NaN</td>\n",
       "      <td>NaN</td>\n",
       "      <td>NaN</td>\n",
       "      <td>NaN</td>\n",
       "      <td>High Point</td>\n",
       "      <td>Hampton</td>\n",
       "    </tr>\n",
       "    <tr>\n",
       "      <th>Gardner-Webb</th>\n",
       "      <th>2010-12-02</th>\n",
       "      <td>2010-12-02</td>\n",
       "      <td>16.428571</td>\n",
       "      <td>39.428571</td>\n",
       "      <td>4.714286</td>\n",
       "      <td>13.571429</td>\n",
       "      <td>24.571429</td>\n",
       "      <td>35.142857</td>\n",
       "      <td>10.714286</td>\n",
       "      <td>26.714286</td>\n",
       "      <td>11.285714</td>\n",
       "      <td>...</td>\n",
       "      <td>NaN</td>\n",
       "      <td>NaN</td>\n",
       "      <td>NaN</td>\n",
       "      <td>NaN</td>\n",
       "      <td>NaN</td>\n",
       "      <td>NaN</td>\n",
       "      <td>NaN</td>\n",
       "      <td>NaN</td>\n",
       "      <td>High Point</td>\n",
       "      <td>Gardner-Webb</td>\n",
       "    </tr>\n",
       "    <tr>\n",
       "      <th>North Carolina-Asheville</th>\n",
       "      <th>2010-12-04</th>\n",
       "      <td>2010-12-04</td>\n",
       "      <td>18.866667</td>\n",
       "      <td>38.666667</td>\n",
       "      <td>2.200000</td>\n",
       "      <td>14.333333</td>\n",
       "      <td>23.200000</td>\n",
       "      <td>34.533333</td>\n",
       "      <td>11.933333</td>\n",
       "      <td>26.333333</td>\n",
       "      <td>6.866667</td>\n",
       "      <td>...</td>\n",
       "      <td>NaN</td>\n",
       "      <td>NaN</td>\n",
       "      <td>NaN</td>\n",
       "      <td>NaN</td>\n",
       "      <td>NaN</td>\n",
       "      <td>NaN</td>\n",
       "      <td>NaN</td>\n",
       "      <td>NaN</td>\n",
       "      <td>High Point</td>\n",
       "      <td>North Carolina-Asheville</td>\n",
       "    </tr>\n",
       "  </tbody>\n",
       "</table>\n",
       "<p>5 rows × 67 columns</p>\n",
       "</div>"
      ],
      "text/plain": [
       "                                     date_game  ewm03heldto_fg2  \\\n",
       "school_id                date_game                                \n",
       "Old Dominion             2010-11-15 2010-11-15              NaN   \n",
       "Citadel                  2010-11-23 2010-11-23        19.000000   \n",
       "Hampton                  2010-11-28 2010-11-28        18.333333   \n",
       "Gardner-Webb             2010-12-02 2010-12-02        16.428571   \n",
       "North Carolina-Asheville 2010-12-04 2010-12-04        18.866667   \n",
       "\n",
       "                                     ewm03heldto_fg2a  ewm03heldto_fg3  \\\n",
       "school_id                date_game                                       \n",
       "Old Dominion             2010-11-15               NaN              NaN   \n",
       "Citadel                  2010-11-23         36.000000         7.000000   \n",
       "Hampton                  2010-11-28         40.000000         5.666667   \n",
       "Gardner-Webb             2010-12-02         39.428571         4.714286   \n",
       "North Carolina-Asheville 2010-12-04         38.666667         2.200000   \n",
       "\n",
       "                                     ewm03heldto_fg3a  ewm03heldto_ft  \\\n",
       "school_id                date_game                                      \n",
       "Old Dominion             2010-11-15               NaN             NaN   \n",
       "Citadel                  2010-11-23         19.000000       20.000000   \n",
       "Hampton                  2010-11-28         17.000000       20.000000   \n",
       "Gardner-Webb             2010-12-02         13.571429       24.571429   \n",
       "North Carolina-Asheville 2010-12-04         14.333333       23.200000   \n",
       "\n",
       "                                     ewm03heldto_fta  ewm03heldto_orb  \\\n",
       "school_id                date_game                                      \n",
       "Old Dominion             2010-11-15              NaN              NaN   \n",
       "Citadel                  2010-11-23        34.000000        17.000000   \n",
       "Hampton                  2010-11-28        31.333333        15.666667   \n",
       "Gardner-Webb             2010-12-02        35.142857        10.714286   \n",
       "North Carolina-Asheville 2010-12-04        34.533333        11.933333   \n",
       "\n",
       "                                     ewm03heldto_drb  ewm03heldto_ast  \\\n",
       "school_id                date_game                                      \n",
       "Old Dominion             2010-11-15              NaN              NaN   \n",
       "Citadel                  2010-11-23        27.000000        19.000000   \n",
       "Hampton                  2010-11-28        26.333333        17.000000   \n",
       "Gardner-Webb             2010-12-02        26.714286        11.285714   \n",
       "North Carolina-Asheville 2010-12-04        26.333333         6.866667   \n",
       "\n",
       "                                               ...             rm30heldto_ast  \\\n",
       "school_id                date_game             ...                              \n",
       "Old Dominion             2010-11-15            ...                        NaN   \n",
       "Citadel                  2010-11-23            ...                        NaN   \n",
       "Hampton                  2010-11-28            ...                        NaN   \n",
       "Gardner-Webb             2010-12-02            ...                        NaN   \n",
       "North Carolina-Asheville 2010-12-04            ...                        NaN   \n",
       "\n",
       "                                     rm30heldto_stl  rm30heldto_blk  \\\n",
       "school_id                date_game                                    \n",
       "Old Dominion             2010-11-15             NaN             NaN   \n",
       "Citadel                  2010-11-23             NaN             NaN   \n",
       "Hampton                  2010-11-28             NaN             NaN   \n",
       "Gardner-Webb             2010-12-02             NaN             NaN   \n",
       "North Carolina-Asheville 2010-12-04             NaN             NaN   \n",
       "\n",
       "                                     rm30heldto_tov  rm30heldto_pf  \\\n",
       "school_id                date_game                                   \n",
       "Old Dominion             2010-11-15             NaN            NaN   \n",
       "Citadel                  2010-11-23             NaN            NaN   \n",
       "Hampton                  2010-11-28             NaN            NaN   \n",
       "Gardner-Webb             2010-12-02             NaN            NaN   \n",
       "North Carolina-Asheville 2010-12-04             NaN            NaN   \n",
       "\n",
       "                                     rm30heldto_pts  rm30heldto_game_score  \\\n",
       "school_id                date_game                                           \n",
       "Old Dominion             2010-11-15             NaN                    NaN   \n",
       "Citadel                  2010-11-23             NaN                    NaN   \n",
       "Hampton                  2010-11-28             NaN                    NaN   \n",
       "Gardner-Webb             2010-12-02             NaN                    NaN   \n",
       "North Carolina-Asheville 2010-12-04             NaN                    NaN   \n",
       "\n",
       "                                     rm30heldto_W      opp_id  \\\n",
       "school_id                date_game                              \n",
       "Old Dominion             2010-11-15           NaN  High Point   \n",
       "Citadel                  2010-11-23           NaN  High Point   \n",
       "Hampton                  2010-11-28           NaN  High Point   \n",
       "Gardner-Webb             2010-12-02           NaN  High Point   \n",
       "North Carolina-Asheville 2010-12-04           NaN  High Point   \n",
       "\n",
       "                                                    school_id  \n",
       "school_id                date_game                             \n",
       "Old Dominion             2010-11-15              Old Dominion  \n",
       "Citadel                  2010-11-23                   Citadel  \n",
       "Hampton                  2010-11-28                   Hampton  \n",
       "Gardner-Webb             2010-12-02              Gardner-Webb  \n",
       "North Carolina-Asheville 2010-12-04  North Carolina-Asheville  \n",
       "\n",
       "[5 rows x 67 columns]"
      ]
     },
     "execution_count": 63,
     "metadata": {},
     "output_type": "execute_result"
    }
   ],
   "source": [
    "temp_your.head()"
   ]
  },
  {
   "cell_type": "code",
   "execution_count": 64,
   "metadata": {
    "collapsed": true
   },
   "outputs": [],
   "source": [
    "joined = temp_my.join(temp_your, how='left', on=['school_id', 'date_game'], rsuffix='_r')"
   ]
  },
  {
   "cell_type": "code",
   "execution_count": 65,
   "metadata": {},
   "outputs": [
    {
     "data": {
      "text/html": [
       "<div>\n",
       "<style>\n",
       "    .dataframe thead tr:only-child th {\n",
       "        text-align: right;\n",
       "    }\n",
       "\n",
       "    .dataframe thead th {\n",
       "        text-align: left;\n",
       "    }\n",
       "\n",
       "    .dataframe tbody tr th {\n",
       "        vertical-align: top;\n",
       "    }\n",
       "</style>\n",
       "<table border=\"1\" class=\"dataframe\">\n",
       "  <thead>\n",
       "    <tr style=\"text-align: right;\">\n",
       "      <th></th>\n",
       "      <th></th>\n",
       "      <th>date_game</th>\n",
       "      <th>ewm03fg2</th>\n",
       "      <th>ewm03fg2a</th>\n",
       "      <th>ewm03fg3</th>\n",
       "      <th>ewm03fg3a</th>\n",
       "      <th>ewm03ft</th>\n",
       "      <th>ewm03fta</th>\n",
       "      <th>ewm03orb</th>\n",
       "      <th>ewm03drb</th>\n",
       "      <th>ewm03ast</th>\n",
       "      <th>...</th>\n",
       "      <th>rm30heldto_ast</th>\n",
       "      <th>rm30heldto_stl</th>\n",
       "      <th>rm30heldto_blk</th>\n",
       "      <th>rm30heldto_tov</th>\n",
       "      <th>rm30heldto_pf</th>\n",
       "      <th>rm30heldto_pts</th>\n",
       "      <th>rm30heldto_game_score</th>\n",
       "      <th>rm30heldto_W</th>\n",
       "      <th>opp_id_r</th>\n",
       "      <th>school_id_r</th>\n",
       "    </tr>\n",
       "    <tr>\n",
       "      <th>school_id</th>\n",
       "      <th>date_game</th>\n",
       "      <th></th>\n",
       "      <th></th>\n",
       "      <th></th>\n",
       "      <th></th>\n",
       "      <th></th>\n",
       "      <th></th>\n",
       "      <th></th>\n",
       "      <th></th>\n",
       "      <th></th>\n",
       "      <th></th>\n",
       "      <th></th>\n",
       "      <th></th>\n",
       "      <th></th>\n",
       "      <th></th>\n",
       "      <th></th>\n",
       "      <th></th>\n",
       "      <th></th>\n",
       "      <th></th>\n",
       "      <th></th>\n",
       "      <th></th>\n",
       "      <th></th>\n",
       "    </tr>\n",
       "  </thead>\n",
       "  <tbody>\n",
       "    <tr>\n",
       "      <th rowspan=\"5\" valign=\"top\">High Point</th>\n",
       "      <th>2010-11-15</th>\n",
       "      <td>2010-11-15</td>\n",
       "      <td>NaN</td>\n",
       "      <td>NaN</td>\n",
       "      <td>NaN</td>\n",
       "      <td>NaN</td>\n",
       "      <td>NaN</td>\n",
       "      <td>NaN</td>\n",
       "      <td>NaN</td>\n",
       "      <td>NaN</td>\n",
       "      <td>NaN</td>\n",
       "      <td>...</td>\n",
       "      <td>NaN</td>\n",
       "      <td>NaN</td>\n",
       "      <td>NaN</td>\n",
       "      <td>NaN</td>\n",
       "      <td>NaN</td>\n",
       "      <td>NaN</td>\n",
       "      <td>NaN</td>\n",
       "      <td>NaN</td>\n",
       "      <td>Old Dominion</td>\n",
       "      <td>High Point</td>\n",
       "    </tr>\n",
       "    <tr>\n",
       "      <th>2010-11-23</th>\n",
       "      <td>2010-11-23</td>\n",
       "      <td>8.000000</td>\n",
       "      <td>32.000000</td>\n",
       "      <td>8.000000</td>\n",
       "      <td>22.000000</td>\n",
       "      <td>17.000000</td>\n",
       "      <td>29.000000</td>\n",
       "      <td>10.000000</td>\n",
       "      <td>19.000000</td>\n",
       "      <td>10.000000</td>\n",
       "      <td>...</td>\n",
       "      <td>NaN</td>\n",
       "      <td>NaN</td>\n",
       "      <td>NaN</td>\n",
       "      <td>NaN</td>\n",
       "      <td>NaN</td>\n",
       "      <td>NaN</td>\n",
       "      <td>NaN</td>\n",
       "      <td>NaN</td>\n",
       "      <td>Citadel</td>\n",
       "      <td>High Point</td>\n",
       "    </tr>\n",
       "    <tr>\n",
       "      <th>2010-11-28</th>\n",
       "      <td>2010-11-28</td>\n",
       "      <td>14.666667</td>\n",
       "      <td>42.000000</td>\n",
       "      <td>4.000000</td>\n",
       "      <td>12.000000</td>\n",
       "      <td>19.666667</td>\n",
       "      <td>31.666667</td>\n",
       "      <td>10.000000</td>\n",
       "      <td>20.333333</td>\n",
       "      <td>7.333333</td>\n",
       "      <td>...</td>\n",
       "      <td>NaN</td>\n",
       "      <td>NaN</td>\n",
       "      <td>NaN</td>\n",
       "      <td>NaN</td>\n",
       "      <td>NaN</td>\n",
       "      <td>NaN</td>\n",
       "      <td>NaN</td>\n",
       "      <td>NaN</td>\n",
       "      <td>Hampton</td>\n",
       "      <td>High Point</td>\n",
       "    </tr>\n",
       "    <tr>\n",
       "      <th>2010-12-02</th>\n",
       "      <td>2010-12-02</td>\n",
       "      <td>13.714286</td>\n",
       "      <td>39.142857</td>\n",
       "      <td>5.142857</td>\n",
       "      <td>12.000000</td>\n",
       "      <td>19.857143</td>\n",
       "      <td>27.857143</td>\n",
       "      <td>7.142857</td>\n",
       "      <td>23.571429</td>\n",
       "      <td>10.000000</td>\n",
       "      <td>...</td>\n",
       "      <td>NaN</td>\n",
       "      <td>NaN</td>\n",
       "      <td>NaN</td>\n",
       "      <td>NaN</td>\n",
       "      <td>NaN</td>\n",
       "      <td>NaN</td>\n",
       "      <td>NaN</td>\n",
       "      <td>NaN</td>\n",
       "      <td>Gardner-Webb</td>\n",
       "      <td>High Point</td>\n",
       "    </tr>\n",
       "    <tr>\n",
       "      <th>2010-12-04</th>\n",
       "      <td>2010-12-04</td>\n",
       "      <td>16.533333</td>\n",
       "      <td>39.066667</td>\n",
       "      <td>4.000000</td>\n",
       "      <td>10.933333</td>\n",
       "      <td>19.400000</td>\n",
       "      <td>28.466667</td>\n",
       "      <td>6.533333</td>\n",
       "      <td>22.733333</td>\n",
       "      <td>9.466667</td>\n",
       "      <td>...</td>\n",
       "      <td>NaN</td>\n",
       "      <td>NaN</td>\n",
       "      <td>NaN</td>\n",
       "      <td>NaN</td>\n",
       "      <td>NaN</td>\n",
       "      <td>NaN</td>\n",
       "      <td>NaN</td>\n",
       "      <td>NaN</td>\n",
       "      <td>North Carolina-Asheville</td>\n",
       "      <td>High Point</td>\n",
       "    </tr>\n",
       "  </tbody>\n",
       "</table>\n",
       "<p>5 rows × 134 columns</p>\n",
       "</div>"
      ],
      "text/plain": [
       "                       date_game   ewm03fg2  ewm03fg2a  ewm03fg3  ewm03fg3a  \\\n",
       "school_id  date_game                                                          \n",
       "High Point 2010-11-15 2010-11-15        NaN        NaN       NaN        NaN   \n",
       "           2010-11-23 2010-11-23   8.000000  32.000000  8.000000  22.000000   \n",
       "           2010-11-28 2010-11-28  14.666667  42.000000  4.000000  12.000000   \n",
       "           2010-12-02 2010-12-02  13.714286  39.142857  5.142857  12.000000   \n",
       "           2010-12-04 2010-12-04  16.533333  39.066667  4.000000  10.933333   \n",
       "\n",
       "                         ewm03ft   ewm03fta   ewm03orb   ewm03drb   ewm03ast  \\\n",
       "school_id  date_game                                                           \n",
       "High Point 2010-11-15        NaN        NaN        NaN        NaN        NaN   \n",
       "           2010-11-23  17.000000  29.000000  10.000000  19.000000  10.000000   \n",
       "           2010-11-28  19.666667  31.666667  10.000000  20.333333   7.333333   \n",
       "           2010-12-02  19.857143  27.857143   7.142857  23.571429  10.000000   \n",
       "           2010-12-04  19.400000  28.466667   6.533333  22.733333   9.466667   \n",
       "\n",
       "                          ...       rm30heldto_ast  rm30heldto_stl  \\\n",
       "school_id  date_game      ...                                        \n",
       "High Point 2010-11-15     ...                  NaN             NaN   \n",
       "           2010-11-23     ...                  NaN             NaN   \n",
       "           2010-11-28     ...                  NaN             NaN   \n",
       "           2010-12-02     ...                  NaN             NaN   \n",
       "           2010-12-04     ...                  NaN             NaN   \n",
       "\n",
       "                       rm30heldto_blk  rm30heldto_tov  rm30heldto_pf  \\\n",
       "school_id  date_game                                                   \n",
       "High Point 2010-11-15             NaN             NaN            NaN   \n",
       "           2010-11-23             NaN             NaN            NaN   \n",
       "           2010-11-28             NaN             NaN            NaN   \n",
       "           2010-12-02             NaN             NaN            NaN   \n",
       "           2010-12-04             NaN             NaN            NaN   \n",
       "\n",
       "                       rm30heldto_pts  rm30heldto_game_score  rm30heldto_W  \\\n",
       "school_id  date_game                                                         \n",
       "High Point 2010-11-15             NaN                    NaN           NaN   \n",
       "           2010-11-23             NaN                    NaN           NaN   \n",
       "           2010-11-28             NaN                    NaN           NaN   \n",
       "           2010-12-02             NaN                    NaN           NaN   \n",
       "           2010-12-04             NaN                    NaN           NaN   \n",
       "\n",
       "                                       opp_id_r  school_id_r  \n",
       "school_id  date_game                                          \n",
       "High Point 2010-11-15              Old Dominion   High Point  \n",
       "           2010-11-23                   Citadel   High Point  \n",
       "           2010-11-28                   Hampton   High Point  \n",
       "           2010-12-02              Gardner-Webb   High Point  \n",
       "           2010-12-04  North Carolina-Asheville   High Point  \n",
       "\n",
       "[5 rows x 134 columns]"
      ]
     },
     "execution_count": 65,
     "metadata": {},
     "output_type": "execute_result"
    }
   ],
   "source": [
    "joined.head()"
   ]
  },
  {
   "cell_type": "code",
   "execution_count": 66,
   "metadata": {},
   "outputs": [
    {
     "data": {
      "text/plain": [
       "(87185, 134)"
      ]
     },
     "execution_count": 66,
     "metadata": {},
     "output_type": "execute_result"
    }
   ],
   "source": [
    "joined.shape"
   ]
  },
  {
   "cell_type": "code",
   "execution_count": 67,
   "metadata": {
    "scrolled": true
   },
   "outputs": [
    {
     "data": {
      "text/plain": [
       "date_game                     0\n",
       "ewm03fg2                    353\n",
       "ewm03fg2a                   353\n",
       "ewm03fg3                    353\n",
       "ewm03fg3a                   353\n",
       "ewm03ft                     353\n",
       "ewm03fta                    353\n",
       "ewm03orb                    353\n",
       "ewm03drb                    353\n",
       "ewm03ast                    353\n",
       "ewm03stl                    353\n",
       "ewm03blk                    353\n",
       "ewm03tov                    353\n",
       "ewm03pf                     353\n",
       "ewm03pts                    353\n",
       "ewm03game_score             353\n",
       "ewm03W                      353\n",
       "ewm10fg2                    353\n",
       "ewm10fg2a                   353\n",
       "ewm10fg3                    353\n",
       "ewm10fg3a                   353\n",
       "ewm10ft                     353\n",
       "ewm10fta                    353\n",
       "ewm10orb                    353\n",
       "ewm10drb                    353\n",
       "ewm10ast                    353\n",
       "ewm10stl                    353\n",
       "ewm10blk                    353\n",
       "ewm10tov                    353\n",
       "ewm10pf                     353\n",
       "                          ...  \n",
       "ewm20heldto_ft              352\n",
       "ewm20heldto_fta             352\n",
       "ewm20heldto_orb             352\n",
       "ewm20heldto_drb             352\n",
       "ewm20heldto_ast             352\n",
       "ewm20heldto_stl             352\n",
       "ewm20heldto_blk             352\n",
       "ewm20heldto_tov             352\n",
       "ewm20heldto_pf              352\n",
       "ewm20heldto_pts             352\n",
       "ewm20heldto_game_score      352\n",
       "ewm20heldto_W               352\n",
       "rm30heldto_fg2            10560\n",
       "rm30heldto_fg2a           10560\n",
       "rm30heldto_fg3            10560\n",
       "rm30heldto_fg3a           10560\n",
       "rm30heldto_ft             10560\n",
       "rm30heldto_fta            10560\n",
       "rm30heldto_orb            10560\n",
       "rm30heldto_drb            10560\n",
       "rm30heldto_ast            10560\n",
       "rm30heldto_stl            10560\n",
       "rm30heldto_blk            10560\n",
       "rm30heldto_tov            10560\n",
       "rm30heldto_pf             10560\n",
       "rm30heldto_pts            10560\n",
       "rm30heldto_game_score     10560\n",
       "rm30heldto_W              10560\n",
       "opp_id_r                      0\n",
       "school_id_r                   0\n",
       "Length: 134, dtype: int64"
      ]
     },
     "execution_count": 67,
     "metadata": {},
     "output_type": "execute_result"
    }
   ],
   "source": [
    "joined.isnull().sum()"
   ]
  },
  {
   "cell_type": "code",
   "execution_count": 68,
   "metadata": {
    "collapsed": true
   },
   "outputs": [],
   "source": [
    "# EWM gave us first day NA's, RM gave us first 30 days NA's\n",
    "joined.dropna(inplace=True)"
   ]
  },
  {
   "cell_type": "code",
   "execution_count": 69,
   "metadata": {
    "collapsed": true
   },
   "outputs": [],
   "source": [
    "# Bring in the target column, the W's\n",
    "joined = joined.join(myteam_df['W'], how='left', on=['school_id', 'date_game'])"
   ]
  },
  {
   "cell_type": "code",
   "execution_count": 70,
   "metadata": {
    "collapsed": true
   },
   "outputs": [],
   "source": [
    "# Drop repeat data\n",
    "joined.drop(['date_game', 'school_id', 'date_game_r', 'opp_id_r', 'school_id_r'], \n",
    "            axis=1, inplace=True)"
   ]
  },
  {
   "cell_type": "markdown",
   "metadata": {},
   "source": [
    "### Add SOS and SRS data"
   ]
  },
  {
   "cell_type": "code",
   "execution_count": 71,
   "metadata": {},
   "outputs": [
    {
     "data": {
      "text/html": [
       "<div>\n",
       "<style>\n",
       "    .dataframe thead tr:only-child th {\n",
       "        text-align: right;\n",
       "    }\n",
       "\n",
       "    .dataframe thead th {\n",
       "        text-align: left;\n",
       "    }\n",
       "\n",
       "    .dataframe tbody tr th {\n",
       "        vertical-align: top;\n",
       "    }\n",
       "</style>\n",
       "<table border=\"1\" class=\"dataframe\">\n",
       "  <thead>\n",
       "    <tr style=\"text-align: right;\">\n",
       "      <th></th>\n",
       "      <th></th>\n",
       "      <th>ewm03fg2</th>\n",
       "      <th>ewm03fg2a</th>\n",
       "      <th>ewm03fg3</th>\n",
       "      <th>ewm03fg3a</th>\n",
       "      <th>ewm03ft</th>\n",
       "      <th>ewm03fta</th>\n",
       "      <th>ewm03orb</th>\n",
       "      <th>ewm03drb</th>\n",
       "      <th>ewm03ast</th>\n",
       "      <th>ewm03stl</th>\n",
       "      <th>...</th>\n",
       "      <th>rm30heldto_drb</th>\n",
       "      <th>rm30heldto_ast</th>\n",
       "      <th>rm30heldto_stl</th>\n",
       "      <th>rm30heldto_blk</th>\n",
       "      <th>rm30heldto_tov</th>\n",
       "      <th>rm30heldto_pf</th>\n",
       "      <th>rm30heldto_pts</th>\n",
       "      <th>rm30heldto_game_score</th>\n",
       "      <th>rm30heldto_W</th>\n",
       "      <th>W</th>\n",
       "    </tr>\n",
       "    <tr>\n",
       "      <th>school_id</th>\n",
       "      <th>date_game</th>\n",
       "      <th></th>\n",
       "      <th></th>\n",
       "      <th></th>\n",
       "      <th></th>\n",
       "      <th></th>\n",
       "      <th></th>\n",
       "      <th></th>\n",
       "      <th></th>\n",
       "      <th></th>\n",
       "      <th></th>\n",
       "      <th></th>\n",
       "      <th></th>\n",
       "      <th></th>\n",
       "      <th></th>\n",
       "      <th></th>\n",
       "      <th></th>\n",
       "      <th></th>\n",
       "      <th></th>\n",
       "      <th></th>\n",
       "      <th></th>\n",
       "      <th></th>\n",
       "    </tr>\n",
       "  </thead>\n",
       "  <tbody>\n",
       "    <tr>\n",
       "      <th rowspan=\"5\" valign=\"top\">High Point</th>\n",
       "      <th>2011-11-18</th>\n",
       "      <td>14.449124</td>\n",
       "      <td>32.502785</td>\n",
       "      <td>6.527332</td>\n",
       "      <td>17.261717</td>\n",
       "      <td>10.273871</td>\n",
       "      <td>14.045750</td>\n",
       "      <td>6.731944</td>\n",
       "      <td>20.382396</td>\n",
       "      <td>8.311464</td>\n",
       "      <td>4.645682</td>\n",
       "      <td>...</td>\n",
       "      <td>20.166667</td>\n",
       "      <td>12.666667</td>\n",
       "      <td>6.900000</td>\n",
       "      <td>3.566667</td>\n",
       "      <td>12.200000</td>\n",
       "      <td>19.233333</td>\n",
       "      <td>64.533333</td>\n",
       "      <td>44.153333</td>\n",
       "      <td>0.433333</td>\n",
       "      <td>0</td>\n",
       "    </tr>\n",
       "    <tr>\n",
       "      <th>2011-11-22</th>\n",
       "      <td>15.724562</td>\n",
       "      <td>33.751393</td>\n",
       "      <td>7.263666</td>\n",
       "      <td>18.130859</td>\n",
       "      <td>12.136936</td>\n",
       "      <td>18.022875</td>\n",
       "      <td>5.865972</td>\n",
       "      <td>20.691198</td>\n",
       "      <td>11.655732</td>\n",
       "      <td>4.322841</td>\n",
       "      <td>...</td>\n",
       "      <td>19.500000</td>\n",
       "      <td>13.700000</td>\n",
       "      <td>6.566667</td>\n",
       "      <td>3.133333</td>\n",
       "      <td>15.300000</td>\n",
       "      <td>20.366667</td>\n",
       "      <td>71.566667</td>\n",
       "      <td>46.986667</td>\n",
       "      <td>0.433333</td>\n",
       "      <td>0</td>\n",
       "    </tr>\n",
       "    <tr>\n",
       "      <th>2011-11-26</th>\n",
       "      <td>15.362281</td>\n",
       "      <td>35.875696</td>\n",
       "      <td>7.131833</td>\n",
       "      <td>20.565429</td>\n",
       "      <td>9.068468</td>\n",
       "      <td>15.011437</td>\n",
       "      <td>8.932986</td>\n",
       "      <td>19.845599</td>\n",
       "      <td>14.327866</td>\n",
       "      <td>5.661420</td>\n",
       "      <td>...</td>\n",
       "      <td>20.966667</td>\n",
       "      <td>13.966667</td>\n",
       "      <td>6.000000</td>\n",
       "      <td>3.700000</td>\n",
       "      <td>10.166667</td>\n",
       "      <td>16.600000</td>\n",
       "      <td>71.566667</td>\n",
       "      <td>54.456667</td>\n",
       "      <td>0.700000</td>\n",
       "      <td>1</td>\n",
       "    </tr>\n",
       "    <tr>\n",
       "      <th>2011-11-29</th>\n",
       "      <td>17.681140</td>\n",
       "      <td>39.937848</td>\n",
       "      <td>7.065916</td>\n",
       "      <td>17.782715</td>\n",
       "      <td>14.034234</td>\n",
       "      <td>23.005719</td>\n",
       "      <td>10.466493</td>\n",
       "      <td>25.922800</td>\n",
       "      <td>13.663933</td>\n",
       "      <td>7.330710</td>\n",
       "      <td>...</td>\n",
       "      <td>24.233333</td>\n",
       "      <td>10.666667</td>\n",
       "      <td>5.200000</td>\n",
       "      <td>2.833333</td>\n",
       "      <td>14.900000</td>\n",
       "      <td>20.600000</td>\n",
       "      <td>65.566667</td>\n",
       "      <td>38.533333</td>\n",
       "      <td>0.366667</td>\n",
       "      <td>0</td>\n",
       "    </tr>\n",
       "    <tr>\n",
       "      <th>2011-12-03</th>\n",
       "      <td>12.840570</td>\n",
       "      <td>34.468924</td>\n",
       "      <td>10.032958</td>\n",
       "      <td>23.891357</td>\n",
       "      <td>11.517117</td>\n",
       "      <td>19.502859</td>\n",
       "      <td>12.733246</td>\n",
       "      <td>20.961400</td>\n",
       "      <td>11.831967</td>\n",
       "      <td>5.665355</td>\n",
       "      <td>...</td>\n",
       "      <td>20.166667</td>\n",
       "      <td>13.700000</td>\n",
       "      <td>6.966667</td>\n",
       "      <td>4.033333</td>\n",
       "      <td>13.833333</td>\n",
       "      <td>20.266667</td>\n",
       "      <td>69.133333</td>\n",
       "      <td>48.686667</td>\n",
       "      <td>0.566667</td>\n",
       "      <td>0</td>\n",
       "    </tr>\n",
       "  </tbody>\n",
       "</table>\n",
       "<p>5 rows × 130 columns</p>\n",
       "</div>"
      ],
      "text/plain": [
       "                        ewm03fg2  ewm03fg2a   ewm03fg3  ewm03fg3a    ewm03ft  \\\n",
       "school_id  date_game                                                           \n",
       "High Point 2011-11-18  14.449124  32.502785   6.527332  17.261717  10.273871   \n",
       "           2011-11-22  15.724562  33.751393   7.263666  18.130859  12.136936   \n",
       "           2011-11-26  15.362281  35.875696   7.131833  20.565429   9.068468   \n",
       "           2011-11-29  17.681140  39.937848   7.065916  17.782715  14.034234   \n",
       "           2011-12-03  12.840570  34.468924  10.032958  23.891357  11.517117   \n",
       "\n",
       "                        ewm03fta   ewm03orb   ewm03drb   ewm03ast  ewm03stl  \\\n",
       "school_id  date_game                                                          \n",
       "High Point 2011-11-18  14.045750   6.731944  20.382396   8.311464  4.645682   \n",
       "           2011-11-22  18.022875   5.865972  20.691198  11.655732  4.322841   \n",
       "           2011-11-26  15.011437   8.932986  19.845599  14.327866  5.661420   \n",
       "           2011-11-29  23.005719  10.466493  25.922800  13.663933  7.330710   \n",
       "           2011-12-03  19.502859  12.733246  20.961400  11.831967  5.665355   \n",
       "\n",
       "                      ...  rm30heldto_drb  rm30heldto_ast  rm30heldto_stl  \\\n",
       "school_id  date_game  ...                                                   \n",
       "High Point 2011-11-18 ...       20.166667       12.666667        6.900000   \n",
       "           2011-11-22 ...       19.500000       13.700000        6.566667   \n",
       "           2011-11-26 ...       20.966667       13.966667        6.000000   \n",
       "           2011-11-29 ...       24.233333       10.666667        5.200000   \n",
       "           2011-12-03 ...       20.166667       13.700000        6.966667   \n",
       "\n",
       "                       rm30heldto_blk  rm30heldto_tov  rm30heldto_pf  \\\n",
       "school_id  date_game                                                   \n",
       "High Point 2011-11-18        3.566667       12.200000      19.233333   \n",
       "           2011-11-22        3.133333       15.300000      20.366667   \n",
       "           2011-11-26        3.700000       10.166667      16.600000   \n",
       "           2011-11-29        2.833333       14.900000      20.600000   \n",
       "           2011-12-03        4.033333       13.833333      20.266667   \n",
       "\n",
       "                       rm30heldto_pts  rm30heldto_game_score  rm30heldto_W  W  \n",
       "school_id  date_game                                                           \n",
       "High Point 2011-11-18       64.533333              44.153333      0.433333  0  \n",
       "           2011-11-22       71.566667              46.986667      0.433333  0  \n",
       "           2011-11-26       71.566667              54.456667      0.700000  1  \n",
       "           2011-11-29       65.566667              38.533333      0.366667  0  \n",
       "           2011-12-03       69.133333              48.686667      0.566667  0  \n",
       "\n",
       "[5 rows x 130 columns]"
      ]
     },
     "execution_count": 71,
     "metadata": {},
     "output_type": "execute_result"
    }
   ],
   "source": [
    "joined.head()"
   ]
  },
  {
   "cell_type": "code",
   "execution_count": 72,
   "metadata": {
    "collapsed": true
   },
   "outputs": [],
   "source": [
    "joined.reset_index(drop=False, inplace=True)"
   ]
  },
  {
   "cell_type": "code",
   "execution_count": 73,
   "metadata": {
    "collapsed": true
   },
   "outputs": [],
   "source": [
    "joined['year'] = joined['date_game'].apply(lambda x: x.year)"
   ]
  },
  {
   "cell_type": "code",
   "execution_count": 74,
   "metadata": {
    "collapsed": true
   },
   "outputs": [],
   "source": [
    "joined.set_index(['school_id', 'year'], drop=False, inplace=True)"
   ]
  },
  {
   "cell_type": "code",
   "execution_count": 75,
   "metadata": {},
   "outputs": [
    {
     "data": {
      "text/html": [
       "<div>\n",
       "<style>\n",
       "    .dataframe thead tr:only-child th {\n",
       "        text-align: right;\n",
       "    }\n",
       "\n",
       "    .dataframe thead th {\n",
       "        text-align: left;\n",
       "    }\n",
       "\n",
       "    .dataframe tbody tr th {\n",
       "        vertical-align: top;\n",
       "    }\n",
       "</style>\n",
       "<table border=\"1\" class=\"dataframe\">\n",
       "  <thead>\n",
       "    <tr style=\"text-align: right;\">\n",
       "      <th></th>\n",
       "      <th></th>\n",
       "      <th>school_id</th>\n",
       "      <th>date_game</th>\n",
       "      <th>ewm03fg2</th>\n",
       "      <th>ewm03fg2a</th>\n",
       "      <th>ewm03fg3</th>\n",
       "      <th>ewm03fg3a</th>\n",
       "      <th>ewm03ft</th>\n",
       "      <th>ewm03fta</th>\n",
       "      <th>ewm03orb</th>\n",
       "      <th>ewm03drb</th>\n",
       "      <th>...</th>\n",
       "      <th>rm30heldto_ast</th>\n",
       "      <th>rm30heldto_stl</th>\n",
       "      <th>rm30heldto_blk</th>\n",
       "      <th>rm30heldto_tov</th>\n",
       "      <th>rm30heldto_pf</th>\n",
       "      <th>rm30heldto_pts</th>\n",
       "      <th>rm30heldto_game_score</th>\n",
       "      <th>rm30heldto_W</th>\n",
       "      <th>W</th>\n",
       "      <th>year</th>\n",
       "    </tr>\n",
       "    <tr>\n",
       "      <th>school_id</th>\n",
       "      <th>year</th>\n",
       "      <th></th>\n",
       "      <th></th>\n",
       "      <th></th>\n",
       "      <th></th>\n",
       "      <th></th>\n",
       "      <th></th>\n",
       "      <th></th>\n",
       "      <th></th>\n",
       "      <th></th>\n",
       "      <th></th>\n",
       "      <th></th>\n",
       "      <th></th>\n",
       "      <th></th>\n",
       "      <th></th>\n",
       "      <th></th>\n",
       "      <th></th>\n",
       "      <th></th>\n",
       "      <th></th>\n",
       "      <th></th>\n",
       "      <th></th>\n",
       "      <th></th>\n",
       "    </tr>\n",
       "  </thead>\n",
       "  <tbody>\n",
       "    <tr>\n",
       "      <th rowspan=\"5\" valign=\"top\">High Point</th>\n",
       "      <th>2011</th>\n",
       "      <td>High Point</td>\n",
       "      <td>2011-11-18</td>\n",
       "      <td>14.449124</td>\n",
       "      <td>32.502785</td>\n",
       "      <td>6.527332</td>\n",
       "      <td>17.261717</td>\n",
       "      <td>10.273871</td>\n",
       "      <td>14.045750</td>\n",
       "      <td>6.731944</td>\n",
       "      <td>20.382396</td>\n",
       "      <td>...</td>\n",
       "      <td>12.666667</td>\n",
       "      <td>6.900000</td>\n",
       "      <td>3.566667</td>\n",
       "      <td>12.200000</td>\n",
       "      <td>19.233333</td>\n",
       "      <td>64.533333</td>\n",
       "      <td>44.153333</td>\n",
       "      <td>0.433333</td>\n",
       "      <td>0</td>\n",
       "      <td>2011</td>\n",
       "    </tr>\n",
       "    <tr>\n",
       "      <th>2011</th>\n",
       "      <td>High Point</td>\n",
       "      <td>2011-11-22</td>\n",
       "      <td>15.724562</td>\n",
       "      <td>33.751393</td>\n",
       "      <td>7.263666</td>\n",
       "      <td>18.130859</td>\n",
       "      <td>12.136936</td>\n",
       "      <td>18.022875</td>\n",
       "      <td>5.865972</td>\n",
       "      <td>20.691198</td>\n",
       "      <td>...</td>\n",
       "      <td>13.700000</td>\n",
       "      <td>6.566667</td>\n",
       "      <td>3.133333</td>\n",
       "      <td>15.300000</td>\n",
       "      <td>20.366667</td>\n",
       "      <td>71.566667</td>\n",
       "      <td>46.986667</td>\n",
       "      <td>0.433333</td>\n",
       "      <td>0</td>\n",
       "      <td>2011</td>\n",
       "    </tr>\n",
       "    <tr>\n",
       "      <th>2011</th>\n",
       "      <td>High Point</td>\n",
       "      <td>2011-11-26</td>\n",
       "      <td>15.362281</td>\n",
       "      <td>35.875696</td>\n",
       "      <td>7.131833</td>\n",
       "      <td>20.565429</td>\n",
       "      <td>9.068468</td>\n",
       "      <td>15.011437</td>\n",
       "      <td>8.932986</td>\n",
       "      <td>19.845599</td>\n",
       "      <td>...</td>\n",
       "      <td>13.966667</td>\n",
       "      <td>6.000000</td>\n",
       "      <td>3.700000</td>\n",
       "      <td>10.166667</td>\n",
       "      <td>16.600000</td>\n",
       "      <td>71.566667</td>\n",
       "      <td>54.456667</td>\n",
       "      <td>0.700000</td>\n",
       "      <td>1</td>\n",
       "      <td>2011</td>\n",
       "    </tr>\n",
       "    <tr>\n",
       "      <th>2011</th>\n",
       "      <td>High Point</td>\n",
       "      <td>2011-11-29</td>\n",
       "      <td>17.681140</td>\n",
       "      <td>39.937848</td>\n",
       "      <td>7.065916</td>\n",
       "      <td>17.782715</td>\n",
       "      <td>14.034234</td>\n",
       "      <td>23.005719</td>\n",
       "      <td>10.466493</td>\n",
       "      <td>25.922800</td>\n",
       "      <td>...</td>\n",
       "      <td>10.666667</td>\n",
       "      <td>5.200000</td>\n",
       "      <td>2.833333</td>\n",
       "      <td>14.900000</td>\n",
       "      <td>20.600000</td>\n",
       "      <td>65.566667</td>\n",
       "      <td>38.533333</td>\n",
       "      <td>0.366667</td>\n",
       "      <td>0</td>\n",
       "      <td>2011</td>\n",
       "    </tr>\n",
       "    <tr>\n",
       "      <th>2011</th>\n",
       "      <td>High Point</td>\n",
       "      <td>2011-12-03</td>\n",
       "      <td>12.840570</td>\n",
       "      <td>34.468924</td>\n",
       "      <td>10.032958</td>\n",
       "      <td>23.891357</td>\n",
       "      <td>11.517117</td>\n",
       "      <td>19.502859</td>\n",
       "      <td>12.733246</td>\n",
       "      <td>20.961400</td>\n",
       "      <td>...</td>\n",
       "      <td>13.700000</td>\n",
       "      <td>6.966667</td>\n",
       "      <td>4.033333</td>\n",
       "      <td>13.833333</td>\n",
       "      <td>20.266667</td>\n",
       "      <td>69.133333</td>\n",
       "      <td>48.686667</td>\n",
       "      <td>0.566667</td>\n",
       "      <td>0</td>\n",
       "      <td>2011</td>\n",
       "    </tr>\n",
       "  </tbody>\n",
       "</table>\n",
       "<p>5 rows × 133 columns</p>\n",
       "</div>"
      ],
      "text/plain": [
       "                  school_id  date_game   ewm03fg2  ewm03fg2a   ewm03fg3  \\\n",
       "school_id  year                                                           \n",
       "High Point 2011  High Point 2011-11-18  14.449124  32.502785   6.527332   \n",
       "           2011  High Point 2011-11-22  15.724562  33.751393   7.263666   \n",
       "           2011  High Point 2011-11-26  15.362281  35.875696   7.131833   \n",
       "           2011  High Point 2011-11-29  17.681140  39.937848   7.065916   \n",
       "           2011  High Point 2011-12-03  12.840570  34.468924  10.032958   \n",
       "\n",
       "                 ewm03fg3a    ewm03ft   ewm03fta   ewm03orb   ewm03drb  ...   \\\n",
       "school_id  year                                                         ...    \n",
       "High Point 2011  17.261717  10.273871  14.045750   6.731944  20.382396  ...    \n",
       "           2011  18.130859  12.136936  18.022875   5.865972  20.691198  ...    \n",
       "           2011  20.565429   9.068468  15.011437   8.932986  19.845599  ...    \n",
       "           2011  17.782715  14.034234  23.005719  10.466493  25.922800  ...    \n",
       "           2011  23.891357  11.517117  19.502859  12.733246  20.961400  ...    \n",
       "\n",
       "                 rm30heldto_ast  rm30heldto_stl  rm30heldto_blk  \\\n",
       "school_id  year                                                   \n",
       "High Point 2011       12.666667        6.900000        3.566667   \n",
       "           2011       13.700000        6.566667        3.133333   \n",
       "           2011       13.966667        6.000000        3.700000   \n",
       "           2011       10.666667        5.200000        2.833333   \n",
       "           2011       13.700000        6.966667        4.033333   \n",
       "\n",
       "                 rm30heldto_tov  rm30heldto_pf  rm30heldto_pts  \\\n",
       "school_id  year                                                  \n",
       "High Point 2011       12.200000      19.233333       64.533333   \n",
       "           2011       15.300000      20.366667       71.566667   \n",
       "           2011       10.166667      16.600000       71.566667   \n",
       "           2011       14.900000      20.600000       65.566667   \n",
       "           2011       13.833333      20.266667       69.133333   \n",
       "\n",
       "                 rm30heldto_game_score  rm30heldto_W  W  year  \n",
       "school_id  year                                                \n",
       "High Point 2011              44.153333      0.433333  0  2011  \n",
       "           2011              46.986667      0.433333  0  2011  \n",
       "           2011              54.456667      0.700000  1  2011  \n",
       "           2011              38.533333      0.366667  0  2011  \n",
       "           2011              48.686667      0.566667  0  2011  \n",
       "\n",
       "[5 rows x 133 columns]"
      ]
     },
     "execution_count": 75,
     "metadata": {},
     "output_type": "execute_result"
    }
   ],
   "source": [
    "joined.head()"
   ]
  },
  {
   "cell_type": "code",
   "execution_count": 76,
   "metadata": {
    "collapsed": true
   },
   "outputs": [],
   "source": [
    "joined = joined.join(school_df[['SRS', 'SOS']], how='left', on=['school_id', 'year'])"
   ]
  },
  {
   "cell_type": "code",
   "execution_count": 77,
   "metadata": {
    "collapsed": true
   },
   "outputs": [],
   "source": [
    "joined.drop(['school_id', 'year'], axis=1, inplace=True)"
   ]
  },
  {
   "cell_type": "code",
   "execution_count": 78,
   "metadata": {
    "collapsed": true
   },
   "outputs": [],
   "source": [
    "joined.reset_index(drop=False, inplace=True)"
   ]
  },
  {
   "cell_type": "code",
   "execution_count": 79,
   "metadata": {
    "collapsed": true
   },
   "outputs": [],
   "source": [
    "joined.set_index(['opp_id', 'year'], drop=False, inplace=True)"
   ]
  },
  {
   "cell_type": "code",
   "execution_count": 80,
   "metadata": {},
   "outputs": [
    {
     "data": {
      "text/html": [
       "<div>\n",
       "<style>\n",
       "    .dataframe thead tr:only-child th {\n",
       "        text-align: right;\n",
       "    }\n",
       "\n",
       "    .dataframe thead th {\n",
       "        text-align: left;\n",
       "    }\n",
       "\n",
       "    .dataframe tbody tr th {\n",
       "        vertical-align: top;\n",
       "    }\n",
       "</style>\n",
       "<table border=\"1\" class=\"dataframe\">\n",
       "  <thead>\n",
       "    <tr style=\"text-align: right;\">\n",
       "      <th></th>\n",
       "      <th></th>\n",
       "      <th>school_id</th>\n",
       "      <th>year</th>\n",
       "      <th>date_game</th>\n",
       "      <th>ewm03fg2</th>\n",
       "      <th>ewm03fg2a</th>\n",
       "      <th>ewm03fg3</th>\n",
       "      <th>ewm03fg3a</th>\n",
       "      <th>ewm03ft</th>\n",
       "      <th>ewm03fta</th>\n",
       "      <th>ewm03orb</th>\n",
       "      <th>...</th>\n",
       "      <th>rm30heldto_stl</th>\n",
       "      <th>rm30heldto_blk</th>\n",
       "      <th>rm30heldto_tov</th>\n",
       "      <th>rm30heldto_pf</th>\n",
       "      <th>rm30heldto_pts</th>\n",
       "      <th>rm30heldto_game_score</th>\n",
       "      <th>rm30heldto_W</th>\n",
       "      <th>W</th>\n",
       "      <th>SRS</th>\n",
       "      <th>SOS</th>\n",
       "    </tr>\n",
       "    <tr>\n",
       "      <th>opp_id</th>\n",
       "      <th>year</th>\n",
       "      <th></th>\n",
       "      <th></th>\n",
       "      <th></th>\n",
       "      <th></th>\n",
       "      <th></th>\n",
       "      <th></th>\n",
       "      <th></th>\n",
       "      <th></th>\n",
       "      <th></th>\n",
       "      <th></th>\n",
       "      <th></th>\n",
       "      <th></th>\n",
       "      <th></th>\n",
       "      <th></th>\n",
       "      <th></th>\n",
       "      <th></th>\n",
       "      <th></th>\n",
       "      <th></th>\n",
       "      <th></th>\n",
       "      <th></th>\n",
       "      <th></th>\n",
       "    </tr>\n",
       "  </thead>\n",
       "  <tbody>\n",
       "    <tr>\n",
       "      <th>Central Florida</th>\n",
       "      <th>2011</th>\n",
       "      <td>High Point</td>\n",
       "      <td>2011</td>\n",
       "      <td>2011-11-18</td>\n",
       "      <td>14.449124</td>\n",
       "      <td>32.502785</td>\n",
       "      <td>6.527332</td>\n",
       "      <td>17.261717</td>\n",
       "      <td>10.273871</td>\n",
       "      <td>14.045750</td>\n",
       "      <td>6.731944</td>\n",
       "      <td>...</td>\n",
       "      <td>6.900000</td>\n",
       "      <td>3.566667</td>\n",
       "      <td>12.200000</td>\n",
       "      <td>19.233333</td>\n",
       "      <td>64.533333</td>\n",
       "      <td>44.153333</td>\n",
       "      <td>0.433333</td>\n",
       "      <td>0</td>\n",
       "      <td>-12.82</td>\n",
       "      <td>-4.47</td>\n",
       "    </tr>\n",
       "    <tr>\n",
       "      <th>Tennessee Tech</th>\n",
       "      <th>2011</th>\n",
       "      <td>High Point</td>\n",
       "      <td>2011</td>\n",
       "      <td>2011-11-22</td>\n",
       "      <td>15.724562</td>\n",
       "      <td>33.751393</td>\n",
       "      <td>7.263666</td>\n",
       "      <td>18.130859</td>\n",
       "      <td>12.136936</td>\n",
       "      <td>18.022875</td>\n",
       "      <td>5.865972</td>\n",
       "      <td>...</td>\n",
       "      <td>6.566667</td>\n",
       "      <td>3.133333</td>\n",
       "      <td>15.300000</td>\n",
       "      <td>20.366667</td>\n",
       "      <td>71.566667</td>\n",
       "      <td>46.986667</td>\n",
       "      <td>0.433333</td>\n",
       "      <td>0</td>\n",
       "      <td>-12.82</td>\n",
       "      <td>-4.47</td>\n",
       "    </tr>\n",
       "    <tr>\n",
       "      <th>Citadel</th>\n",
       "      <th>2011</th>\n",
       "      <td>High Point</td>\n",
       "      <td>2011</td>\n",
       "      <td>2011-11-26</td>\n",
       "      <td>15.362281</td>\n",
       "      <td>35.875696</td>\n",
       "      <td>7.131833</td>\n",
       "      <td>20.565429</td>\n",
       "      <td>9.068468</td>\n",
       "      <td>15.011437</td>\n",
       "      <td>8.932986</td>\n",
       "      <td>...</td>\n",
       "      <td>6.000000</td>\n",
       "      <td>3.700000</td>\n",
       "      <td>10.166667</td>\n",
       "      <td>16.600000</td>\n",
       "      <td>71.566667</td>\n",
       "      <td>54.456667</td>\n",
       "      <td>0.700000</td>\n",
       "      <td>1</td>\n",
       "      <td>-12.82</td>\n",
       "      <td>-4.47</td>\n",
       "    </tr>\n",
       "    <tr>\n",
       "      <th>Hampton</th>\n",
       "      <th>2011</th>\n",
       "      <td>High Point</td>\n",
       "      <td>2011</td>\n",
       "      <td>2011-11-29</td>\n",
       "      <td>17.681140</td>\n",
       "      <td>39.937848</td>\n",
       "      <td>7.065916</td>\n",
       "      <td>17.782715</td>\n",
       "      <td>14.034234</td>\n",
       "      <td>23.005719</td>\n",
       "      <td>10.466493</td>\n",
       "      <td>...</td>\n",
       "      <td>5.200000</td>\n",
       "      <td>2.833333</td>\n",
       "      <td>14.900000</td>\n",
       "      <td>20.600000</td>\n",
       "      <td>65.566667</td>\n",
       "      <td>38.533333</td>\n",
       "      <td>0.366667</td>\n",
       "      <td>0</td>\n",
       "      <td>-12.82</td>\n",
       "      <td>-4.47</td>\n",
       "    </tr>\n",
       "    <tr>\n",
       "      <th>Campbell</th>\n",
       "      <th>2011</th>\n",
       "      <td>High Point</td>\n",
       "      <td>2011</td>\n",
       "      <td>2011-12-03</td>\n",
       "      <td>12.840570</td>\n",
       "      <td>34.468924</td>\n",
       "      <td>10.032958</td>\n",
       "      <td>23.891357</td>\n",
       "      <td>11.517117</td>\n",
       "      <td>19.502859</td>\n",
       "      <td>12.733246</td>\n",
       "      <td>...</td>\n",
       "      <td>6.966667</td>\n",
       "      <td>4.033333</td>\n",
       "      <td>13.833333</td>\n",
       "      <td>20.266667</td>\n",
       "      <td>69.133333</td>\n",
       "      <td>48.686667</td>\n",
       "      <td>0.566667</td>\n",
       "      <td>0</td>\n",
       "      <td>-12.82</td>\n",
       "      <td>-4.47</td>\n",
       "    </tr>\n",
       "  </tbody>\n",
       "</table>\n",
       "<p>5 rows × 135 columns</p>\n",
       "</div>"
      ],
      "text/plain": [
       "                       school_id  year  date_game   ewm03fg2  ewm03fg2a  \\\n",
       "opp_id          year                                                      \n",
       "Central Florida 2011  High Point  2011 2011-11-18  14.449124  32.502785   \n",
       "Tennessee Tech  2011  High Point  2011 2011-11-22  15.724562  33.751393   \n",
       "Citadel         2011  High Point  2011 2011-11-26  15.362281  35.875696   \n",
       "Hampton         2011  High Point  2011 2011-11-29  17.681140  39.937848   \n",
       "Campbell        2011  High Point  2011 2011-12-03  12.840570  34.468924   \n",
       "\n",
       "                       ewm03fg3  ewm03fg3a    ewm03ft   ewm03fta   ewm03orb  \\\n",
       "opp_id          year                                                          \n",
       "Central Florida 2011   6.527332  17.261717  10.273871  14.045750   6.731944   \n",
       "Tennessee Tech  2011   7.263666  18.130859  12.136936  18.022875   5.865972   \n",
       "Citadel         2011   7.131833  20.565429   9.068468  15.011437   8.932986   \n",
       "Hampton         2011   7.065916  17.782715  14.034234  23.005719  10.466493   \n",
       "Campbell        2011  10.032958  23.891357  11.517117  19.502859  12.733246   \n",
       "\n",
       "                      ...   rm30heldto_stl  rm30heldto_blk  rm30heldto_tov  \\\n",
       "opp_id          year  ...                                                    \n",
       "Central Florida 2011  ...         6.900000        3.566667       12.200000   \n",
       "Tennessee Tech  2011  ...         6.566667        3.133333       15.300000   \n",
       "Citadel         2011  ...         6.000000        3.700000       10.166667   \n",
       "Hampton         2011  ...         5.200000        2.833333       14.900000   \n",
       "Campbell        2011  ...         6.966667        4.033333       13.833333   \n",
       "\n",
       "                      rm30heldto_pf  rm30heldto_pts  rm30heldto_game_score  \\\n",
       "opp_id          year                                                         \n",
       "Central Florida 2011      19.233333       64.533333              44.153333   \n",
       "Tennessee Tech  2011      20.366667       71.566667              46.986667   \n",
       "Citadel         2011      16.600000       71.566667              54.456667   \n",
       "Hampton         2011      20.600000       65.566667              38.533333   \n",
       "Campbell        2011      20.266667       69.133333              48.686667   \n",
       "\n",
       "                      rm30heldto_W  W    SRS   SOS  \n",
       "opp_id          year                                \n",
       "Central Florida 2011      0.433333  0 -12.82 -4.47  \n",
       "Tennessee Tech  2011      0.433333  0 -12.82 -4.47  \n",
       "Citadel         2011      0.700000  1 -12.82 -4.47  \n",
       "Hampton         2011      0.366667  0 -12.82 -4.47  \n",
       "Campbell        2011      0.566667  0 -12.82 -4.47  \n",
       "\n",
       "[5 rows x 135 columns]"
      ]
     },
     "execution_count": 80,
     "metadata": {},
     "output_type": "execute_result"
    }
   ],
   "source": [
    "joined.head()"
   ]
  },
  {
   "cell_type": "code",
   "execution_count": null,
   "metadata": {
    "collapsed": true
   },
   "outputs": [],
   "source": []
  },
  {
   "cell_type": "code",
   "execution_count": 81,
   "metadata": {
    "collapsed": true
   },
   "outputs": [],
   "source": [
    "school_df.drop(['year', 'school_id'], axis=1, inplace=True)"
   ]
  },
  {
   "cell_type": "code",
   "execution_count": 82,
   "metadata": {
    "collapsed": true
   },
   "outputs": [],
   "source": [
    "school_df.reset_index(drop=False, inplace=True)"
   ]
  },
  {
   "cell_type": "code",
   "execution_count": 83,
   "metadata": {
    "collapsed": true
   },
   "outputs": [],
   "source": [
    "school_df = school_df.rename(columns={'school_id':'opp_id', 'SRS':'opp_SRS', 'SOS':'opp_SOS'})"
   ]
  },
  {
   "cell_type": "code",
   "execution_count": 84,
   "metadata": {
    "collapsed": true
   },
   "outputs": [],
   "source": [
    "school_df.set_index(['opp_id', 'year'], drop=False, inplace=True)"
   ]
  },
  {
   "cell_type": "code",
   "execution_count": 85,
   "metadata": {},
   "outputs": [
    {
     "data": {
      "text/html": [
       "<div>\n",
       "<style>\n",
       "    .dataframe thead tr:only-child th {\n",
       "        text-align: right;\n",
       "    }\n",
       "\n",
       "    .dataframe thead th {\n",
       "        text-align: left;\n",
       "    }\n",
       "\n",
       "    .dataframe tbody tr th {\n",
       "        vertical-align: top;\n",
       "    }\n",
       "</style>\n",
       "<table border=\"1\" class=\"dataframe\">\n",
       "  <thead>\n",
       "    <tr style=\"text-align: right;\">\n",
       "      <th></th>\n",
       "      <th></th>\n",
       "      <th>opp_id</th>\n",
       "      <th>year</th>\n",
       "      <th>WinLossPct</th>\n",
       "      <th>opp_SRS</th>\n",
       "      <th>opp_SOS</th>\n",
       "    </tr>\n",
       "    <tr>\n",
       "      <th>opp_id</th>\n",
       "      <th>year</th>\n",
       "      <th></th>\n",
       "      <th></th>\n",
       "      <th></th>\n",
       "      <th></th>\n",
       "      <th></th>\n",
       "    </tr>\n",
       "  </thead>\n",
       "  <tbody>\n",
       "    <tr>\n",
       "      <th>Air Force</th>\n",
       "      <th>2010</th>\n",
       "      <td>Air Force</td>\n",
       "      <td>2010</td>\n",
       "      <td>0.323</td>\n",
       "      <td>-4.90</td>\n",
       "      <td>3.13</td>\n",
       "    </tr>\n",
       "    <tr>\n",
       "      <th>Akron</th>\n",
       "      <th>2010</th>\n",
       "      <td>Akron</td>\n",
       "      <td>2010</td>\n",
       "      <td>0.686</td>\n",
       "      <td>2.82</td>\n",
       "      <td>-1.50</td>\n",
       "    </tr>\n",
       "    <tr>\n",
       "      <th>Alabama A&amp;M</th>\n",
       "      <th>2010</th>\n",
       "      <td>Alabama A&amp;M</td>\n",
       "      <td>2010</td>\n",
       "      <td>0.407</td>\n",
       "      <td>-20.19</td>\n",
       "      <td>-13.71</td>\n",
       "    </tr>\n",
       "    <tr>\n",
       "      <th>Alabama-Birmingham</th>\n",
       "      <th>2010</th>\n",
       "      <td>Alabama-Birmingham</td>\n",
       "      <td>2010</td>\n",
       "      <td>0.735</td>\n",
       "      <td>9.46</td>\n",
       "      <td>2.90</td>\n",
       "    </tr>\n",
       "    <tr>\n",
       "      <th>Alabama State</th>\n",
       "      <th>2010</th>\n",
       "      <td>Alabama State</td>\n",
       "      <td>2010</td>\n",
       "      <td>0.516</td>\n",
       "      <td>-14.41</td>\n",
       "      <td>-12.02</td>\n",
       "    </tr>\n",
       "  </tbody>\n",
       "</table>\n",
       "</div>"
      ],
      "text/plain": [
       "                                     opp_id  year  WinLossPct  opp_SRS  \\\n",
       "opp_id             year                                                  \n",
       "Air Force          2010           Air Force  2010       0.323    -4.90   \n",
       "Akron              2010               Akron  2010       0.686     2.82   \n",
       "Alabama A&M        2010         Alabama A&M  2010       0.407   -20.19   \n",
       "Alabama-Birmingham 2010  Alabama-Birmingham  2010       0.735     9.46   \n",
       "Alabama State      2010       Alabama State  2010       0.516   -14.41   \n",
       "\n",
       "                         opp_SOS  \n",
       "opp_id             year           \n",
       "Air Force          2010     3.13  \n",
       "Akron              2010    -1.50  \n",
       "Alabama A&M        2010   -13.71  \n",
       "Alabama-Birmingham 2010     2.90  \n",
       "Alabama State      2010   -12.02  "
      ]
     },
     "execution_count": 85,
     "metadata": {},
     "output_type": "execute_result"
    }
   ],
   "source": [
    "school_df.head()"
   ]
  },
  {
   "cell_type": "code",
   "execution_count": 86,
   "metadata": {
    "collapsed": true
   },
   "outputs": [],
   "source": [
    "joined = joined.join(school_df[['opp_SRS', 'opp_SOS']], how='left', on=['opp_id', 'year'])"
   ]
  },
  {
   "cell_type": "code",
   "execution_count": 87,
   "metadata": {},
   "outputs": [
    {
     "data": {
      "text/html": [
       "<div>\n",
       "<style>\n",
       "    .dataframe thead tr:only-child th {\n",
       "        text-align: right;\n",
       "    }\n",
       "\n",
       "    .dataframe thead th {\n",
       "        text-align: left;\n",
       "    }\n",
       "\n",
       "    .dataframe tbody tr th {\n",
       "        vertical-align: top;\n",
       "    }\n",
       "</style>\n",
       "<table border=\"1\" class=\"dataframe\">\n",
       "  <thead>\n",
       "    <tr style=\"text-align: right;\">\n",
       "      <th></th>\n",
       "      <th></th>\n",
       "      <th>school_id</th>\n",
       "      <th>year</th>\n",
       "      <th>date_game</th>\n",
       "      <th>ewm03fg2</th>\n",
       "      <th>ewm03fg2a</th>\n",
       "      <th>ewm03fg3</th>\n",
       "      <th>ewm03fg3a</th>\n",
       "      <th>ewm03ft</th>\n",
       "      <th>ewm03fta</th>\n",
       "      <th>ewm03orb</th>\n",
       "      <th>...</th>\n",
       "      <th>rm30heldto_tov</th>\n",
       "      <th>rm30heldto_pf</th>\n",
       "      <th>rm30heldto_pts</th>\n",
       "      <th>rm30heldto_game_score</th>\n",
       "      <th>rm30heldto_W</th>\n",
       "      <th>W</th>\n",
       "      <th>SRS</th>\n",
       "      <th>SOS</th>\n",
       "      <th>opp_SRS</th>\n",
       "      <th>opp_SOS</th>\n",
       "    </tr>\n",
       "    <tr>\n",
       "      <th>opp_id</th>\n",
       "      <th>year</th>\n",
       "      <th></th>\n",
       "      <th></th>\n",
       "      <th></th>\n",
       "      <th></th>\n",
       "      <th></th>\n",
       "      <th></th>\n",
       "      <th></th>\n",
       "      <th></th>\n",
       "      <th></th>\n",
       "      <th></th>\n",
       "      <th></th>\n",
       "      <th></th>\n",
       "      <th></th>\n",
       "      <th></th>\n",
       "      <th></th>\n",
       "      <th></th>\n",
       "      <th></th>\n",
       "      <th></th>\n",
       "      <th></th>\n",
       "      <th></th>\n",
       "      <th></th>\n",
       "    </tr>\n",
       "  </thead>\n",
       "  <tbody>\n",
       "    <tr>\n",
       "      <th>Central Florida</th>\n",
       "      <th>2011</th>\n",
       "      <td>High Point</td>\n",
       "      <td>2011</td>\n",
       "      <td>2011-11-18</td>\n",
       "      <td>14.449124</td>\n",
       "      <td>32.502785</td>\n",
       "      <td>6.527332</td>\n",
       "      <td>17.261717</td>\n",
       "      <td>10.273871</td>\n",
       "      <td>14.045750</td>\n",
       "      <td>6.731944</td>\n",
       "      <td>...</td>\n",
       "      <td>12.200000</td>\n",
       "      <td>19.233333</td>\n",
       "      <td>64.533333</td>\n",
       "      <td>44.153333</td>\n",
       "      <td>0.433333</td>\n",
       "      <td>0</td>\n",
       "      <td>-12.82</td>\n",
       "      <td>-4.47</td>\n",
       "      <td>6.25</td>\n",
       "      <td>1.97</td>\n",
       "    </tr>\n",
       "    <tr>\n",
       "      <th>Tennessee Tech</th>\n",
       "      <th>2011</th>\n",
       "      <td>High Point</td>\n",
       "      <td>2011</td>\n",
       "      <td>2011-11-22</td>\n",
       "      <td>15.724562</td>\n",
       "      <td>33.751393</td>\n",
       "      <td>7.263666</td>\n",
       "      <td>18.130859</td>\n",
       "      <td>12.136936</td>\n",
       "      <td>18.022875</td>\n",
       "      <td>5.865972</td>\n",
       "      <td>...</td>\n",
       "      <td>15.300000</td>\n",
       "      <td>20.366667</td>\n",
       "      <td>71.566667</td>\n",
       "      <td>46.986667</td>\n",
       "      <td>0.433333</td>\n",
       "      <td>0</td>\n",
       "      <td>-12.82</td>\n",
       "      <td>-4.47</td>\n",
       "      <td>-5.64</td>\n",
       "      <td>-5.77</td>\n",
       "    </tr>\n",
       "    <tr>\n",
       "      <th>Citadel</th>\n",
       "      <th>2011</th>\n",
       "      <td>High Point</td>\n",
       "      <td>2011</td>\n",
       "      <td>2011-11-26</td>\n",
       "      <td>15.362281</td>\n",
       "      <td>35.875696</td>\n",
       "      <td>7.131833</td>\n",
       "      <td>20.565429</td>\n",
       "      <td>9.068468</td>\n",
       "      <td>15.011437</td>\n",
       "      <td>8.932986</td>\n",
       "      <td>...</td>\n",
       "      <td>10.166667</td>\n",
       "      <td>16.600000</td>\n",
       "      <td>71.566667</td>\n",
       "      <td>54.456667</td>\n",
       "      <td>0.700000</td>\n",
       "      <td>1</td>\n",
       "      <td>-12.82</td>\n",
       "      <td>-4.47</td>\n",
       "      <td>-9.84</td>\n",
       "      <td>-2.84</td>\n",
       "    </tr>\n",
       "    <tr>\n",
       "      <th>Hampton</th>\n",
       "      <th>2011</th>\n",
       "      <td>High Point</td>\n",
       "      <td>2011</td>\n",
       "      <td>2011-11-29</td>\n",
       "      <td>17.681140</td>\n",
       "      <td>39.937848</td>\n",
       "      <td>7.065916</td>\n",
       "      <td>17.782715</td>\n",
       "      <td>14.034234</td>\n",
       "      <td>23.005719</td>\n",
       "      <td>10.466493</td>\n",
       "      <td>...</td>\n",
       "      <td>14.900000</td>\n",
       "      <td>20.600000</td>\n",
       "      <td>65.566667</td>\n",
       "      <td>38.533333</td>\n",
       "      <td>0.366667</td>\n",
       "      <td>0</td>\n",
       "      <td>-12.82</td>\n",
       "      <td>-4.47</td>\n",
       "      <td>-5.20</td>\n",
       "      <td>-8.77</td>\n",
       "    </tr>\n",
       "    <tr>\n",
       "      <th>Campbell</th>\n",
       "      <th>2011</th>\n",
       "      <td>High Point</td>\n",
       "      <td>2011</td>\n",
       "      <td>2011-12-03</td>\n",
       "      <td>12.840570</td>\n",
       "      <td>34.468924</td>\n",
       "      <td>10.032958</td>\n",
       "      <td>23.891357</td>\n",
       "      <td>11.517117</td>\n",
       "      <td>19.502859</td>\n",
       "      <td>12.733246</td>\n",
       "      <td>...</td>\n",
       "      <td>13.833333</td>\n",
       "      <td>20.266667</td>\n",
       "      <td>69.133333</td>\n",
       "      <td>48.686667</td>\n",
       "      <td>0.566667</td>\n",
       "      <td>0</td>\n",
       "      <td>-12.82</td>\n",
       "      <td>-4.47</td>\n",
       "      <td>-6.67</td>\n",
       "      <td>-4.27</td>\n",
       "    </tr>\n",
       "  </tbody>\n",
       "</table>\n",
       "<p>5 rows × 137 columns</p>\n",
       "</div>"
      ],
      "text/plain": [
       "                       school_id  year  date_game   ewm03fg2  ewm03fg2a  \\\n",
       "opp_id          year                                                      \n",
       "Central Florida 2011  High Point  2011 2011-11-18  14.449124  32.502785   \n",
       "Tennessee Tech  2011  High Point  2011 2011-11-22  15.724562  33.751393   \n",
       "Citadel         2011  High Point  2011 2011-11-26  15.362281  35.875696   \n",
       "Hampton         2011  High Point  2011 2011-11-29  17.681140  39.937848   \n",
       "Campbell        2011  High Point  2011 2011-12-03  12.840570  34.468924   \n",
       "\n",
       "                       ewm03fg3  ewm03fg3a    ewm03ft   ewm03fta   ewm03orb  \\\n",
       "opp_id          year                                                          \n",
       "Central Florida 2011   6.527332  17.261717  10.273871  14.045750   6.731944   \n",
       "Tennessee Tech  2011   7.263666  18.130859  12.136936  18.022875   5.865972   \n",
       "Citadel         2011   7.131833  20.565429   9.068468  15.011437   8.932986   \n",
       "Hampton         2011   7.065916  17.782715  14.034234  23.005719  10.466493   \n",
       "Campbell        2011  10.032958  23.891357  11.517117  19.502859  12.733246   \n",
       "\n",
       "                       ...     rm30heldto_tov  rm30heldto_pf  rm30heldto_pts  \\\n",
       "opp_id          year   ...                                                     \n",
       "Central Florida 2011   ...          12.200000      19.233333       64.533333   \n",
       "Tennessee Tech  2011   ...          15.300000      20.366667       71.566667   \n",
       "Citadel         2011   ...          10.166667      16.600000       71.566667   \n",
       "Hampton         2011   ...          14.900000      20.600000       65.566667   \n",
       "Campbell        2011   ...          13.833333      20.266667       69.133333   \n",
       "\n",
       "                      rm30heldto_game_score  rm30heldto_W  W    SRS   SOS  \\\n",
       "opp_id          year                                                        \n",
       "Central Florida 2011              44.153333      0.433333  0 -12.82 -4.47   \n",
       "Tennessee Tech  2011              46.986667      0.433333  0 -12.82 -4.47   \n",
       "Citadel         2011              54.456667      0.700000  1 -12.82 -4.47   \n",
       "Hampton         2011              38.533333      0.366667  0 -12.82 -4.47   \n",
       "Campbell        2011              48.686667      0.566667  0 -12.82 -4.47   \n",
       "\n",
       "                      opp_SRS  opp_SOS  \n",
       "opp_id          year                    \n",
       "Central Florida 2011     6.25     1.97  \n",
       "Tennessee Tech  2011    -5.64    -5.77  \n",
       "Citadel         2011    -9.84    -2.84  \n",
       "Hampton         2011    -5.20    -8.77  \n",
       "Campbell        2011    -6.67    -4.27  \n",
       "\n",
       "[5 rows x 137 columns]"
      ]
     },
     "execution_count": 87,
     "metadata": {},
     "output_type": "execute_result"
    }
   ],
   "source": [
    "joined.head()"
   ]
  },
  {
   "cell_type": "code",
   "execution_count": 88,
   "metadata": {},
   "outputs": [
    {
     "data": {
      "text/plain": [
       "['school_id',\n",
       " 'year',\n",
       " 'date_game',\n",
       " 'ewm03fg2',\n",
       " 'ewm03fg2a',\n",
       " 'ewm03fg3',\n",
       " 'ewm03fg3a',\n",
       " 'ewm03ft',\n",
       " 'ewm03fta',\n",
       " 'ewm03orb',\n",
       " 'ewm03drb',\n",
       " 'ewm03ast',\n",
       " 'ewm03stl',\n",
       " 'ewm03blk',\n",
       " 'ewm03tov',\n",
       " 'ewm03pf',\n",
       " 'ewm03pts',\n",
       " 'ewm03game_score',\n",
       " 'ewm03W',\n",
       " 'ewm10fg2',\n",
       " 'ewm10fg2a',\n",
       " 'ewm10fg3',\n",
       " 'ewm10fg3a',\n",
       " 'ewm10ft',\n",
       " 'ewm10fta',\n",
       " 'ewm10orb',\n",
       " 'ewm10drb',\n",
       " 'ewm10ast',\n",
       " 'ewm10stl',\n",
       " 'ewm10blk',\n",
       " 'ewm10tov',\n",
       " 'ewm10pf',\n",
       " 'ewm10pts',\n",
       " 'ewm10game_score',\n",
       " 'ewm10W',\n",
       " 'ewm20fg2',\n",
       " 'ewm20fg2a',\n",
       " 'ewm20fg3',\n",
       " 'ewm20fg3a',\n",
       " 'ewm20ft',\n",
       " 'ewm20fta',\n",
       " 'ewm20orb',\n",
       " 'ewm20drb',\n",
       " 'ewm20ast',\n",
       " 'ewm20stl',\n",
       " 'ewm20blk',\n",
       " 'ewm20tov',\n",
       " 'ewm20pf',\n",
       " 'ewm20pts',\n",
       " 'ewm20game_score',\n",
       " 'ewm20W',\n",
       " 'rm30fg2',\n",
       " 'rm30fg2a',\n",
       " 'rm30fg3',\n",
       " 'rm30fg3a',\n",
       " 'rm30ft',\n",
       " 'rm30fta',\n",
       " 'rm30orb',\n",
       " 'rm30drb',\n",
       " 'rm30ast',\n",
       " 'rm30stl',\n",
       " 'rm30blk',\n",
       " 'rm30tov',\n",
       " 'rm30pf',\n",
       " 'rm30pts',\n",
       " 'rm30game_score',\n",
       " 'rm30W',\n",
       " 'opp_id',\n",
       " 'ewm03heldto_fg2',\n",
       " 'ewm03heldto_fg2a',\n",
       " 'ewm03heldto_fg3',\n",
       " 'ewm03heldto_fg3a',\n",
       " 'ewm03heldto_ft',\n",
       " 'ewm03heldto_fta',\n",
       " 'ewm03heldto_orb',\n",
       " 'ewm03heldto_drb',\n",
       " 'ewm03heldto_ast',\n",
       " 'ewm03heldto_stl',\n",
       " 'ewm03heldto_blk',\n",
       " 'ewm03heldto_tov',\n",
       " 'ewm03heldto_pf',\n",
       " 'ewm03heldto_pts',\n",
       " 'ewm03heldto_game_score',\n",
       " 'ewm03heldto_W',\n",
       " 'ewm10heldto_fg2',\n",
       " 'ewm10heldto_fg2a',\n",
       " 'ewm10heldto_fg3',\n",
       " 'ewm10heldto_fg3a',\n",
       " 'ewm10heldto_ft',\n",
       " 'ewm10heldto_fta',\n",
       " 'ewm10heldto_orb',\n",
       " 'ewm10heldto_drb',\n",
       " 'ewm10heldto_ast',\n",
       " 'ewm10heldto_stl',\n",
       " 'ewm10heldto_blk',\n",
       " 'ewm10heldto_tov',\n",
       " 'ewm10heldto_pf',\n",
       " 'ewm10heldto_pts',\n",
       " 'ewm10heldto_game_score',\n",
       " 'ewm10heldto_W',\n",
       " 'ewm20heldto_fg2',\n",
       " 'ewm20heldto_fg2a',\n",
       " 'ewm20heldto_fg3',\n",
       " 'ewm20heldto_fg3a',\n",
       " 'ewm20heldto_ft',\n",
       " 'ewm20heldto_fta',\n",
       " 'ewm20heldto_orb',\n",
       " 'ewm20heldto_drb',\n",
       " 'ewm20heldto_ast',\n",
       " 'ewm20heldto_stl',\n",
       " 'ewm20heldto_blk',\n",
       " 'ewm20heldto_tov',\n",
       " 'ewm20heldto_pf',\n",
       " 'ewm20heldto_pts',\n",
       " 'ewm20heldto_game_score',\n",
       " 'ewm20heldto_W',\n",
       " 'rm30heldto_fg2',\n",
       " 'rm30heldto_fg2a',\n",
       " 'rm30heldto_fg3',\n",
       " 'rm30heldto_fg3a',\n",
       " 'rm30heldto_ft',\n",
       " 'rm30heldto_fta',\n",
       " 'rm30heldto_orb',\n",
       " 'rm30heldto_drb',\n",
       " 'rm30heldto_ast',\n",
       " 'rm30heldto_stl',\n",
       " 'rm30heldto_blk',\n",
       " 'rm30heldto_tov',\n",
       " 'rm30heldto_pf',\n",
       " 'rm30heldto_pts',\n",
       " 'rm30heldto_game_score',\n",
       " 'rm30heldto_W',\n",
       " 'W',\n",
       " 'SRS',\n",
       " 'SOS',\n",
       " 'opp_SRS',\n",
       " 'opp_SOS']"
      ]
     },
     "execution_count": 88,
     "metadata": {},
     "output_type": "execute_result"
    }
   ],
   "source": [
    "list(joined.columns)"
   ]
  },
  {
   "cell_type": "code",
   "execution_count": 89,
   "metadata": {
    "collapsed": true
   },
   "outputs": [],
   "source": [
    "joined.drop(['year', 'opp_id'], axis=1, inplace=True)"
   ]
  },
  {
   "cell_type": "code",
   "execution_count": 90,
   "metadata": {
    "collapsed": true
   },
   "outputs": [],
   "source": [
    "joined.reset_index(inplace=True, drop=False)"
   ]
  },
  {
   "cell_type": "code",
   "execution_count": 91,
   "metadata": {
    "collapsed": true
   },
   "outputs": [],
   "source": [
    "joined.drop(['year'], axis=1, inplace=True)"
   ]
  },
  {
   "cell_type": "code",
   "execution_count": 92,
   "metadata": {
    "collapsed": true
   },
   "outputs": [],
   "source": [
    "joined.set_index(['school_id', 'date_game', 'opp_id'], inplace=True)"
   ]
  },
  {
   "cell_type": "code",
   "execution_count": 93,
   "metadata": {},
   "outputs": [
    {
     "data": {
      "text/html": [
       "<div>\n",
       "<style>\n",
       "    .dataframe thead tr:only-child th {\n",
       "        text-align: right;\n",
       "    }\n",
       "\n",
       "    .dataframe thead th {\n",
       "        text-align: left;\n",
       "    }\n",
       "\n",
       "    .dataframe tbody tr th {\n",
       "        vertical-align: top;\n",
       "    }\n",
       "</style>\n",
       "<table border=\"1\" class=\"dataframe\">\n",
       "  <thead>\n",
       "    <tr style=\"text-align: right;\">\n",
       "      <th></th>\n",
       "      <th></th>\n",
       "      <th></th>\n",
       "      <th>ewm03fg2</th>\n",
       "      <th>ewm03fg2a</th>\n",
       "      <th>ewm03fg3</th>\n",
       "      <th>ewm03fg3a</th>\n",
       "      <th>ewm03ft</th>\n",
       "      <th>ewm03fta</th>\n",
       "      <th>ewm03orb</th>\n",
       "      <th>ewm03drb</th>\n",
       "      <th>ewm03ast</th>\n",
       "      <th>ewm03stl</th>\n",
       "      <th>...</th>\n",
       "      <th>rm30heldto_tov</th>\n",
       "      <th>rm30heldto_pf</th>\n",
       "      <th>rm30heldto_pts</th>\n",
       "      <th>rm30heldto_game_score</th>\n",
       "      <th>rm30heldto_W</th>\n",
       "      <th>W</th>\n",
       "      <th>SRS</th>\n",
       "      <th>SOS</th>\n",
       "      <th>opp_SRS</th>\n",
       "      <th>opp_SOS</th>\n",
       "    </tr>\n",
       "    <tr>\n",
       "      <th>school_id</th>\n",
       "      <th>date_game</th>\n",
       "      <th>opp_id</th>\n",
       "      <th></th>\n",
       "      <th></th>\n",
       "      <th></th>\n",
       "      <th></th>\n",
       "      <th></th>\n",
       "      <th></th>\n",
       "      <th></th>\n",
       "      <th></th>\n",
       "      <th></th>\n",
       "      <th></th>\n",
       "      <th></th>\n",
       "      <th></th>\n",
       "      <th></th>\n",
       "      <th></th>\n",
       "      <th></th>\n",
       "      <th></th>\n",
       "      <th></th>\n",
       "      <th></th>\n",
       "      <th></th>\n",
       "      <th></th>\n",
       "      <th></th>\n",
       "    </tr>\n",
       "  </thead>\n",
       "  <tbody>\n",
       "    <tr>\n",
       "      <th rowspan=\"5\" valign=\"top\">High Point</th>\n",
       "      <th>2011-11-18</th>\n",
       "      <th>Central Florida</th>\n",
       "      <td>14.449124</td>\n",
       "      <td>32.502785</td>\n",
       "      <td>6.527332</td>\n",
       "      <td>17.261717</td>\n",
       "      <td>10.273871</td>\n",
       "      <td>14.045750</td>\n",
       "      <td>6.731944</td>\n",
       "      <td>20.382396</td>\n",
       "      <td>8.311464</td>\n",
       "      <td>4.645682</td>\n",
       "      <td>...</td>\n",
       "      <td>12.200000</td>\n",
       "      <td>19.233333</td>\n",
       "      <td>64.533333</td>\n",
       "      <td>44.153333</td>\n",
       "      <td>0.433333</td>\n",
       "      <td>0</td>\n",
       "      <td>-12.82</td>\n",
       "      <td>-4.47</td>\n",
       "      <td>6.25</td>\n",
       "      <td>1.97</td>\n",
       "    </tr>\n",
       "    <tr>\n",
       "      <th>2011-11-22</th>\n",
       "      <th>Tennessee Tech</th>\n",
       "      <td>15.724562</td>\n",
       "      <td>33.751393</td>\n",
       "      <td>7.263666</td>\n",
       "      <td>18.130859</td>\n",
       "      <td>12.136936</td>\n",
       "      <td>18.022875</td>\n",
       "      <td>5.865972</td>\n",
       "      <td>20.691198</td>\n",
       "      <td>11.655732</td>\n",
       "      <td>4.322841</td>\n",
       "      <td>...</td>\n",
       "      <td>15.300000</td>\n",
       "      <td>20.366667</td>\n",
       "      <td>71.566667</td>\n",
       "      <td>46.986667</td>\n",
       "      <td>0.433333</td>\n",
       "      <td>0</td>\n",
       "      <td>-12.82</td>\n",
       "      <td>-4.47</td>\n",
       "      <td>-5.64</td>\n",
       "      <td>-5.77</td>\n",
       "    </tr>\n",
       "    <tr>\n",
       "      <th>2011-11-26</th>\n",
       "      <th>Citadel</th>\n",
       "      <td>15.362281</td>\n",
       "      <td>35.875696</td>\n",
       "      <td>7.131833</td>\n",
       "      <td>20.565429</td>\n",
       "      <td>9.068468</td>\n",
       "      <td>15.011437</td>\n",
       "      <td>8.932986</td>\n",
       "      <td>19.845599</td>\n",
       "      <td>14.327866</td>\n",
       "      <td>5.661420</td>\n",
       "      <td>...</td>\n",
       "      <td>10.166667</td>\n",
       "      <td>16.600000</td>\n",
       "      <td>71.566667</td>\n",
       "      <td>54.456667</td>\n",
       "      <td>0.700000</td>\n",
       "      <td>1</td>\n",
       "      <td>-12.82</td>\n",
       "      <td>-4.47</td>\n",
       "      <td>-9.84</td>\n",
       "      <td>-2.84</td>\n",
       "    </tr>\n",
       "    <tr>\n",
       "      <th>2011-11-29</th>\n",
       "      <th>Hampton</th>\n",
       "      <td>17.681140</td>\n",
       "      <td>39.937848</td>\n",
       "      <td>7.065916</td>\n",
       "      <td>17.782715</td>\n",
       "      <td>14.034234</td>\n",
       "      <td>23.005719</td>\n",
       "      <td>10.466493</td>\n",
       "      <td>25.922800</td>\n",
       "      <td>13.663933</td>\n",
       "      <td>7.330710</td>\n",
       "      <td>...</td>\n",
       "      <td>14.900000</td>\n",
       "      <td>20.600000</td>\n",
       "      <td>65.566667</td>\n",
       "      <td>38.533333</td>\n",
       "      <td>0.366667</td>\n",
       "      <td>0</td>\n",
       "      <td>-12.82</td>\n",
       "      <td>-4.47</td>\n",
       "      <td>-5.20</td>\n",
       "      <td>-8.77</td>\n",
       "    </tr>\n",
       "    <tr>\n",
       "      <th>2011-12-03</th>\n",
       "      <th>Campbell</th>\n",
       "      <td>12.840570</td>\n",
       "      <td>34.468924</td>\n",
       "      <td>10.032958</td>\n",
       "      <td>23.891357</td>\n",
       "      <td>11.517117</td>\n",
       "      <td>19.502859</td>\n",
       "      <td>12.733246</td>\n",
       "      <td>20.961400</td>\n",
       "      <td>11.831967</td>\n",
       "      <td>5.665355</td>\n",
       "      <td>...</td>\n",
       "      <td>13.833333</td>\n",
       "      <td>20.266667</td>\n",
       "      <td>69.133333</td>\n",
       "      <td>48.686667</td>\n",
       "      <td>0.566667</td>\n",
       "      <td>0</td>\n",
       "      <td>-12.82</td>\n",
       "      <td>-4.47</td>\n",
       "      <td>-6.67</td>\n",
       "      <td>-4.27</td>\n",
       "    </tr>\n",
       "  </tbody>\n",
       "</table>\n",
       "<p>5 rows × 133 columns</p>\n",
       "</div>"
      ],
      "text/plain": [
       "                                        ewm03fg2  ewm03fg2a   ewm03fg3  \\\n",
       "school_id  date_game  opp_id                                             \n",
       "High Point 2011-11-18 Central Florida  14.449124  32.502785   6.527332   \n",
       "           2011-11-22 Tennessee Tech   15.724562  33.751393   7.263666   \n",
       "           2011-11-26 Citadel          15.362281  35.875696   7.131833   \n",
       "           2011-11-29 Hampton          17.681140  39.937848   7.065916   \n",
       "           2011-12-03 Campbell         12.840570  34.468924  10.032958   \n",
       "\n",
       "                                       ewm03fg3a    ewm03ft   ewm03fta  \\\n",
       "school_id  date_game  opp_id                                             \n",
       "High Point 2011-11-18 Central Florida  17.261717  10.273871  14.045750   \n",
       "           2011-11-22 Tennessee Tech   18.130859  12.136936  18.022875   \n",
       "           2011-11-26 Citadel          20.565429   9.068468  15.011437   \n",
       "           2011-11-29 Hampton          17.782715  14.034234  23.005719   \n",
       "           2011-12-03 Campbell         23.891357  11.517117  19.502859   \n",
       "\n",
       "                                        ewm03orb   ewm03drb   ewm03ast  \\\n",
       "school_id  date_game  opp_id                                             \n",
       "High Point 2011-11-18 Central Florida   6.731944  20.382396   8.311464   \n",
       "           2011-11-22 Tennessee Tech    5.865972  20.691198  11.655732   \n",
       "           2011-11-26 Citadel           8.932986  19.845599  14.327866   \n",
       "           2011-11-29 Hampton          10.466493  25.922800  13.663933   \n",
       "           2011-12-03 Campbell         12.733246  20.961400  11.831967   \n",
       "\n",
       "                                       ewm03stl   ...     rm30heldto_tov  \\\n",
       "school_id  date_game  opp_id                      ...                      \n",
       "High Point 2011-11-18 Central Florida  4.645682   ...          12.200000   \n",
       "           2011-11-22 Tennessee Tech   4.322841   ...          15.300000   \n",
       "           2011-11-26 Citadel          5.661420   ...          10.166667   \n",
       "           2011-11-29 Hampton          7.330710   ...          14.900000   \n",
       "           2011-12-03 Campbell         5.665355   ...          13.833333   \n",
       "\n",
       "                                       rm30heldto_pf  rm30heldto_pts  \\\n",
       "school_id  date_game  opp_id                                           \n",
       "High Point 2011-11-18 Central Florida      19.233333       64.533333   \n",
       "           2011-11-22 Tennessee Tech       20.366667       71.566667   \n",
       "           2011-11-26 Citadel              16.600000       71.566667   \n",
       "           2011-11-29 Hampton              20.600000       65.566667   \n",
       "           2011-12-03 Campbell             20.266667       69.133333   \n",
       "\n",
       "                                       rm30heldto_game_score  rm30heldto_W  W  \\\n",
       "school_id  date_game  opp_id                                                    \n",
       "High Point 2011-11-18 Central Florida              44.153333      0.433333  0   \n",
       "           2011-11-22 Tennessee Tech               46.986667      0.433333  0   \n",
       "           2011-11-26 Citadel                      54.456667      0.700000  1   \n",
       "           2011-11-29 Hampton                      38.533333      0.366667  0   \n",
       "           2011-12-03 Campbell                     48.686667      0.566667  0   \n",
       "\n",
       "                                         SRS   SOS  opp_SRS  opp_SOS  \n",
       "school_id  date_game  opp_id                                          \n",
       "High Point 2011-11-18 Central Florida -12.82 -4.47     6.25     1.97  \n",
       "           2011-11-22 Tennessee Tech  -12.82 -4.47    -5.64    -5.77  \n",
       "           2011-11-26 Citadel         -12.82 -4.47    -9.84    -2.84  \n",
       "           2011-11-29 Hampton         -12.82 -4.47    -5.20    -8.77  \n",
       "           2011-12-03 Campbell        -12.82 -4.47    -6.67    -4.27  \n",
       "\n",
       "[5 rows x 133 columns]"
      ]
     },
     "execution_count": 93,
     "metadata": {},
     "output_type": "execute_result"
    }
   ],
   "source": [
    "joined.head()"
   ]
  },
  {
   "cell_type": "code",
   "execution_count": 94,
   "metadata": {
    "scrolled": true
   },
   "outputs": [
    {
     "data": {
      "text/plain": [
       "ewm03fg2                    0\n",
       "ewm03fg2a                   0\n",
       "ewm03fg3                    0\n",
       "ewm03fg3a                   0\n",
       "ewm03ft                     0\n",
       "ewm03fta                    0\n",
       "ewm03orb                    0\n",
       "ewm03drb                    0\n",
       "ewm03ast                    0\n",
       "ewm03stl                    0\n",
       "ewm03blk                    0\n",
       "ewm03tov                    0\n",
       "ewm03pf                     0\n",
       "ewm03pts                    0\n",
       "ewm03game_score             0\n",
       "ewm03W                      0\n",
       "ewm10fg2                    0\n",
       "ewm10fg2a                   0\n",
       "ewm10fg3                    0\n",
       "ewm10fg3a                   0\n",
       "ewm10ft                     0\n",
       "ewm10fta                    0\n",
       "ewm10orb                    0\n",
       "ewm10drb                    0\n",
       "ewm10ast                    0\n",
       "ewm10stl                    0\n",
       "ewm10blk                    0\n",
       "ewm10tov                    0\n",
       "ewm10pf                     0\n",
       "ewm10pts                    0\n",
       "                         ... \n",
       "ewm20heldto_drb             0\n",
       "ewm20heldto_ast             0\n",
       "ewm20heldto_stl             0\n",
       "ewm20heldto_blk             0\n",
       "ewm20heldto_tov             0\n",
       "ewm20heldto_pf              0\n",
       "ewm20heldto_pts             0\n",
       "ewm20heldto_game_score      0\n",
       "ewm20heldto_W               0\n",
       "rm30heldto_fg2              0\n",
       "rm30heldto_fg2a             0\n",
       "rm30heldto_fg3              0\n",
       "rm30heldto_fg3a             0\n",
       "rm30heldto_ft               0\n",
       "rm30heldto_fta              0\n",
       "rm30heldto_orb              0\n",
       "rm30heldto_drb              0\n",
       "rm30heldto_ast              0\n",
       "rm30heldto_stl              0\n",
       "rm30heldto_blk              0\n",
       "rm30heldto_tov              0\n",
       "rm30heldto_pf               0\n",
       "rm30heldto_pts              0\n",
       "rm30heldto_game_score       0\n",
       "rm30heldto_W                0\n",
       "W                           0\n",
       "SRS                       383\n",
       "SOS                       383\n",
       "opp_SRS                   393\n",
       "opp_SOS                   393\n",
       "Length: 133, dtype: int64"
      ]
     },
     "execution_count": 94,
     "metadata": {},
     "output_type": "execute_result"
    }
   ],
   "source": [
    "joined.isnull().sum()"
   ]
  },
  {
   "cell_type": "code",
   "execution_count": 95,
   "metadata": {
    "collapsed": true
   },
   "outputs": [],
   "source": [
    "joined.dropna(inplace=True)"
   ]
  },
  {
   "cell_type": "code",
   "execution_count": 96,
   "metadata": {},
   "outputs": [
    {
     "data": {
      "text/plain": [
       "[dtype('float64'),\n",
       " dtype('float64'),\n",
       " dtype('float64'),\n",
       " dtype('float64'),\n",
       " dtype('float64'),\n",
       " dtype('float64'),\n",
       " dtype('float64'),\n",
       " dtype('float64'),\n",
       " dtype('float64'),\n",
       " dtype('float64'),\n",
       " dtype('float64'),\n",
       " dtype('float64'),\n",
       " dtype('float64'),\n",
       " dtype('float64'),\n",
       " dtype('float64'),\n",
       " dtype('float64'),\n",
       " dtype('float64'),\n",
       " dtype('float64'),\n",
       " dtype('float64'),\n",
       " dtype('float64'),\n",
       " dtype('float64'),\n",
       " dtype('float64'),\n",
       " dtype('float64'),\n",
       " dtype('float64'),\n",
       " dtype('float64'),\n",
       " dtype('float64'),\n",
       " dtype('float64'),\n",
       " dtype('float64'),\n",
       " dtype('float64'),\n",
       " dtype('float64'),\n",
       " dtype('float64'),\n",
       " dtype('float64'),\n",
       " dtype('float64'),\n",
       " dtype('float64'),\n",
       " dtype('float64'),\n",
       " dtype('float64'),\n",
       " dtype('float64'),\n",
       " dtype('float64'),\n",
       " dtype('float64'),\n",
       " dtype('float64'),\n",
       " dtype('float64'),\n",
       " dtype('float64'),\n",
       " dtype('float64'),\n",
       " dtype('float64'),\n",
       " dtype('float64'),\n",
       " dtype('float64'),\n",
       " dtype('float64'),\n",
       " dtype('float64'),\n",
       " dtype('float64'),\n",
       " dtype('float64'),\n",
       " dtype('float64'),\n",
       " dtype('float64'),\n",
       " dtype('float64'),\n",
       " dtype('float64'),\n",
       " dtype('float64'),\n",
       " dtype('float64'),\n",
       " dtype('float64'),\n",
       " dtype('float64'),\n",
       " dtype('float64'),\n",
       " dtype('float64'),\n",
       " dtype('float64'),\n",
       " dtype('float64'),\n",
       " dtype('float64'),\n",
       " dtype('float64'),\n",
       " dtype('float64'),\n",
       " dtype('float64'),\n",
       " dtype('float64'),\n",
       " dtype('float64'),\n",
       " dtype('float64'),\n",
       " dtype('float64'),\n",
       " dtype('float64'),\n",
       " dtype('float64'),\n",
       " dtype('float64'),\n",
       " dtype('float64'),\n",
       " dtype('float64'),\n",
       " dtype('float64'),\n",
       " dtype('float64'),\n",
       " dtype('float64'),\n",
       " dtype('float64'),\n",
       " dtype('float64'),\n",
       " dtype('float64'),\n",
       " dtype('float64'),\n",
       " dtype('float64'),\n",
       " dtype('float64'),\n",
       " dtype('float64'),\n",
       " dtype('float64'),\n",
       " dtype('float64'),\n",
       " dtype('float64'),\n",
       " dtype('float64'),\n",
       " dtype('float64'),\n",
       " dtype('float64'),\n",
       " dtype('float64'),\n",
       " dtype('float64'),\n",
       " dtype('float64'),\n",
       " dtype('float64'),\n",
       " dtype('float64'),\n",
       " dtype('float64'),\n",
       " dtype('float64'),\n",
       " dtype('float64'),\n",
       " dtype('float64'),\n",
       " dtype('float64'),\n",
       " dtype('float64'),\n",
       " dtype('float64'),\n",
       " dtype('float64'),\n",
       " dtype('float64'),\n",
       " dtype('float64'),\n",
       " dtype('float64'),\n",
       " dtype('float64'),\n",
       " dtype('float64'),\n",
       " dtype('float64'),\n",
       " dtype('float64'),\n",
       " dtype('float64'),\n",
       " dtype('float64'),\n",
       " dtype('float64'),\n",
       " dtype('float64'),\n",
       " dtype('float64'),\n",
       " dtype('float64'),\n",
       " dtype('float64'),\n",
       " dtype('float64'),\n",
       " dtype('float64'),\n",
       " dtype('float64'),\n",
       " dtype('float64'),\n",
       " dtype('float64'),\n",
       " dtype('float64'),\n",
       " dtype('float64'),\n",
       " dtype('float64'),\n",
       " dtype('float64'),\n",
       " dtype('float64'),\n",
       " dtype('int64'),\n",
       " dtype('float64'),\n",
       " dtype('float64'),\n",
       " dtype('float64'),\n",
       " dtype('float64')]"
      ]
     },
     "execution_count": 96,
     "metadata": {},
     "output_type": "execute_result"
    }
   ],
   "source": [
    "list(joined.dtypes)"
   ]
  },
  {
   "cell_type": "markdown",
   "metadata": {},
   "source": [
    "### Add Poll Rankings (Abandoned, little improvement)"
   ]
  },
  {
   "cell_type": "code",
   "execution_count": null,
   "metadata": {
    "collapsed": true
   },
   "outputs": [],
   "source": [
    "# Leave 2018 out for now, structured a little differently\n",
    "polls_2010 = pd.read_csv('../data/polls_rank/2010_polls.csv', sep='\\t', header=None)\n",
    "polls_2011 = pd.read_csv('../data/polls_rank/2011_polls.csv', sep='\\t', header=None)\n",
    "polls_2012 = pd.read_csv('../data/polls_rank/2012_polls.csv', sep='\\t', header=None)\n",
    "polls_2013 = pd.read_csv('../data/polls_rank/2013_polls.csv', sep='\\t', header=None)\n",
    "polls_2014 = pd.read_csv('../data/polls_rank/2014_polls.csv', sep='\\t', header=None)\n",
    "polls_2015 = pd.read_csv('../data/polls_rank/2015_polls.csv', sep='\\t', header=None)\n",
    "polls_2016 = pd.read_csv('../data/polls_rank/2016_polls.csv', sep='\\t', header=None)\n",
    "polls_2017 = pd.read_csv('../data/polls_rank/2017_polls.csv', sep='\\t', header=None)"
   ]
  },
  {
   "cell_type": "code",
   "execution_count": null,
   "metadata": {
    "collapsed": true
   },
   "outputs": [],
   "source": [
    "polls_2010.replace('Final', '2010-03-15', inplace=True)\n",
    "polls_2010.replace('Preseason', '2009-11-09', inplace=True)\n",
    "\n",
    "polls_2011.replace('Final', '2011-03-15', inplace=True)\n",
    "polls_2011.replace('Preseason', '2010-11-09', inplace=True)\n",
    "\n",
    "polls_2012.replace('Final', '2012-03-15', inplace=True)\n",
    "polls_2012.replace('Preseason', '2011-11-09', inplace=True)\n",
    "\n",
    "polls_2013.replace('Final', '2013-03-15', inplace=True)\n",
    "polls_2013.replace('Preseason', '2012-11-09', inplace=True)\n",
    "\n",
    "polls_2014.replace('Final', '2014-03-15', inplace=True)\n",
    "polls_2014.replace('Preseason', '2013-11-09', inplace=True)\n",
    "\n",
    "polls_2015.replace('Final', '2015-03-15', inplace=True)\n",
    "polls_2015.replace('Preseason', '2014-11-09', inplace=True)\n",
    "\n",
    "polls_2016.replace('Final', '2016-03-15', inplace=True)\n",
    "polls_2016.replace('Preseason', '2015-11-09', inplace=True)\n",
    "\n",
    "polls_2017.replace('Final', '2017-03-15', inplace=True)\n",
    "polls_2017.replace('Preseason', '2016-11-09', inplace=True)"
   ]
  },
  {
   "cell_type": "code",
   "execution_count": null,
   "metadata": {
    "collapsed": true
   },
   "outputs": [],
   "source": [
    "# AP Polls from 0:492, Coaches Polls from 494: (2010, 2011, 2013, 2014)\n",
    "# AP Polls from 0:493, Coaches Polls from 495: (2012, 2015, 2016)\n",
    "# AP Polls from 0:494, Coaches Polls from 496: (2017)\n",
    "polls_2017.loc[495]"
   ]
  },
  {
   "cell_type": "code",
   "execution_count": null,
   "metadata": {
    "collapsed": true
   },
   "outputs": [],
   "source": [
    "AP_polls_2010 = polls_2010.loc[:492]\n",
    "Coach_polls_2010 = polls_2010.loc[494:]\n",
    "\n",
    "AP_polls_2011 = polls_2011.loc[:492]\n",
    "Coach_polls_2011 = polls_2011.loc[494:]\n",
    "\n",
    "AP_polls_2012 = polls_2012.loc[:493]\n",
    "Coach_polls_2012 = polls_2012.loc[495:]\n",
    "\n",
    "AP_polls_2013 = polls_2013.loc[:492]\n",
    "Coach_polls_2013 = polls_2013.loc[494:]\n",
    "\n",
    "AP_polls_2014 = polls_2014.loc[:492]\n",
    "Coach_polls_2014 = polls_2014.loc[494:]\n",
    "\n",
    "AP_polls_2015 = polls_2015.loc[:493]\n",
    "Coach_polls_2015 = polls_2015.loc[495:]\n",
    "\n",
    "AP_polls_2016 = polls_2016.loc[:493]\n",
    "Coach_polls_2016 = polls_2016.loc[495:]\n",
    "\n",
    "AP_polls_2017 = polls_2017.loc[:494]\n",
    "Coach_polls_2017 = polls_2017.loc[496:]"
   ]
  },
  {
   "cell_type": "code",
   "execution_count": null,
   "metadata": {
    "collapsed": true
   },
   "outputs": [],
   "source": [
    "AP_polls = pd.concat([AP_polls_2010, AP_polls_2011, AP_polls_2012, AP_polls_2013, AP_polls_2014,\n",
    "                      AP_polls_2015, AP_polls_2016, AP_polls_2017])\n",
    "\n",
    "Coach_polls = pd.concat([Coach_polls_2010, Coach_polls_2011, Coach_polls_2012, Coach_polls_2013,\n",
    "                         Coach_polls_2014, Coach_polls_2015, Coach_polls_2016, Coach_polls_2017])"
   ]
  },
  {
   "cell_type": "code",
   "execution_count": null,
   "metadata": {
    "collapsed": true
   },
   "outputs": [],
   "source": [
    "polls_cols = ['wk', 'date_game', 'rank', 'school_id', 'prev_rank', 'chnge', 'conf']"
   ]
  },
  {
   "cell_type": "code",
   "execution_count": null,
   "metadata": {
    "collapsed": true
   },
   "outputs": [],
   "source": [
    "AP_polls.columns = polls_cols\n",
    "Coach_polls.columns = polls_cols"
   ]
  },
  {
   "cell_type": "code",
   "execution_count": null,
   "metadata": {
    "collapsed": true
   },
   "outputs": [],
   "source": [
    "AP_drop_indices = AP_polls[AP_polls['wk']=='Wk'].index\n",
    "Coach_drop_indices = Coach_polls[Coach_polls['wk']=='Wk'].index"
   ]
  },
  {
   "cell_type": "code",
   "execution_count": null,
   "metadata": {
    "collapsed": true,
    "scrolled": true
   },
   "outputs": [],
   "source": [
    "AP_polls.drop(AP_drop_indices, inplace=True)\n",
    "Coach_polls.drop(Coach_drop_indices, inplace=True)"
   ]
  },
  {
   "cell_type": "code",
   "execution_count": null,
   "metadata": {
    "collapsed": true
   },
   "outputs": [],
   "source": [
    "print(AP_polls.shape)\n",
    "print(Coach_polls.shape)"
   ]
  },
  {
   "cell_type": "code",
   "execution_count": null,
   "metadata": {
    "collapsed": true,
    "scrolled": true
   },
   "outputs": [],
   "source": [
    "AP_polls.reset_index(drop=True, inplace=True)\n",
    "Coach_polls.reset_index(drop=True, inplace=True)"
   ]
  },
  {
   "cell_type": "code",
   "execution_count": null,
   "metadata": {
    "collapsed": true
   },
   "outputs": [],
   "source": [
    "AP_polls.head()"
   ]
  },
  {
   "cell_type": "code",
   "execution_count": null,
   "metadata": {
    "collapsed": true,
    "scrolled": true
   },
   "outputs": [],
   "source": [
    "AP_polls['rank'] = AP_polls['rank'].astype(int)\n",
    "Coach_polls['rank'] = Coach_polls['rank'].astype(int)\n",
    "\n",
    "AP_polls['date_game'] = pd.to_datetime(AP_polls['date_game'])\n",
    "Coach_polls['date_game'] = pd.to_datetime(Coach_polls['date_game'])"
   ]
  },
  {
   "cell_type": "code",
   "execution_count": null,
   "metadata": {
    "collapsed": true
   },
   "outputs": [],
   "source": [
    "AP_polls.head()"
   ]
  },
  {
   "cell_type": "code",
   "execution_count": null,
   "metadata": {
    "collapsed": true
   },
   "outputs": [],
   "source": [
    "joined.reset_index(inplace=True, drop=False)"
   ]
  },
  {
   "cell_type": "code",
   "execution_count": null,
   "metadata": {
    "collapsed": true,
    "scrolled": true
   },
   "outputs": [],
   "source": [
    "joined.sort_values(['date_game', 'school_id'], inplace=True)\n",
    "AP_polls.sort_values(['date_game', 'school_id'], inplace=True)\n",
    "Coach_polls.sort_values(['date_game', 'school_id'], inplace=True)"
   ]
  },
  {
   "cell_type": "code",
   "execution_count": null,
   "metadata": {
    "collapsed": true
   },
   "outputs": [],
   "source": [
    "joined.reset_index(inplace=True, drop=True)\n",
    "AP_polls.reset_index(inplace=True, drop=True)\n",
    "Coach_polls.reset_index(inplace=True, drop=True)"
   ]
  },
  {
   "cell_type": "code",
   "execution_count": null,
   "metadata": {
    "collapsed": true
   },
   "outputs": [],
   "source": [
    "#joined['AP_poll_rank'] = 30\n",
    "#joined['coach_poll_rank'] = 30\n",
    "#joined['opp_AP_poll_rank'] = 30\n",
    "#joined['opp_coach_poll_rank'] = 30"
   ]
  },
  {
   "cell_type": "code",
   "execution_count": null,
   "metadata": {
    "collapsed": true
   },
   "outputs": [],
   "source": [
    "AP_polls = AP_polls[['date_game', 'rank', 'school_id']]\n",
    "Coach_polls = Coach_polls[['date_game', 'rank', 'school_id']]"
   ]
  },
  {
   "cell_type": "code",
   "execution_count": null,
   "metadata": {
    "collapsed": true
   },
   "outputs": [],
   "source": [
    "print(AP_polls.shape)\n",
    "print(Coach_polls.shape)"
   ]
  },
  {
   "cell_type": "code",
   "execution_count": null,
   "metadata": {
    "collapsed": true
   },
   "outputs": [],
   "source": [
    "for i in range(0, 3670):\n",
    "    for j in range(1,7):\n",
    "        AP_polls = AP_polls.append(AP_polls.loc[i].replace(AP_polls['date_game'][i], AP_polls['date_game'][i]+timedelta(days=j)))\n",
    "        AP_polls.reset_index(drop=True, inplace=True)        "
   ]
  },
  {
   "cell_type": "code",
   "execution_count": null,
   "metadata": {
    "collapsed": true,
    "scrolled": true
   },
   "outputs": [],
   "source": [
    "AP_polls.set_index(['date_game', 'school_id'], drop=False, inplace=True)\n",
    "joined.set_index(['date_game', 'school_id'], drop=False, inplace=True)"
   ]
  },
  {
   "cell_type": "code",
   "execution_count": null,
   "metadata": {
    "collapsed": true,
    "scrolled": true
   },
   "outputs": [],
   "source": [
    "joined = joined.join(AP_polls['rank'], how='left', on=['date_game', 'school_id'], rsuffix='_r')"
   ]
  },
  {
   "cell_type": "code",
   "execution_count": null,
   "metadata": {
    "collapsed": true
   },
   "outputs": [],
   "source": [
    "joined.shape"
   ]
  },
  {
   "cell_type": "code",
   "execution_count": null,
   "metadata": {
    "collapsed": true,
    "scrolled": true
   },
   "outputs": [],
   "source": [
    "for i in range(0, 3655):\n",
    "    for j in range(1,7):\n",
    "        Coach_polls = Coach_polls.append(Coach_polls.loc[i].replace(Coach_polls['date_game'][i], Coach_polls['date_game'][i]+timedelta(days=j)))\n",
    "        Coach_polls.reset_index(drop=True, inplace=True)        "
   ]
  },
  {
   "cell_type": "code",
   "execution_count": null,
   "metadata": {
    "collapsed": true
   },
   "outputs": [],
   "source": [
    "Coach_polls.set_index(['date_game', 'school_id'], drop=False, inplace=True)"
   ]
  },
  {
   "cell_type": "code",
   "execution_count": null,
   "metadata": {
    "collapsed": true
   },
   "outputs": [],
   "source": [
    "joined = joined.join(Coach_polls['rank'], how='left', on=['date_game', 'school_id'], rsuffix='_r')"
   ]
  },
  {
   "cell_type": "code",
   "execution_count": null,
   "metadata": {
    "collapsed": true
   },
   "outputs": [],
   "source": [
    "# Why is a 'left' join making extra rows?\n",
    "joined.shape"
   ]
  },
  {
   "cell_type": "code",
   "execution_count": null,
   "metadata": {
    "collapsed": true
   },
   "outputs": [],
   "source": [
    "joined.head()"
   ]
  },
  {
   "cell_type": "code",
   "execution_count": null,
   "metadata": {
    "collapsed": true
   },
   "outputs": [],
   "source": [
    "joined.drop(['school_id', 'date_game', 'opp_id'], axis=1, inplace=True)"
   ]
  },
  {
   "cell_type": "code",
   "execution_count": null,
   "metadata": {
    "collapsed": true
   },
   "outputs": [],
   "source": [
    "joined.fillna(30, inplace=True)"
   ]
  },
  {
   "cell_type": "code",
   "execution_count": null,
   "metadata": {
    "collapsed": true
   },
   "outputs": [],
   "source": [
    "list(joined.dtypes)"
   ]
  },
  {
   "cell_type": "code",
   "execution_count": null,
   "metadata": {
    "collapsed": true
   },
   "outputs": [],
   "source": [
    "joined.head()"
   ]
  },
  {
   "cell_type": "markdown",
   "metadata": {},
   "source": [
    "## Make Some Interaction Features"
   ]
  },
  {
   "cell_type": "code",
   "execution_count": 97,
   "metadata": {},
   "outputs": [
    {
     "data": {
      "text/plain": [
       "133"
      ]
     },
     "execution_count": 97,
     "metadata": {},
     "output_type": "execute_result"
    }
   ],
   "source": [
    "len(joined.columns)"
   ]
  },
  {
   "cell_type": "code",
   "execution_count": 98,
   "metadata": {},
   "outputs": [
    {
     "data": {
      "text/plain": [
       "['ewm03fg2',\n",
       " 'ewm03fg2a',\n",
       " 'ewm03fg3',\n",
       " 'ewm03fg3a',\n",
       " 'ewm03ft',\n",
       " 'ewm03fta',\n",
       " 'ewm03orb',\n",
       " 'ewm03drb',\n",
       " 'ewm03ast',\n",
       " 'ewm03stl',\n",
       " 'ewm03blk',\n",
       " 'ewm03tov',\n",
       " 'ewm03pf',\n",
       " 'ewm03pts',\n",
       " 'ewm03game_score',\n",
       " 'ewm03W',\n",
       " 'ewm10fg2',\n",
       " 'ewm10fg2a',\n",
       " 'ewm10fg3',\n",
       " 'ewm10fg3a',\n",
       " 'ewm10ft',\n",
       " 'ewm10fta',\n",
       " 'ewm10orb',\n",
       " 'ewm10drb',\n",
       " 'ewm10ast',\n",
       " 'ewm10stl',\n",
       " 'ewm10blk',\n",
       " 'ewm10tov',\n",
       " 'ewm10pf',\n",
       " 'ewm10pts',\n",
       " 'ewm10game_score',\n",
       " 'ewm10W',\n",
       " 'ewm20fg2',\n",
       " 'ewm20fg2a',\n",
       " 'ewm20fg3',\n",
       " 'ewm20fg3a',\n",
       " 'ewm20ft',\n",
       " 'ewm20fta',\n",
       " 'ewm20orb',\n",
       " 'ewm20drb',\n",
       " 'ewm20ast',\n",
       " 'ewm20stl',\n",
       " 'ewm20blk',\n",
       " 'ewm20tov',\n",
       " 'ewm20pf',\n",
       " 'ewm20pts',\n",
       " 'ewm20game_score',\n",
       " 'ewm20W',\n",
       " 'rm30fg2',\n",
       " 'rm30fg2a',\n",
       " 'rm30fg3',\n",
       " 'rm30fg3a',\n",
       " 'rm30ft',\n",
       " 'rm30fta',\n",
       " 'rm30orb',\n",
       " 'rm30drb',\n",
       " 'rm30ast',\n",
       " 'rm30stl',\n",
       " 'rm30blk',\n",
       " 'rm30tov',\n",
       " 'rm30pf',\n",
       " 'rm30pts',\n",
       " 'rm30game_score',\n",
       " 'rm30W',\n",
       " 'ewm03heldto_fg2',\n",
       " 'ewm03heldto_fg2a',\n",
       " 'ewm03heldto_fg3',\n",
       " 'ewm03heldto_fg3a',\n",
       " 'ewm03heldto_ft',\n",
       " 'ewm03heldto_fta',\n",
       " 'ewm03heldto_orb',\n",
       " 'ewm03heldto_drb',\n",
       " 'ewm03heldto_ast',\n",
       " 'ewm03heldto_stl',\n",
       " 'ewm03heldto_blk',\n",
       " 'ewm03heldto_tov',\n",
       " 'ewm03heldto_pf',\n",
       " 'ewm03heldto_pts',\n",
       " 'ewm03heldto_game_score',\n",
       " 'ewm03heldto_W',\n",
       " 'ewm10heldto_fg2',\n",
       " 'ewm10heldto_fg2a',\n",
       " 'ewm10heldto_fg3',\n",
       " 'ewm10heldto_fg3a',\n",
       " 'ewm10heldto_ft',\n",
       " 'ewm10heldto_fta',\n",
       " 'ewm10heldto_orb',\n",
       " 'ewm10heldto_drb',\n",
       " 'ewm10heldto_ast',\n",
       " 'ewm10heldto_stl',\n",
       " 'ewm10heldto_blk',\n",
       " 'ewm10heldto_tov',\n",
       " 'ewm10heldto_pf',\n",
       " 'ewm10heldto_pts',\n",
       " 'ewm10heldto_game_score',\n",
       " 'ewm10heldto_W',\n",
       " 'ewm20heldto_fg2',\n",
       " 'ewm20heldto_fg2a',\n",
       " 'ewm20heldto_fg3',\n",
       " 'ewm20heldto_fg3a',\n",
       " 'ewm20heldto_ft',\n",
       " 'ewm20heldto_fta',\n",
       " 'ewm20heldto_orb',\n",
       " 'ewm20heldto_drb',\n",
       " 'ewm20heldto_ast',\n",
       " 'ewm20heldto_stl',\n",
       " 'ewm20heldto_blk',\n",
       " 'ewm20heldto_tov',\n",
       " 'ewm20heldto_pf',\n",
       " 'ewm20heldto_pts',\n",
       " 'ewm20heldto_game_score',\n",
       " 'ewm20heldto_W',\n",
       " 'rm30heldto_fg2',\n",
       " 'rm30heldto_fg2a',\n",
       " 'rm30heldto_fg3',\n",
       " 'rm30heldto_fg3a',\n",
       " 'rm30heldto_ft',\n",
       " 'rm30heldto_fta',\n",
       " 'rm30heldto_orb',\n",
       " 'rm30heldto_drb',\n",
       " 'rm30heldto_ast',\n",
       " 'rm30heldto_stl',\n",
       " 'rm30heldto_blk',\n",
       " 'rm30heldto_tov',\n",
       " 'rm30heldto_pf',\n",
       " 'rm30heldto_pts',\n",
       " 'rm30heldto_game_score',\n",
       " 'rm30heldto_W',\n",
       " 'W',\n",
       " 'SRS',\n",
       " 'SOS',\n",
       " 'opp_SRS',\n",
       " 'opp_SOS']"
      ]
     },
     "execution_count": 98,
     "metadata": {},
     "output_type": "execute_result"
    }
   ],
   "source": [
    "list(joined.columns)"
   ]
  },
  {
   "cell_type": "code",
   "execution_count": 99,
   "metadata": {},
   "outputs": [
    {
     "data": {
      "text/plain": [
       "'rm30W'"
      ]
     },
     "execution_count": 99,
     "metadata": {},
     "output_type": "execute_result"
    }
   ],
   "source": [
    "joined.columns[63]"
   ]
  },
  {
   "cell_type": "code",
   "execution_count": 100,
   "metadata": {
    "collapsed": true
   },
   "outputs": [],
   "source": [
    "interact_pair = []\n",
    "for i in range(0,64):\n",
    "    if 'W' not in joined.columns[i]:\n",
    "        interact_pair.append([joined.columns[i], joined.columns[i+64]])"
   ]
  },
  {
   "cell_type": "code",
   "execution_count": 101,
   "metadata": {},
   "outputs": [
    {
     "data": {
      "text/plain": [
       "[['ewm03fg2', 'ewm03heldto_fg2'],\n",
       " ['ewm03fg2a', 'ewm03heldto_fg2a'],\n",
       " ['ewm03fg3', 'ewm03heldto_fg3'],\n",
       " ['ewm03fg3a', 'ewm03heldto_fg3a'],\n",
       " ['ewm03ft', 'ewm03heldto_ft']]"
      ]
     },
     "execution_count": 101,
     "metadata": {},
     "output_type": "execute_result"
    }
   ],
   "source": [
    "interact_pair[:5]"
   ]
  },
  {
   "cell_type": "code",
   "execution_count": 102,
   "metadata": {
    "collapsed": true
   },
   "outputs": [],
   "source": [
    "interact_pair.append(['SOS', 'opp_SOS'])\n",
    "interact_pair.append(['SRS', 'opp_SRS'])"
   ]
  },
  {
   "cell_type": "code",
   "execution_count": 103,
   "metadata": {},
   "outputs": [
    {
     "data": {
      "text/plain": [
       "62"
      ]
     },
     "execution_count": 103,
     "metadata": {},
     "output_type": "execute_result"
    }
   ],
   "source": [
    "len(interact_pair)"
   ]
  },
  {
   "cell_type": "code",
   "execution_count": 104,
   "metadata": {
    "collapsed": true
   },
   "outputs": [],
   "source": [
    "for i, j in interact_pair:\n",
    "    joined[i+j] = joined[i] - joined[j]"
   ]
  },
  {
   "cell_type": "code",
   "execution_count": 105,
   "metadata": {},
   "outputs": [
    {
     "data": {
      "text/plain": [
       "(75355, 195)"
      ]
     },
     "execution_count": 105,
     "metadata": {},
     "output_type": "execute_result"
    }
   ],
   "source": [
    "joined.shape"
   ]
  },
  {
   "cell_type": "code",
   "execution_count": 106,
   "metadata": {},
   "outputs": [
    {
     "data": {
      "text/html": [
       "<div>\n",
       "<style>\n",
       "    .dataframe thead tr:only-child th {\n",
       "        text-align: right;\n",
       "    }\n",
       "\n",
       "    .dataframe thead th {\n",
       "        text-align: left;\n",
       "    }\n",
       "\n",
       "    .dataframe tbody tr th {\n",
       "        vertical-align: top;\n",
       "    }\n",
       "</style>\n",
       "<table border=\"1\" class=\"dataframe\">\n",
       "  <thead>\n",
       "    <tr style=\"text-align: right;\">\n",
       "      <th></th>\n",
       "      <th></th>\n",
       "      <th></th>\n",
       "      <th>ewm03fg2</th>\n",
       "      <th>ewm03fg2a</th>\n",
       "      <th>ewm03fg3</th>\n",
       "      <th>ewm03fg3a</th>\n",
       "      <th>ewm03ft</th>\n",
       "      <th>ewm03fta</th>\n",
       "      <th>ewm03orb</th>\n",
       "      <th>ewm03drb</th>\n",
       "      <th>ewm03ast</th>\n",
       "      <th>ewm03stl</th>\n",
       "      <th>...</th>\n",
       "      <th>rm30drbrm30heldto_drb</th>\n",
       "      <th>rm30astrm30heldto_ast</th>\n",
       "      <th>rm30stlrm30heldto_stl</th>\n",
       "      <th>rm30blkrm30heldto_blk</th>\n",
       "      <th>rm30tovrm30heldto_tov</th>\n",
       "      <th>rm30pfrm30heldto_pf</th>\n",
       "      <th>rm30ptsrm30heldto_pts</th>\n",
       "      <th>rm30game_scorerm30heldto_game_score</th>\n",
       "      <th>SOSopp_SOS</th>\n",
       "      <th>SRSopp_SRS</th>\n",
       "    </tr>\n",
       "    <tr>\n",
       "      <th>school_id</th>\n",
       "      <th>date_game</th>\n",
       "      <th>opp_id</th>\n",
       "      <th></th>\n",
       "      <th></th>\n",
       "      <th></th>\n",
       "      <th></th>\n",
       "      <th></th>\n",
       "      <th></th>\n",
       "      <th></th>\n",
       "      <th></th>\n",
       "      <th></th>\n",
       "      <th></th>\n",
       "      <th></th>\n",
       "      <th></th>\n",
       "      <th></th>\n",
       "      <th></th>\n",
       "      <th></th>\n",
       "      <th></th>\n",
       "      <th></th>\n",
       "      <th></th>\n",
       "      <th></th>\n",
       "      <th></th>\n",
       "      <th></th>\n",
       "    </tr>\n",
       "  </thead>\n",
       "  <tbody>\n",
       "    <tr>\n",
       "      <th rowspan=\"5\" valign=\"top\">High Point</th>\n",
       "      <th>2011-11-18</th>\n",
       "      <th>Central Florida</th>\n",
       "      <td>14.449124</td>\n",
       "      <td>32.502785</td>\n",
       "      <td>6.527332</td>\n",
       "      <td>17.261717</td>\n",
       "      <td>10.273871</td>\n",
       "      <td>14.045750</td>\n",
       "      <td>6.731944</td>\n",
       "      <td>20.382396</td>\n",
       "      <td>8.311464</td>\n",
       "      <td>4.645682</td>\n",
       "      <td>...</td>\n",
       "      <td>-0.100000</td>\n",
       "      <td>-1.866667</td>\n",
       "      <td>-0.100000</td>\n",
       "      <td>-0.800000</td>\n",
       "      <td>2.800000</td>\n",
       "      <td>2.066667</td>\n",
       "      <td>0.100000</td>\n",
       "      <td>-5.940000</td>\n",
       "      <td>-6.44</td>\n",
       "      <td>-19.07</td>\n",
       "    </tr>\n",
       "    <tr>\n",
       "      <th>2011-11-22</th>\n",
       "      <th>Tennessee Tech</th>\n",
       "      <td>15.724562</td>\n",
       "      <td>33.751393</td>\n",
       "      <td>7.263666</td>\n",
       "      <td>18.130859</td>\n",
       "      <td>12.136936</td>\n",
       "      <td>18.022875</td>\n",
       "      <td>5.865972</td>\n",
       "      <td>20.691198</td>\n",
       "      <td>11.655732</td>\n",
       "      <td>4.322841</td>\n",
       "      <td>...</td>\n",
       "      <td>0.633333</td>\n",
       "      <td>-2.733333</td>\n",
       "      <td>0.233333</td>\n",
       "      <td>-0.433333</td>\n",
       "      <td>-0.433333</td>\n",
       "      <td>0.766667</td>\n",
       "      <td>-6.433333</td>\n",
       "      <td>-7.926667</td>\n",
       "      <td>1.30</td>\n",
       "      <td>-7.18</td>\n",
       "    </tr>\n",
       "    <tr>\n",
       "      <th>2011-11-26</th>\n",
       "      <th>Citadel</th>\n",
       "      <td>15.362281</td>\n",
       "      <td>35.875696</td>\n",
       "      <td>7.131833</td>\n",
       "      <td>20.565429</td>\n",
       "      <td>9.068468</td>\n",
       "      <td>15.011437</td>\n",
       "      <td>8.932986</td>\n",
       "      <td>19.845599</td>\n",
       "      <td>14.327866</td>\n",
       "      <td>5.661420</td>\n",
       "      <td>...</td>\n",
       "      <td>-0.900000</td>\n",
       "      <td>-2.633333</td>\n",
       "      <td>0.866667</td>\n",
       "      <td>-0.900000</td>\n",
       "      <td>4.833333</td>\n",
       "      <td>4.166667</td>\n",
       "      <td>-6.633333</td>\n",
       "      <td>-15.220000</td>\n",
       "      <td>-1.63</td>\n",
       "      <td>-2.98</td>\n",
       "    </tr>\n",
       "    <tr>\n",
       "      <th>2011-11-29</th>\n",
       "      <th>Hampton</th>\n",
       "      <td>17.681140</td>\n",
       "      <td>39.937848</td>\n",
       "      <td>7.065916</td>\n",
       "      <td>17.782715</td>\n",
       "      <td>14.034234</td>\n",
       "      <td>23.005719</td>\n",
       "      <td>10.466493</td>\n",
       "      <td>25.922800</td>\n",
       "      <td>13.663933</td>\n",
       "      <td>7.330710</td>\n",
       "      <td>...</td>\n",
       "      <td>-3.966667</td>\n",
       "      <td>0.700000</td>\n",
       "      <td>1.733333</td>\n",
       "      <td>-0.033333</td>\n",
       "      <td>0.166667</td>\n",
       "      <td>-0.233333</td>\n",
       "      <td>-0.100000</td>\n",
       "      <td>1.423333</td>\n",
       "      <td>4.30</td>\n",
       "      <td>-7.62</td>\n",
       "    </tr>\n",
       "    <tr>\n",
       "      <th>2011-12-03</th>\n",
       "      <th>Campbell</th>\n",
       "      <td>12.840570</td>\n",
       "      <td>34.468924</td>\n",
       "      <td>10.032958</td>\n",
       "      <td>23.891357</td>\n",
       "      <td>11.517117</td>\n",
       "      <td>19.502859</td>\n",
       "      <td>12.733246</td>\n",
       "      <td>20.961400</td>\n",
       "      <td>11.831967</td>\n",
       "      <td>5.665355</td>\n",
       "      <td>...</td>\n",
       "      <td>-0.100000</td>\n",
       "      <td>-2.300000</td>\n",
       "      <td>-0.266667</td>\n",
       "      <td>-1.400000</td>\n",
       "      <td>1.166667</td>\n",
       "      <td>-0.133333</td>\n",
       "      <td>-3.733333</td>\n",
       "      <td>-9.020000</td>\n",
       "      <td>-0.20</td>\n",
       "      <td>-6.15</td>\n",
       "    </tr>\n",
       "  </tbody>\n",
       "</table>\n",
       "<p>5 rows × 195 columns</p>\n",
       "</div>"
      ],
      "text/plain": [
       "                                        ewm03fg2  ewm03fg2a   ewm03fg3  \\\n",
       "school_id  date_game  opp_id                                             \n",
       "High Point 2011-11-18 Central Florida  14.449124  32.502785   6.527332   \n",
       "           2011-11-22 Tennessee Tech   15.724562  33.751393   7.263666   \n",
       "           2011-11-26 Citadel          15.362281  35.875696   7.131833   \n",
       "           2011-11-29 Hampton          17.681140  39.937848   7.065916   \n",
       "           2011-12-03 Campbell         12.840570  34.468924  10.032958   \n",
       "\n",
       "                                       ewm03fg3a    ewm03ft   ewm03fta  \\\n",
       "school_id  date_game  opp_id                                             \n",
       "High Point 2011-11-18 Central Florida  17.261717  10.273871  14.045750   \n",
       "           2011-11-22 Tennessee Tech   18.130859  12.136936  18.022875   \n",
       "           2011-11-26 Citadel          20.565429   9.068468  15.011437   \n",
       "           2011-11-29 Hampton          17.782715  14.034234  23.005719   \n",
       "           2011-12-03 Campbell         23.891357  11.517117  19.502859   \n",
       "\n",
       "                                        ewm03orb   ewm03drb   ewm03ast  \\\n",
       "school_id  date_game  opp_id                                             \n",
       "High Point 2011-11-18 Central Florida   6.731944  20.382396   8.311464   \n",
       "           2011-11-22 Tennessee Tech    5.865972  20.691198  11.655732   \n",
       "           2011-11-26 Citadel           8.932986  19.845599  14.327866   \n",
       "           2011-11-29 Hampton          10.466493  25.922800  13.663933   \n",
       "           2011-12-03 Campbell         12.733246  20.961400  11.831967   \n",
       "\n",
       "                                       ewm03stl     ...      \\\n",
       "school_id  date_game  opp_id                        ...       \n",
       "High Point 2011-11-18 Central Florida  4.645682     ...       \n",
       "           2011-11-22 Tennessee Tech   4.322841     ...       \n",
       "           2011-11-26 Citadel          5.661420     ...       \n",
       "           2011-11-29 Hampton          7.330710     ...       \n",
       "           2011-12-03 Campbell         5.665355     ...       \n",
       "\n",
       "                                       rm30drbrm30heldto_drb  \\\n",
       "school_id  date_game  opp_id                                   \n",
       "High Point 2011-11-18 Central Florida              -0.100000   \n",
       "           2011-11-22 Tennessee Tech                0.633333   \n",
       "           2011-11-26 Citadel                      -0.900000   \n",
       "           2011-11-29 Hampton                      -3.966667   \n",
       "           2011-12-03 Campbell                     -0.100000   \n",
       "\n",
       "                                       rm30astrm30heldto_ast  \\\n",
       "school_id  date_game  opp_id                                   \n",
       "High Point 2011-11-18 Central Florida              -1.866667   \n",
       "           2011-11-22 Tennessee Tech               -2.733333   \n",
       "           2011-11-26 Citadel                      -2.633333   \n",
       "           2011-11-29 Hampton                       0.700000   \n",
       "           2011-12-03 Campbell                     -2.300000   \n",
       "\n",
       "                                       rm30stlrm30heldto_stl  \\\n",
       "school_id  date_game  opp_id                                   \n",
       "High Point 2011-11-18 Central Florida              -0.100000   \n",
       "           2011-11-22 Tennessee Tech                0.233333   \n",
       "           2011-11-26 Citadel                       0.866667   \n",
       "           2011-11-29 Hampton                       1.733333   \n",
       "           2011-12-03 Campbell                     -0.266667   \n",
       "\n",
       "                                       rm30blkrm30heldto_blk  \\\n",
       "school_id  date_game  opp_id                                   \n",
       "High Point 2011-11-18 Central Florida              -0.800000   \n",
       "           2011-11-22 Tennessee Tech               -0.433333   \n",
       "           2011-11-26 Citadel                      -0.900000   \n",
       "           2011-11-29 Hampton                      -0.033333   \n",
       "           2011-12-03 Campbell                     -1.400000   \n",
       "\n",
       "                                       rm30tovrm30heldto_tov  \\\n",
       "school_id  date_game  opp_id                                   \n",
       "High Point 2011-11-18 Central Florida               2.800000   \n",
       "           2011-11-22 Tennessee Tech               -0.433333   \n",
       "           2011-11-26 Citadel                       4.833333   \n",
       "           2011-11-29 Hampton                       0.166667   \n",
       "           2011-12-03 Campbell                      1.166667   \n",
       "\n",
       "                                       rm30pfrm30heldto_pf  \\\n",
       "school_id  date_game  opp_id                                 \n",
       "High Point 2011-11-18 Central Florida             2.066667   \n",
       "           2011-11-22 Tennessee Tech              0.766667   \n",
       "           2011-11-26 Citadel                     4.166667   \n",
       "           2011-11-29 Hampton                    -0.233333   \n",
       "           2011-12-03 Campbell                   -0.133333   \n",
       "\n",
       "                                       rm30ptsrm30heldto_pts  \\\n",
       "school_id  date_game  opp_id                                   \n",
       "High Point 2011-11-18 Central Florida               0.100000   \n",
       "           2011-11-22 Tennessee Tech               -6.433333   \n",
       "           2011-11-26 Citadel                      -6.633333   \n",
       "           2011-11-29 Hampton                      -0.100000   \n",
       "           2011-12-03 Campbell                     -3.733333   \n",
       "\n",
       "                                       rm30game_scorerm30heldto_game_score  \\\n",
       "school_id  date_game  opp_id                                                 \n",
       "High Point 2011-11-18 Central Florida                            -5.940000   \n",
       "           2011-11-22 Tennessee Tech                             -7.926667   \n",
       "           2011-11-26 Citadel                                   -15.220000   \n",
       "           2011-11-29 Hampton                                     1.423333   \n",
       "           2011-12-03 Campbell                                   -9.020000   \n",
       "\n",
       "                                       SOSopp_SOS  SRSopp_SRS  \n",
       "school_id  date_game  opp_id                                   \n",
       "High Point 2011-11-18 Central Florida       -6.44      -19.07  \n",
       "           2011-11-22 Tennessee Tech         1.30       -7.18  \n",
       "           2011-11-26 Citadel               -1.63       -2.98  \n",
       "           2011-11-29 Hampton                4.30       -7.62  \n",
       "           2011-12-03 Campbell              -0.20       -6.15  \n",
       "\n",
       "[5 rows x 195 columns]"
      ]
     },
     "execution_count": 106,
     "metadata": {},
     "output_type": "execute_result"
    }
   ],
   "source": [
    "joined.head()"
   ]
  },
  {
   "cell_type": "code",
   "execution_count": 107,
   "metadata": {},
   "outputs": [
    {
     "data": {
      "text/plain": [
       "['ewm03fg2',\n",
       " 'ewm03fg2a',\n",
       " 'ewm03fg3',\n",
       " 'ewm03fg3a',\n",
       " 'ewm03ft',\n",
       " 'ewm03fta',\n",
       " 'ewm03orb',\n",
       " 'ewm03drb',\n",
       " 'ewm03ast',\n",
       " 'ewm03stl',\n",
       " 'ewm03blk',\n",
       " 'ewm03tov',\n",
       " 'ewm03pf',\n",
       " 'ewm03pts',\n",
       " 'ewm03game_score',\n",
       " 'ewm03W',\n",
       " 'ewm10fg2',\n",
       " 'ewm10fg2a',\n",
       " 'ewm10fg3',\n",
       " 'ewm10fg3a',\n",
       " 'ewm10ft',\n",
       " 'ewm10fta',\n",
       " 'ewm10orb',\n",
       " 'ewm10drb',\n",
       " 'ewm10ast',\n",
       " 'ewm10stl',\n",
       " 'ewm10blk',\n",
       " 'ewm10tov',\n",
       " 'ewm10pf',\n",
       " 'ewm10pts',\n",
       " 'ewm10game_score',\n",
       " 'ewm10W',\n",
       " 'ewm20fg2',\n",
       " 'ewm20fg2a',\n",
       " 'ewm20fg3',\n",
       " 'ewm20fg3a',\n",
       " 'ewm20ft',\n",
       " 'ewm20fta',\n",
       " 'ewm20orb',\n",
       " 'ewm20drb',\n",
       " 'ewm20ast',\n",
       " 'ewm20stl',\n",
       " 'ewm20blk',\n",
       " 'ewm20tov',\n",
       " 'ewm20pf',\n",
       " 'ewm20pts',\n",
       " 'ewm20game_score',\n",
       " 'ewm20W',\n",
       " 'rm30fg2',\n",
       " 'rm30fg2a',\n",
       " 'rm30fg3',\n",
       " 'rm30fg3a',\n",
       " 'rm30ft',\n",
       " 'rm30fta',\n",
       " 'rm30orb',\n",
       " 'rm30drb',\n",
       " 'rm30ast',\n",
       " 'rm30stl',\n",
       " 'rm30blk',\n",
       " 'rm30tov',\n",
       " 'rm30pf',\n",
       " 'rm30pts',\n",
       " 'rm30game_score',\n",
       " 'rm30W',\n",
       " 'ewm03heldto_fg2',\n",
       " 'ewm03heldto_fg2a',\n",
       " 'ewm03heldto_fg3',\n",
       " 'ewm03heldto_fg3a',\n",
       " 'ewm03heldto_ft',\n",
       " 'ewm03heldto_fta',\n",
       " 'ewm03heldto_orb',\n",
       " 'ewm03heldto_drb',\n",
       " 'ewm03heldto_ast',\n",
       " 'ewm03heldto_stl',\n",
       " 'ewm03heldto_blk',\n",
       " 'ewm03heldto_tov',\n",
       " 'ewm03heldto_pf',\n",
       " 'ewm03heldto_pts',\n",
       " 'ewm03heldto_game_score',\n",
       " 'ewm03heldto_W',\n",
       " 'ewm10heldto_fg2',\n",
       " 'ewm10heldto_fg2a',\n",
       " 'ewm10heldto_fg3',\n",
       " 'ewm10heldto_fg3a',\n",
       " 'ewm10heldto_ft',\n",
       " 'ewm10heldto_fta',\n",
       " 'ewm10heldto_orb',\n",
       " 'ewm10heldto_drb',\n",
       " 'ewm10heldto_ast',\n",
       " 'ewm10heldto_stl',\n",
       " 'ewm10heldto_blk',\n",
       " 'ewm10heldto_tov',\n",
       " 'ewm10heldto_pf',\n",
       " 'ewm10heldto_pts',\n",
       " 'ewm10heldto_game_score',\n",
       " 'ewm10heldto_W',\n",
       " 'ewm20heldto_fg2',\n",
       " 'ewm20heldto_fg2a',\n",
       " 'ewm20heldto_fg3',\n",
       " 'ewm20heldto_fg3a',\n",
       " 'ewm20heldto_ft',\n",
       " 'ewm20heldto_fta',\n",
       " 'ewm20heldto_orb',\n",
       " 'ewm20heldto_drb',\n",
       " 'ewm20heldto_ast',\n",
       " 'ewm20heldto_stl',\n",
       " 'ewm20heldto_blk',\n",
       " 'ewm20heldto_tov',\n",
       " 'ewm20heldto_pf',\n",
       " 'ewm20heldto_pts',\n",
       " 'ewm20heldto_game_score',\n",
       " 'ewm20heldto_W',\n",
       " 'rm30heldto_fg2',\n",
       " 'rm30heldto_fg2a',\n",
       " 'rm30heldto_fg3',\n",
       " 'rm30heldto_fg3a',\n",
       " 'rm30heldto_ft',\n",
       " 'rm30heldto_fta',\n",
       " 'rm30heldto_orb',\n",
       " 'rm30heldto_drb',\n",
       " 'rm30heldto_ast',\n",
       " 'rm30heldto_stl',\n",
       " 'rm30heldto_blk',\n",
       " 'rm30heldto_tov',\n",
       " 'rm30heldto_pf',\n",
       " 'rm30heldto_pts',\n",
       " 'rm30heldto_game_score',\n",
       " 'rm30heldto_W',\n",
       " 'W',\n",
       " 'SRS',\n",
       " 'SOS',\n",
       " 'opp_SRS',\n",
       " 'opp_SOS',\n",
       " 'ewm03fg2ewm03heldto_fg2',\n",
       " 'ewm03fg2aewm03heldto_fg2a',\n",
       " 'ewm03fg3ewm03heldto_fg3',\n",
       " 'ewm03fg3aewm03heldto_fg3a',\n",
       " 'ewm03ftewm03heldto_ft',\n",
       " 'ewm03ftaewm03heldto_fta',\n",
       " 'ewm03orbewm03heldto_orb',\n",
       " 'ewm03drbewm03heldto_drb',\n",
       " 'ewm03astewm03heldto_ast',\n",
       " 'ewm03stlewm03heldto_stl',\n",
       " 'ewm03blkewm03heldto_blk',\n",
       " 'ewm03tovewm03heldto_tov',\n",
       " 'ewm03pfewm03heldto_pf',\n",
       " 'ewm03ptsewm03heldto_pts',\n",
       " 'ewm03game_scoreewm03heldto_game_score',\n",
       " 'ewm10fg2ewm10heldto_fg2',\n",
       " 'ewm10fg2aewm10heldto_fg2a',\n",
       " 'ewm10fg3ewm10heldto_fg3',\n",
       " 'ewm10fg3aewm10heldto_fg3a',\n",
       " 'ewm10ftewm10heldto_ft',\n",
       " 'ewm10ftaewm10heldto_fta',\n",
       " 'ewm10orbewm10heldto_orb',\n",
       " 'ewm10drbewm10heldto_drb',\n",
       " 'ewm10astewm10heldto_ast',\n",
       " 'ewm10stlewm10heldto_stl',\n",
       " 'ewm10blkewm10heldto_blk',\n",
       " 'ewm10tovewm10heldto_tov',\n",
       " 'ewm10pfewm10heldto_pf',\n",
       " 'ewm10ptsewm10heldto_pts',\n",
       " 'ewm10game_scoreewm10heldto_game_score',\n",
       " 'ewm20fg2ewm20heldto_fg2',\n",
       " 'ewm20fg2aewm20heldto_fg2a',\n",
       " 'ewm20fg3ewm20heldto_fg3',\n",
       " 'ewm20fg3aewm20heldto_fg3a',\n",
       " 'ewm20ftewm20heldto_ft',\n",
       " 'ewm20ftaewm20heldto_fta',\n",
       " 'ewm20orbewm20heldto_orb',\n",
       " 'ewm20drbewm20heldto_drb',\n",
       " 'ewm20astewm20heldto_ast',\n",
       " 'ewm20stlewm20heldto_stl',\n",
       " 'ewm20blkewm20heldto_blk',\n",
       " 'ewm20tovewm20heldto_tov',\n",
       " 'ewm20pfewm20heldto_pf',\n",
       " 'ewm20ptsewm20heldto_pts',\n",
       " 'ewm20game_scoreewm20heldto_game_score',\n",
       " 'rm30fg2rm30heldto_fg2',\n",
       " 'rm30fg2arm30heldto_fg2a',\n",
       " 'rm30fg3rm30heldto_fg3',\n",
       " 'rm30fg3arm30heldto_fg3a',\n",
       " 'rm30ftrm30heldto_ft',\n",
       " 'rm30ftarm30heldto_fta',\n",
       " 'rm30orbrm30heldto_orb',\n",
       " 'rm30drbrm30heldto_drb',\n",
       " 'rm30astrm30heldto_ast',\n",
       " 'rm30stlrm30heldto_stl',\n",
       " 'rm30blkrm30heldto_blk',\n",
       " 'rm30tovrm30heldto_tov',\n",
       " 'rm30pfrm30heldto_pf',\n",
       " 'rm30ptsrm30heldto_pts',\n",
       " 'rm30game_scorerm30heldto_game_score',\n",
       " 'SOSopp_SOS',\n",
       " 'SRSopp_SRS']"
      ]
     },
     "execution_count": 107,
     "metadata": {},
     "output_type": "execute_result"
    }
   ],
   "source": [
    "list(joined.columns)"
   ]
  },
  {
   "cell_type": "code",
   "execution_count": null,
   "metadata": {
    "collapsed": true
   },
   "outputs": [],
   "source": [
    "joined.to_csv('../data/joined_modeling.csv')"
   ]
  },
  {
   "cell_type": "markdown",
   "metadata": {},
   "source": [
    "# Baseline"
   ]
  },
  {
   "cell_type": "code",
   "execution_count": 110,
   "metadata": {
    "collapsed": true
   },
   "outputs": [],
   "source": [
    "# Count since 2003\n",
    "# https://www.teamrankings.com/ncb/odds-history/win/\n",
    "spread = pd.read_csv('../data/point_spread_history.csv', sep='\\t', header=None)"
   ]
  },
  {
   "cell_type": "code",
   "execution_count": 111,
   "metadata": {
    "collapsed": true
   },
   "outputs": [],
   "source": [
    "spread_cols = ['closing_spread', 'game_count', 'record', 'null1', 'null2', 'null3', 'null4',\n",
    "            'null5', 'null6', 'null7', 'null8']\n",
    "spread.columns = spread_cols"
   ]
  },
  {
   "cell_type": "code",
   "execution_count": 112,
   "metadata": {},
   "outputs": [
    {
     "data": {
      "text/plain": [
       "closing_spread            0\n",
       "game_count              914\n",
       "record            457-457-0\n",
       "null1                 50.0%\n",
       "null2                     0\n",
       "null3             220-237-0\n",
       "null4                 48.1%\n",
       "null5                 -0.71\n",
       "null6             237-220-0\n",
       "null7                 51.9%\n",
       "null8                  0.71\n",
       "Name: 85, dtype: object"
      ]
     },
     "execution_count": 112,
     "metadata": {},
     "output_type": "execute_result"
    }
   ],
   "source": [
    "spread.loc[85]"
   ]
  },
  {
   "cell_type": "code",
   "execution_count": 113,
   "metadata": {
    "collapsed": true
   },
   "outputs": [],
   "source": [
    "# Regex: ^[0-9]{1,4}(?=-)   Will find the first column (incorrect)\n",
    "# Regex: (?<=-)[0-9]{1,4}(?=-) Will find the second column (correct)"
   ]
  },
  {
   "cell_type": "code",
   "execution_count": 114,
   "metadata": {
    "collapsed": true
   },
   "outputs": [],
   "source": [
    "incorrect = []\n",
    "correct = []\n",
    "for i in spread['record'][:85]:\n",
    "    inc = re.findall('^[0-9]{1,4}(?=-)', i)\n",
    "    cor = re.findall('(?<=-)[0-9]{1,4}(?=-)', i)\n",
    "    \n",
    "    incorrect.append(int(inc[0]))\n",
    "    correct.append(int(cor[0]))"
   ]
  },
  {
   "cell_type": "code",
   "execution_count": 115,
   "metadata": {},
   "outputs": [
    {
     "data": {
      "text/plain": [
       "0.7430196294257935"
      ]
     },
     "execution_count": 115,
     "metadata": {},
     "output_type": "execute_result"
    }
   ],
   "source": [
    "sum(correct) / (sum(correct) + sum(incorrect))"
   ]
  },
  {
   "cell_type": "markdown",
   "metadata": {},
   "source": [
    "### Vegas correctly picks the winner in the opening line 74.3% of the time since 2013"
   ]
  },
  {
   "cell_type": "markdown",
   "metadata": {},
   "source": [
    "# Modeling"
   ]
  },
  {
   "cell_type": "code",
   "execution_count": null,
   "metadata": {
    "collapsed": true
   },
   "outputs": [],
   "source": [
    "#temp_cols = []\n",
    "#for i in test4.columns:\n",
    "#    if 'pts' in i:\n",
    "#        temp_cols.append(i)"
   ]
  },
  {
   "cell_type": "code",
   "execution_count": null,
   "metadata": {
    "collapsed": true
   },
   "outputs": [],
   "source": [
    "#test4[temp_cols].corr()"
   ]
  },
  {
   "cell_type": "code",
   "execution_count": null,
   "metadata": {
    "collapsed": true
   },
   "outputs": [],
   "source": [
    "#cols_of_interest = ['ewm03pts', 'ewm07pts', 'rm30pts', 'rm30heldto_pts']"
   ]
  },
  {
   "cell_type": "code",
   "execution_count": null,
   "metadata": {
    "collapsed": true
   },
   "outputs": [],
   "source": [
    "#cols_of_interest = ['ewm03fg3', 'ewm07fg3', 'rm30fg3', 'rm30heldto_fg3']"
   ]
  },
  {
   "cell_type": "code",
   "execution_count": null,
   "metadata": {
    "collapsed": true
   },
   "outputs": [],
   "source": [
    "#cols_of_interest = ['ewm03ft', 'ewm07ft', 'rm30ft', 'rm30heldto_ft']"
   ]
  },
  {
   "cell_type": "code",
   "execution_count": null,
   "metadata": {
    "collapsed": true,
    "scrolled": true
   },
   "outputs": [],
   "source": [
    "#joined[joined.columns[:64].append(joined.columns[128:])]"
   ]
  },
  {
   "cell_type": "markdown",
   "metadata": {},
   "source": [
    "## Begin Modeling Here (Can skip everything above now)"
   ]
  },
  {
   "cell_type": "markdown",
   "metadata": {},
   "source": [
    "### Bring in modeling df"
   ]
  },
  {
   "cell_type": "code",
   "execution_count": 2,
   "metadata": {
    "collapsed": true
   },
   "outputs": [],
   "source": [
    "joined = pd.read_csv('../data/joined_modeling.csv')"
   ]
  },
  {
   "cell_type": "code",
   "execution_count": 3,
   "metadata": {
    "collapsed": true
   },
   "outputs": [],
   "source": [
    "joined.set_index(['school_id', 'date_game', 'opp_id'], inplace=True)"
   ]
  },
  {
   "cell_type": "code",
   "execution_count": 4,
   "metadata": {},
   "outputs": [
    {
     "data": {
      "text/html": [
       "<div>\n",
       "<style>\n",
       "    .dataframe thead tr:only-child th {\n",
       "        text-align: right;\n",
       "    }\n",
       "\n",
       "    .dataframe thead th {\n",
       "        text-align: left;\n",
       "    }\n",
       "\n",
       "    .dataframe tbody tr th {\n",
       "        vertical-align: top;\n",
       "    }\n",
       "</style>\n",
       "<table border=\"1\" class=\"dataframe\">\n",
       "  <thead>\n",
       "    <tr style=\"text-align: right;\">\n",
       "      <th></th>\n",
       "      <th></th>\n",
       "      <th></th>\n",
       "      <th>ewm03fg2</th>\n",
       "      <th>ewm03fg2a</th>\n",
       "      <th>ewm03fg3</th>\n",
       "      <th>ewm03fg3a</th>\n",
       "      <th>ewm03ft</th>\n",
       "      <th>ewm03fta</th>\n",
       "      <th>ewm03orb</th>\n",
       "      <th>ewm03drb</th>\n",
       "      <th>ewm03ast</th>\n",
       "      <th>ewm03stl</th>\n",
       "      <th>...</th>\n",
       "      <th>rm30drbrm30heldto_drb</th>\n",
       "      <th>rm30astrm30heldto_ast</th>\n",
       "      <th>rm30stlrm30heldto_stl</th>\n",
       "      <th>rm30blkrm30heldto_blk</th>\n",
       "      <th>rm30tovrm30heldto_tov</th>\n",
       "      <th>rm30pfrm30heldto_pf</th>\n",
       "      <th>rm30ptsrm30heldto_pts</th>\n",
       "      <th>rm30game_scorerm30heldto_game_score</th>\n",
       "      <th>SOSopp_SOS</th>\n",
       "      <th>SRSopp_SRS</th>\n",
       "    </tr>\n",
       "    <tr>\n",
       "      <th>school_id</th>\n",
       "      <th>date_game</th>\n",
       "      <th>opp_id</th>\n",
       "      <th></th>\n",
       "      <th></th>\n",
       "      <th></th>\n",
       "      <th></th>\n",
       "      <th></th>\n",
       "      <th></th>\n",
       "      <th></th>\n",
       "      <th></th>\n",
       "      <th></th>\n",
       "      <th></th>\n",
       "      <th></th>\n",
       "      <th></th>\n",
       "      <th></th>\n",
       "      <th></th>\n",
       "      <th></th>\n",
       "      <th></th>\n",
       "      <th></th>\n",
       "      <th></th>\n",
       "      <th></th>\n",
       "      <th></th>\n",
       "      <th></th>\n",
       "    </tr>\n",
       "  </thead>\n",
       "  <tbody>\n",
       "    <tr>\n",
       "      <th rowspan=\"5\" valign=\"top\">High Point</th>\n",
       "      <th>2011-11-18</th>\n",
       "      <th>Central Florida</th>\n",
       "      <td>14.449124</td>\n",
       "      <td>32.502785</td>\n",
       "      <td>6.527332</td>\n",
       "      <td>17.261717</td>\n",
       "      <td>10.273871</td>\n",
       "      <td>14.045750</td>\n",
       "      <td>6.731944</td>\n",
       "      <td>20.382396</td>\n",
       "      <td>8.311464</td>\n",
       "      <td>4.645682</td>\n",
       "      <td>...</td>\n",
       "      <td>-0.100000</td>\n",
       "      <td>-1.866667</td>\n",
       "      <td>-0.100000</td>\n",
       "      <td>-0.800000</td>\n",
       "      <td>2.800000</td>\n",
       "      <td>2.066667</td>\n",
       "      <td>0.100000</td>\n",
       "      <td>-5.940000</td>\n",
       "      <td>-6.44</td>\n",
       "      <td>-19.07</td>\n",
       "    </tr>\n",
       "    <tr>\n",
       "      <th>2011-11-22</th>\n",
       "      <th>Tennessee Tech</th>\n",
       "      <td>15.724562</td>\n",
       "      <td>33.751393</td>\n",
       "      <td>7.263666</td>\n",
       "      <td>18.130859</td>\n",
       "      <td>12.136936</td>\n",
       "      <td>18.022875</td>\n",
       "      <td>5.865972</td>\n",
       "      <td>20.691198</td>\n",
       "      <td>11.655732</td>\n",
       "      <td>4.322841</td>\n",
       "      <td>...</td>\n",
       "      <td>0.633333</td>\n",
       "      <td>-2.733333</td>\n",
       "      <td>0.233333</td>\n",
       "      <td>-0.433333</td>\n",
       "      <td>-0.433333</td>\n",
       "      <td>0.766667</td>\n",
       "      <td>-6.433333</td>\n",
       "      <td>-7.926667</td>\n",
       "      <td>1.30</td>\n",
       "      <td>-7.18</td>\n",
       "    </tr>\n",
       "    <tr>\n",
       "      <th>2011-11-26</th>\n",
       "      <th>Citadel</th>\n",
       "      <td>15.362281</td>\n",
       "      <td>35.875696</td>\n",
       "      <td>7.131833</td>\n",
       "      <td>20.565429</td>\n",
       "      <td>9.068468</td>\n",
       "      <td>15.011437</td>\n",
       "      <td>8.932986</td>\n",
       "      <td>19.845599</td>\n",
       "      <td>14.327866</td>\n",
       "      <td>5.661420</td>\n",
       "      <td>...</td>\n",
       "      <td>-0.900000</td>\n",
       "      <td>-2.633333</td>\n",
       "      <td>0.866667</td>\n",
       "      <td>-0.900000</td>\n",
       "      <td>4.833333</td>\n",
       "      <td>4.166667</td>\n",
       "      <td>-6.633333</td>\n",
       "      <td>-15.220000</td>\n",
       "      <td>-1.63</td>\n",
       "      <td>-2.98</td>\n",
       "    </tr>\n",
       "    <tr>\n",
       "      <th>2011-11-29</th>\n",
       "      <th>Hampton</th>\n",
       "      <td>17.681140</td>\n",
       "      <td>39.937848</td>\n",
       "      <td>7.065916</td>\n",
       "      <td>17.782715</td>\n",
       "      <td>14.034234</td>\n",
       "      <td>23.005719</td>\n",
       "      <td>10.466493</td>\n",
       "      <td>25.922800</td>\n",
       "      <td>13.663933</td>\n",
       "      <td>7.330710</td>\n",
       "      <td>...</td>\n",
       "      <td>-3.966667</td>\n",
       "      <td>0.700000</td>\n",
       "      <td>1.733333</td>\n",
       "      <td>-0.033333</td>\n",
       "      <td>0.166667</td>\n",
       "      <td>-0.233333</td>\n",
       "      <td>-0.100000</td>\n",
       "      <td>1.423333</td>\n",
       "      <td>4.30</td>\n",
       "      <td>-7.62</td>\n",
       "    </tr>\n",
       "    <tr>\n",
       "      <th>2011-12-03</th>\n",
       "      <th>Campbell</th>\n",
       "      <td>12.840570</td>\n",
       "      <td>34.468924</td>\n",
       "      <td>10.032958</td>\n",
       "      <td>23.891357</td>\n",
       "      <td>11.517117</td>\n",
       "      <td>19.502859</td>\n",
       "      <td>12.733246</td>\n",
       "      <td>20.961400</td>\n",
       "      <td>11.831967</td>\n",
       "      <td>5.665355</td>\n",
       "      <td>...</td>\n",
       "      <td>-0.100000</td>\n",
       "      <td>-2.300000</td>\n",
       "      <td>-0.266667</td>\n",
       "      <td>-1.400000</td>\n",
       "      <td>1.166667</td>\n",
       "      <td>-0.133333</td>\n",
       "      <td>-3.733333</td>\n",
       "      <td>-9.020000</td>\n",
       "      <td>-0.20</td>\n",
       "      <td>-6.15</td>\n",
       "    </tr>\n",
       "  </tbody>\n",
       "</table>\n",
       "<p>5 rows × 195 columns</p>\n",
       "</div>"
      ],
      "text/plain": [
       "                                        ewm03fg2  ewm03fg2a   ewm03fg3  \\\n",
       "school_id  date_game  opp_id                                             \n",
       "High Point 2011-11-18 Central Florida  14.449124  32.502785   6.527332   \n",
       "           2011-11-22 Tennessee Tech   15.724562  33.751393   7.263666   \n",
       "           2011-11-26 Citadel          15.362281  35.875696   7.131833   \n",
       "           2011-11-29 Hampton          17.681140  39.937848   7.065916   \n",
       "           2011-12-03 Campbell         12.840570  34.468924  10.032958   \n",
       "\n",
       "                                       ewm03fg3a    ewm03ft   ewm03fta  \\\n",
       "school_id  date_game  opp_id                                             \n",
       "High Point 2011-11-18 Central Florida  17.261717  10.273871  14.045750   \n",
       "           2011-11-22 Tennessee Tech   18.130859  12.136936  18.022875   \n",
       "           2011-11-26 Citadel          20.565429   9.068468  15.011437   \n",
       "           2011-11-29 Hampton          17.782715  14.034234  23.005719   \n",
       "           2011-12-03 Campbell         23.891357  11.517117  19.502859   \n",
       "\n",
       "                                        ewm03orb   ewm03drb   ewm03ast  \\\n",
       "school_id  date_game  opp_id                                             \n",
       "High Point 2011-11-18 Central Florida   6.731944  20.382396   8.311464   \n",
       "           2011-11-22 Tennessee Tech    5.865972  20.691198  11.655732   \n",
       "           2011-11-26 Citadel           8.932986  19.845599  14.327866   \n",
       "           2011-11-29 Hampton          10.466493  25.922800  13.663933   \n",
       "           2011-12-03 Campbell         12.733246  20.961400  11.831967   \n",
       "\n",
       "                                       ewm03stl     ...      \\\n",
       "school_id  date_game  opp_id                        ...       \n",
       "High Point 2011-11-18 Central Florida  4.645682     ...       \n",
       "           2011-11-22 Tennessee Tech   4.322841     ...       \n",
       "           2011-11-26 Citadel          5.661420     ...       \n",
       "           2011-11-29 Hampton          7.330710     ...       \n",
       "           2011-12-03 Campbell         5.665355     ...       \n",
       "\n",
       "                                       rm30drbrm30heldto_drb  \\\n",
       "school_id  date_game  opp_id                                   \n",
       "High Point 2011-11-18 Central Florida              -0.100000   \n",
       "           2011-11-22 Tennessee Tech                0.633333   \n",
       "           2011-11-26 Citadel                      -0.900000   \n",
       "           2011-11-29 Hampton                      -3.966667   \n",
       "           2011-12-03 Campbell                     -0.100000   \n",
       "\n",
       "                                       rm30astrm30heldto_ast  \\\n",
       "school_id  date_game  opp_id                                   \n",
       "High Point 2011-11-18 Central Florida              -1.866667   \n",
       "           2011-11-22 Tennessee Tech               -2.733333   \n",
       "           2011-11-26 Citadel                      -2.633333   \n",
       "           2011-11-29 Hampton                       0.700000   \n",
       "           2011-12-03 Campbell                     -2.300000   \n",
       "\n",
       "                                       rm30stlrm30heldto_stl  \\\n",
       "school_id  date_game  opp_id                                   \n",
       "High Point 2011-11-18 Central Florida              -0.100000   \n",
       "           2011-11-22 Tennessee Tech                0.233333   \n",
       "           2011-11-26 Citadel                       0.866667   \n",
       "           2011-11-29 Hampton                       1.733333   \n",
       "           2011-12-03 Campbell                     -0.266667   \n",
       "\n",
       "                                       rm30blkrm30heldto_blk  \\\n",
       "school_id  date_game  opp_id                                   \n",
       "High Point 2011-11-18 Central Florida              -0.800000   \n",
       "           2011-11-22 Tennessee Tech               -0.433333   \n",
       "           2011-11-26 Citadel                      -0.900000   \n",
       "           2011-11-29 Hampton                      -0.033333   \n",
       "           2011-12-03 Campbell                     -1.400000   \n",
       "\n",
       "                                       rm30tovrm30heldto_tov  \\\n",
       "school_id  date_game  opp_id                                   \n",
       "High Point 2011-11-18 Central Florida               2.800000   \n",
       "           2011-11-22 Tennessee Tech               -0.433333   \n",
       "           2011-11-26 Citadel                       4.833333   \n",
       "           2011-11-29 Hampton                       0.166667   \n",
       "           2011-12-03 Campbell                      1.166667   \n",
       "\n",
       "                                       rm30pfrm30heldto_pf  \\\n",
       "school_id  date_game  opp_id                                 \n",
       "High Point 2011-11-18 Central Florida             2.066667   \n",
       "           2011-11-22 Tennessee Tech              0.766667   \n",
       "           2011-11-26 Citadel                     4.166667   \n",
       "           2011-11-29 Hampton                    -0.233333   \n",
       "           2011-12-03 Campbell                   -0.133333   \n",
       "\n",
       "                                       rm30ptsrm30heldto_pts  \\\n",
       "school_id  date_game  opp_id                                   \n",
       "High Point 2011-11-18 Central Florida               0.100000   \n",
       "           2011-11-22 Tennessee Tech               -6.433333   \n",
       "           2011-11-26 Citadel                      -6.633333   \n",
       "           2011-11-29 Hampton                      -0.100000   \n",
       "           2011-12-03 Campbell                     -3.733333   \n",
       "\n",
       "                                       rm30game_scorerm30heldto_game_score  \\\n",
       "school_id  date_game  opp_id                                                 \n",
       "High Point 2011-11-18 Central Florida                            -5.940000   \n",
       "           2011-11-22 Tennessee Tech                             -7.926667   \n",
       "           2011-11-26 Citadel                                   -15.220000   \n",
       "           2011-11-29 Hampton                                     1.423333   \n",
       "           2011-12-03 Campbell                                   -9.020000   \n",
       "\n",
       "                                       SOSopp_SOS  SRSopp_SRS  \n",
       "school_id  date_game  opp_id                                   \n",
       "High Point 2011-11-18 Central Florida       -6.44      -19.07  \n",
       "           2011-11-22 Tennessee Tech         1.30       -7.18  \n",
       "           2011-11-26 Citadel               -1.63       -2.98  \n",
       "           2011-11-29 Hampton                4.30       -7.62  \n",
       "           2011-12-03 Campbell              -0.20       -6.15  \n",
       "\n",
       "[5 rows x 195 columns]"
      ]
     },
     "execution_count": 4,
     "metadata": {},
     "output_type": "execute_result"
    }
   ],
   "source": [
    "joined.head()"
   ]
  },
  {
   "cell_type": "code",
   "execution_count": null,
   "metadata": {
    "collapsed": true
   },
   "outputs": [],
   "source": [
    "#drop_cols = []\n",
    "#for col in joined.columns:\n",
    "#    if 'SRS' in col:\n",
    "#        drop_cols.append(col)"
   ]
  },
  {
   "cell_type": "code",
   "execution_count": null,
   "metadata": {
    "collapsed": true
   },
   "outputs": [],
   "source": [
    "#joined.drop(drop_cols, axis=1, inplace=True)"
   ]
  },
  {
   "cell_type": "code",
   "execution_count": 108,
   "metadata": {},
   "outputs": [
    {
     "data": {
      "text/plain": [
       "(75355, 195)"
      ]
     },
     "execution_count": 108,
     "metadata": {},
     "output_type": "execute_result"
    }
   ],
   "source": [
    "joined.shape"
   ]
  },
  {
   "cell_type": "code",
   "execution_count": 38,
   "metadata": {},
   "outputs": [
    {
     "data": {
      "text/plain": [
       "['ewm03fg2',\n",
       " 'ewm03fg2a',\n",
       " 'ewm03fg3',\n",
       " 'ewm03fg3a',\n",
       " 'ewm03ft',\n",
       " 'ewm03fta',\n",
       " 'ewm03orb',\n",
       " 'ewm03drb',\n",
       " 'ewm03ast',\n",
       " 'ewm03stl',\n",
       " 'ewm03blk',\n",
       " 'ewm03tov',\n",
       " 'ewm03pf',\n",
       " 'ewm03pts',\n",
       " 'ewm03game_score',\n",
       " 'ewm03W',\n",
       " 'ewm10fg2',\n",
       " 'ewm10fg2a',\n",
       " 'ewm10fg3',\n",
       " 'ewm10fg3a',\n",
       " 'ewm10ft',\n",
       " 'ewm10fta',\n",
       " 'ewm10orb',\n",
       " 'ewm10drb',\n",
       " 'ewm10ast',\n",
       " 'ewm10stl',\n",
       " 'ewm10blk',\n",
       " 'ewm10tov',\n",
       " 'ewm10pf',\n",
       " 'ewm10pts',\n",
       " 'ewm10game_score',\n",
       " 'ewm10W',\n",
       " 'ewm20fg2',\n",
       " 'ewm20fg2a',\n",
       " 'ewm20fg3',\n",
       " 'ewm20fg3a',\n",
       " 'ewm20ft',\n",
       " 'ewm20fta',\n",
       " 'ewm20orb',\n",
       " 'ewm20drb',\n",
       " 'ewm20ast',\n",
       " 'ewm20stl',\n",
       " 'ewm20blk',\n",
       " 'ewm20tov',\n",
       " 'ewm20pf',\n",
       " 'ewm20pts',\n",
       " 'ewm20game_score',\n",
       " 'ewm20W',\n",
       " 'rm30fg2',\n",
       " 'rm30fg2a',\n",
       " 'rm30fg3',\n",
       " 'rm30fg3a',\n",
       " 'rm30ft',\n",
       " 'rm30fta',\n",
       " 'rm30orb',\n",
       " 'rm30drb',\n",
       " 'rm30ast',\n",
       " 'rm30stl',\n",
       " 'rm30blk',\n",
       " 'rm30tov',\n",
       " 'rm30pf',\n",
       " 'rm30pts',\n",
       " 'rm30game_score',\n",
       " 'rm30W',\n",
       " 'ewm03heldto_fg2',\n",
       " 'ewm03heldto_fg2a',\n",
       " 'ewm03heldto_fg3',\n",
       " 'ewm03heldto_fg3a',\n",
       " 'ewm03heldto_ft',\n",
       " 'ewm03heldto_fta',\n",
       " 'ewm03heldto_orb',\n",
       " 'ewm03heldto_drb',\n",
       " 'ewm03heldto_ast',\n",
       " 'ewm03heldto_stl',\n",
       " 'ewm03heldto_blk',\n",
       " 'ewm03heldto_tov',\n",
       " 'ewm03heldto_pf',\n",
       " 'ewm03heldto_pts',\n",
       " 'ewm03heldto_game_score',\n",
       " 'ewm03heldto_W',\n",
       " 'ewm10heldto_fg2',\n",
       " 'ewm10heldto_fg2a',\n",
       " 'ewm10heldto_fg3',\n",
       " 'ewm10heldto_fg3a',\n",
       " 'ewm10heldto_ft',\n",
       " 'ewm10heldto_fta',\n",
       " 'ewm10heldto_orb',\n",
       " 'ewm10heldto_drb',\n",
       " 'ewm10heldto_ast',\n",
       " 'ewm10heldto_stl',\n",
       " 'ewm10heldto_blk',\n",
       " 'ewm10heldto_tov',\n",
       " 'ewm10heldto_pf',\n",
       " 'ewm10heldto_pts',\n",
       " 'ewm10heldto_game_score',\n",
       " 'ewm10heldto_W',\n",
       " 'ewm20heldto_fg2',\n",
       " 'ewm20heldto_fg2a',\n",
       " 'ewm20heldto_fg3',\n",
       " 'ewm20heldto_fg3a',\n",
       " 'ewm20heldto_ft',\n",
       " 'ewm20heldto_fta',\n",
       " 'ewm20heldto_orb',\n",
       " 'ewm20heldto_drb',\n",
       " 'ewm20heldto_ast',\n",
       " 'ewm20heldto_stl',\n",
       " 'ewm20heldto_blk',\n",
       " 'ewm20heldto_tov',\n",
       " 'ewm20heldto_pf',\n",
       " 'ewm20heldto_pts',\n",
       " 'ewm20heldto_game_score',\n",
       " 'ewm20heldto_W',\n",
       " 'rm30heldto_fg2',\n",
       " 'rm30heldto_fg2a',\n",
       " 'rm30heldto_fg3',\n",
       " 'rm30heldto_fg3a',\n",
       " 'rm30heldto_ft',\n",
       " 'rm30heldto_fta',\n",
       " 'rm30heldto_orb',\n",
       " 'rm30heldto_drb',\n",
       " 'rm30heldto_ast',\n",
       " 'rm30heldto_stl',\n",
       " 'rm30heldto_blk',\n",
       " 'rm30heldto_tov',\n",
       " 'rm30heldto_pf',\n",
       " 'rm30heldto_pts',\n",
       " 'rm30heldto_game_score',\n",
       " 'rm30heldto_W',\n",
       " 'W',\n",
       " 'SRS',\n",
       " 'SOS',\n",
       " 'opp_SRS',\n",
       " 'opp_SOS',\n",
       " 'ewm03fg2ewm03heldto_fg2',\n",
       " 'ewm03fg2aewm03heldto_fg2a',\n",
       " 'ewm03fg3ewm03heldto_fg3',\n",
       " 'ewm03fg3aewm03heldto_fg3a',\n",
       " 'ewm03ftewm03heldto_ft',\n",
       " 'ewm03ftaewm03heldto_fta',\n",
       " 'ewm03orbewm03heldto_orb',\n",
       " 'ewm03drbewm03heldto_drb',\n",
       " 'ewm03astewm03heldto_ast',\n",
       " 'ewm03stlewm03heldto_stl',\n",
       " 'ewm03blkewm03heldto_blk',\n",
       " 'ewm03tovewm03heldto_tov',\n",
       " 'ewm03pfewm03heldto_pf',\n",
       " 'ewm03ptsewm03heldto_pts',\n",
       " 'ewm03game_scoreewm03heldto_game_score',\n",
       " 'ewm10fg2ewm10heldto_fg2',\n",
       " 'ewm10fg2aewm10heldto_fg2a',\n",
       " 'ewm10fg3ewm10heldto_fg3',\n",
       " 'ewm10fg3aewm10heldto_fg3a',\n",
       " 'ewm10ftewm10heldto_ft',\n",
       " 'ewm10ftaewm10heldto_fta',\n",
       " 'ewm10orbewm10heldto_orb',\n",
       " 'ewm10drbewm10heldto_drb',\n",
       " 'ewm10astewm10heldto_ast',\n",
       " 'ewm10stlewm10heldto_stl',\n",
       " 'ewm10blkewm10heldto_blk',\n",
       " 'ewm10tovewm10heldto_tov',\n",
       " 'ewm10pfewm10heldto_pf',\n",
       " 'ewm10ptsewm10heldto_pts',\n",
       " 'ewm10game_scoreewm10heldto_game_score',\n",
       " 'ewm20fg2ewm20heldto_fg2',\n",
       " 'ewm20fg2aewm20heldto_fg2a',\n",
       " 'ewm20fg3ewm20heldto_fg3',\n",
       " 'ewm20fg3aewm20heldto_fg3a',\n",
       " 'ewm20ftewm20heldto_ft',\n",
       " 'ewm20ftaewm20heldto_fta',\n",
       " 'ewm20orbewm20heldto_orb',\n",
       " 'ewm20drbewm20heldto_drb',\n",
       " 'ewm20astewm20heldto_ast',\n",
       " 'ewm20stlewm20heldto_stl',\n",
       " 'ewm20blkewm20heldto_blk',\n",
       " 'ewm20tovewm20heldto_tov',\n",
       " 'ewm20pfewm20heldto_pf',\n",
       " 'ewm20ptsewm20heldto_pts',\n",
       " 'ewm20game_scoreewm20heldto_game_score',\n",
       " 'rm30fg2rm30heldto_fg2',\n",
       " 'rm30fg2arm30heldto_fg2a',\n",
       " 'rm30fg3rm30heldto_fg3',\n",
       " 'rm30fg3arm30heldto_fg3a',\n",
       " 'rm30ftrm30heldto_ft',\n",
       " 'rm30ftarm30heldto_fta',\n",
       " 'rm30orbrm30heldto_orb',\n",
       " 'rm30drbrm30heldto_drb',\n",
       " 'rm30astrm30heldto_ast',\n",
       " 'rm30stlrm30heldto_stl',\n",
       " 'rm30blkrm30heldto_blk',\n",
       " 'rm30tovrm30heldto_tov',\n",
       " 'rm30pfrm30heldto_pf',\n",
       " 'rm30ptsrm30heldto_pts',\n",
       " 'rm30game_scorerm30heldto_game_score',\n",
       " 'SOSopp_SOS',\n",
       " 'SRSopp_SRS']"
      ]
     },
     "execution_count": 38,
     "metadata": {},
     "output_type": "execute_result"
    }
   ],
   "source": [
    "list(joined.columns)"
   ]
  },
  {
   "cell_type": "code",
   "execution_count": 107,
   "metadata": {},
   "outputs": [],
   "source": [
    "cols_interest = list(joined.columns[:133])\n",
    "#cols_interest = joined.columns[128:133]"
   ]
  },
  {
   "cell_type": "code",
   "execution_count": 108,
   "metadata": {},
   "outputs": [
    {
     "data": {
      "text/plain": [
       "['ewm03fg2',\n",
       " 'ewm03fg2a',\n",
       " 'ewm03fg3',\n",
       " 'ewm03fg3a',\n",
       " 'ewm03ft',\n",
       " 'ewm03fta',\n",
       " 'ewm03orb',\n",
       " 'ewm03drb',\n",
       " 'ewm03ast',\n",
       " 'ewm03stl',\n",
       " 'ewm03blk',\n",
       " 'ewm03tov',\n",
       " 'ewm03pf',\n",
       " 'ewm03pts',\n",
       " 'ewm03game_score',\n",
       " 'ewm03W',\n",
       " 'ewm10fg2',\n",
       " 'ewm10fg2a',\n",
       " 'ewm10fg3',\n",
       " 'ewm10fg3a',\n",
       " 'ewm10ft',\n",
       " 'ewm10fta',\n",
       " 'ewm10orb',\n",
       " 'ewm10drb',\n",
       " 'ewm10ast',\n",
       " 'ewm10stl',\n",
       " 'ewm10blk',\n",
       " 'ewm10tov',\n",
       " 'ewm10pf',\n",
       " 'ewm10pts',\n",
       " 'ewm10game_score',\n",
       " 'ewm10W',\n",
       " 'ewm20fg2',\n",
       " 'ewm20fg2a',\n",
       " 'ewm20fg3',\n",
       " 'ewm20fg3a',\n",
       " 'ewm20ft',\n",
       " 'ewm20fta',\n",
       " 'ewm20orb',\n",
       " 'ewm20drb',\n",
       " 'ewm20ast',\n",
       " 'ewm20stl',\n",
       " 'ewm20blk',\n",
       " 'ewm20tov',\n",
       " 'ewm20pf',\n",
       " 'ewm20pts',\n",
       " 'ewm20game_score',\n",
       " 'ewm20W',\n",
       " 'rm30fg2',\n",
       " 'rm30fg2a',\n",
       " 'rm30fg3',\n",
       " 'rm30fg3a',\n",
       " 'rm30ft',\n",
       " 'rm30fta',\n",
       " 'rm30orb',\n",
       " 'rm30drb',\n",
       " 'rm30ast',\n",
       " 'rm30stl',\n",
       " 'rm30blk',\n",
       " 'rm30tov',\n",
       " 'rm30pf',\n",
       " 'rm30pts',\n",
       " 'rm30game_score',\n",
       " 'rm30W',\n",
       " 'ewm03heldto_fg2',\n",
       " 'ewm03heldto_fg2a',\n",
       " 'ewm03heldto_fg3',\n",
       " 'ewm03heldto_fg3a',\n",
       " 'ewm03heldto_ft',\n",
       " 'ewm03heldto_fta',\n",
       " 'ewm03heldto_orb',\n",
       " 'ewm03heldto_drb',\n",
       " 'ewm03heldto_ast',\n",
       " 'ewm03heldto_stl',\n",
       " 'ewm03heldto_blk',\n",
       " 'ewm03heldto_tov',\n",
       " 'ewm03heldto_pf',\n",
       " 'ewm03heldto_pts',\n",
       " 'ewm03heldto_game_score',\n",
       " 'ewm03heldto_W',\n",
       " 'ewm10heldto_fg2',\n",
       " 'ewm10heldto_fg2a',\n",
       " 'ewm10heldto_fg3',\n",
       " 'ewm10heldto_fg3a',\n",
       " 'ewm10heldto_ft',\n",
       " 'ewm10heldto_fta',\n",
       " 'ewm10heldto_orb',\n",
       " 'ewm10heldto_drb',\n",
       " 'ewm10heldto_ast',\n",
       " 'ewm10heldto_stl',\n",
       " 'ewm10heldto_blk',\n",
       " 'ewm10heldto_tov',\n",
       " 'ewm10heldto_pf',\n",
       " 'ewm10heldto_pts',\n",
       " 'ewm10heldto_game_score',\n",
       " 'ewm10heldto_W',\n",
       " 'ewm20heldto_fg2',\n",
       " 'ewm20heldto_fg2a',\n",
       " 'ewm20heldto_fg3',\n",
       " 'ewm20heldto_fg3a',\n",
       " 'ewm20heldto_ft',\n",
       " 'ewm20heldto_fta',\n",
       " 'ewm20heldto_orb',\n",
       " 'ewm20heldto_drb',\n",
       " 'ewm20heldto_ast',\n",
       " 'ewm20heldto_stl',\n",
       " 'ewm20heldto_blk',\n",
       " 'ewm20heldto_tov',\n",
       " 'ewm20heldto_pf',\n",
       " 'ewm20heldto_pts',\n",
       " 'ewm20heldto_game_score',\n",
       " 'ewm20heldto_W',\n",
       " 'rm30heldto_fg2',\n",
       " 'rm30heldto_fg2a',\n",
       " 'rm30heldto_fg3',\n",
       " 'rm30heldto_fg3a',\n",
       " 'rm30heldto_ft',\n",
       " 'rm30heldto_fta',\n",
       " 'rm30heldto_orb',\n",
       " 'rm30heldto_drb',\n",
       " 'rm30heldto_ast',\n",
       " 'rm30heldto_stl',\n",
       " 'rm30heldto_blk',\n",
       " 'rm30heldto_tov',\n",
       " 'rm30heldto_pf',\n",
       " 'rm30heldto_pts',\n",
       " 'rm30heldto_game_score',\n",
       " 'rm30heldto_W',\n",
       " 'W',\n",
       " 'SRS',\n",
       " 'SOS',\n",
       " 'opp_SRS',\n",
       " 'opp_SOS']"
      ]
     },
     "execution_count": 108,
     "metadata": {},
     "output_type": "execute_result"
    }
   ],
   "source": [
    "cols_interest"
   ]
  },
  {
   "cell_type": "code",
   "execution_count": 54,
   "metadata": {},
   "outputs": [],
   "source": [
    "#cols_interest.append(joined.columns[130])"
   ]
  },
  {
   "cell_type": "code",
   "execution_count": 55,
   "metadata": {
    "collapsed": true
   },
   "outputs": [],
   "source": [
    "#cols_interest.append(joined.columns[132])"
   ]
  },
  {
   "cell_type": "markdown",
   "metadata": {},
   "source": [
    "### Split X and y, and apply Scaling"
   ]
  },
  {
   "cell_type": "code",
   "execution_count": 154,
   "metadata": {
    "collapsed": true
   },
   "outputs": [],
   "source": [
    "#X = joined[joined.columns[:64].append(joined.columns[128:])].drop('W', axis=1)\n",
    "X = joined[cols_interest].drop('W', axis=1)\n",
    "#X = team_b_df.drop('W', axis=1)\n",
    "y = joined['W']\n",
    "#y = team_b_df['W']"
   ]
  },
  {
   "cell_type": "code",
   "execution_count": 155,
   "metadata": {
    "collapsed": true,
    "scrolled": true
   },
   "outputs": [],
   "source": [
    "ss = StandardScaler()\n",
    "X = ss.fit_transform(X)"
   ]
  },
  {
   "cell_type": "markdown",
   "metadata": {},
   "source": [
    "### Apply some PCA to reduce features"
   ]
  },
  {
   "cell_type": "code",
   "execution_count": 137,
   "metadata": {
    "collapsed": true
   },
   "outputs": [],
   "source": [
    "pca = PCA(n_components=50)\n",
    "pca = pca.fit(X)"
   ]
  },
  {
   "cell_type": "code",
   "execution_count": 138,
   "metadata": {
    "scrolled": true
   },
   "outputs": [
    {
     "data": {
      "text/plain": [
       "array([18.99564042, 17.27010269, 12.42070411,  8.2121557 ,  7.39360937,\n",
       "        6.08029454,  4.8569003 ,  4.75379698,  4.24374435,  3.66004452,\n",
       "        3.32185342,  3.15004117,  2.80948152,  2.68697144,  2.32570721,\n",
       "        2.21367291,  1.94215655,  1.88492781,  1.72275091,  1.52227339,\n",
       "        1.45170423,  1.27736111,  1.18634258,  1.10493616,  1.00720926,\n",
       "        0.94243617,  0.87424196,  0.79484227,  0.72909466,  0.72231591,\n",
       "        0.63279467,  0.59393612,  0.55893006,  0.54049493,  0.50610423,\n",
       "        0.46165248,  0.45161205,  0.43478386,  0.4098997 ,  0.38831478,\n",
       "        0.37125649,  0.33351421,  0.31474496,  0.29193043,  0.27940687,\n",
       "        0.27434997,  0.25230706,  0.23371698,  0.19979726,  0.1928314 ])"
      ]
     },
     "execution_count": 138,
     "metadata": {},
     "output_type": "execute_result"
    }
   ],
   "source": [
    "pca.explained_variance_"
   ]
  },
  {
   "cell_type": "code",
   "execution_count": 139,
   "metadata": {
    "collapsed": true
   },
   "outputs": [],
   "source": [
    "X = pca.transform(X)"
   ]
  },
  {
   "cell_type": "markdown",
   "metadata": {},
   "source": [
    "## Train/Test Split"
   ]
  },
  {
   "cell_type": "code",
   "execution_count": 156,
   "metadata": {},
   "outputs": [
    {
     "name": "stdout",
     "output_type": "stream",
     "text": [
      "(52748, 132)\n",
      "(52748,)\n",
      "(22607, 132)\n",
      "(22607,)\n"
     ]
    }
   ],
   "source": [
    "X_train, X_test, y_train, y_test = train_test_split(X, y, test_size=0.3)\n",
    "\n",
    "print(X_train.shape)\n",
    "print(y_train.shape)\n",
    "print(X_test.shape)\n",
    "print(y_test.shape)"
   ]
  },
  {
   "cell_type": "markdown",
   "metadata": {},
   "source": [
    "## Logistic Regression"
   ]
  },
  {
   "cell_type": "code",
   "execution_count": 141,
   "metadata": {},
   "outputs": [
    {
     "data": {
      "text/plain": [
       "LogisticRegression(C=1.0, class_weight=None, dual=False, fit_intercept=True,\n",
       "          intercept_scaling=1, max_iter=100, multi_class='ovr', n_jobs=1,\n",
       "          penalty='l2', random_state=None, solver='liblinear', tol=0.0001,\n",
       "          verbose=0, warm_start=False)"
      ]
     },
     "execution_count": 141,
     "metadata": {},
     "output_type": "execute_result"
    }
   ],
   "source": [
    "logreg = LogisticRegression()\n",
    "logreg.fit(X_train, y_train)"
   ]
  },
  {
   "cell_type": "code",
   "execution_count": 142,
   "metadata": {},
   "outputs": [
    {
     "name": "stdout",
     "output_type": "stream",
     "text": [
      "0.7190604765659181\n"
     ]
    }
   ],
   "source": [
    "scores = cross_val_score(logreg, X_train, y_train)\n",
    "print(np.mean(scores))"
   ]
  },
  {
   "cell_type": "markdown",
   "metadata": {},
   "source": [
    "## Grid Search on Logistic Regression"
   ]
  },
  {
   "cell_type": "code",
   "execution_count": 157,
   "metadata": {},
   "outputs": [],
   "source": [
    "lr_params = {'penalty':['l1', 'l2'],\n",
    "             'tol':[.00001, .0001, .001],\n",
    "             'C':[.001, .01, 1, 10],\n",
    "            }"
   ]
  },
  {
   "cell_type": "code",
   "execution_count": 158,
   "metadata": {
    "scrolled": true
   },
   "outputs": [
    {
     "data": {
      "text/plain": [
       "GridSearchCV(cv=5, error_score='raise',\n",
       "       estimator=LogisticRegression(C=1.0, class_weight=None, dual=False, fit_intercept=True,\n",
       "          intercept_scaling=1, max_iter=100, multi_class='ovr', n_jobs=1,\n",
       "          penalty='l2', random_state=None, solver='liblinear', tol=0.0001,\n",
       "          verbose=0, warm_start=False),\n",
       "       fit_params=None, iid=True, n_jobs=1,\n",
       "       param_grid={'penalty': ['l1', 'l2'], 'tol': [1e-05, 0.0001, 0.001], 'C': [0.001, 0.01, 1, 10]},\n",
       "       pre_dispatch='2*n_jobs', refit=True, return_train_score='warn',\n",
       "       scoring=None, verbose=0)"
      ]
     },
     "execution_count": 158,
     "metadata": {},
     "output_type": "execute_result"
    }
   ],
   "source": [
    "grid_lr = GridSearchCV(LogisticRegression(), lr_params, cv=5)\n",
    "grid_lr.fit(X_train, y_train)"
   ]
  },
  {
   "cell_type": "code",
   "execution_count": 159,
   "metadata": {},
   "outputs": [
    {
     "data": {
      "text/plain": [
       "0.7254116307289898"
      ]
     },
     "execution_count": 159,
     "metadata": {},
     "output_type": "execute_result"
    }
   ],
   "source": [
    "scores = cross_val_score(grid_lr, X_train, y_train)\n",
    "np.mean(scores)"
   ]
  },
  {
   "cell_type": "code",
   "execution_count": 160,
   "metadata": {},
   "outputs": [
    {
     "data": {
      "text/plain": [
       "{'C': 0.01, 'penalty': 'l2', 'tol': 1e-05}"
      ]
     },
     "execution_count": 160,
     "metadata": {},
     "output_type": "execute_result"
    }
   ],
   "source": [
    "grid_lr.best_params_"
   ]
  },
  {
   "cell_type": "code",
   "execution_count": 161,
   "metadata": {},
   "outputs": [
    {
     "data": {
      "text/plain": [
       "0.7269430379390164"
      ]
     },
     "execution_count": 161,
     "metadata": {},
     "output_type": "execute_result"
    }
   ],
   "source": [
    "scores = cross_val_score(grid_lr, X_test, y_test)\n",
    "np.mean(scores)"
   ]
  },
  {
   "cell_type": "code",
   "execution_count": 162,
   "metadata": {
    "collapsed": true
   },
   "outputs": [],
   "source": [
    "preds = grid_lr.predict(X_test)"
   ]
  },
  {
   "cell_type": "code",
   "execution_count": null,
   "metadata": {
    "collapsed": true
   },
   "outputs": [],
   "source": [
    "print(classification_report(y_test, preds))\n",
    "pd.DataFrame(confusion_matrix(y_test, preds), columns=['Pred -', 'Pred +'], index=['Act -', 'Act +'])"
   ]
  },
  {
   "cell_type": "markdown",
   "metadata": {},
   "source": [
    "### AUC ROC Score and Curve"
   ]
  },
  {
   "cell_type": "code",
   "execution_count": null,
   "metadata": {
    "collapsed": true
   },
   "outputs": [],
   "source": [
    "preds = logreg.predict(X_test)"
   ]
  },
  {
   "cell_type": "code",
   "execution_count": null,
   "metadata": {
    "collapsed": true
   },
   "outputs": [],
   "source": [
    "print(classification_report(y_test, preds))\n",
    "pd.DataFrame(confusion_matrix(y_test, preds), columns=['Pred -', 'Pred +'], index=['Act -', 'Act +'])"
   ]
  },
  {
   "cell_type": "code",
   "execution_count": null,
   "metadata": {
    "collapsed": true
   },
   "outputs": [],
   "source": [
    "proba_pairs = logreg.predict_proba(X_test)\n",
    "probas = [item[1] for item in proba_pairs]\n",
    "roc_auc_score(y_test, probas)"
   ]
  },
  {
   "cell_type": "code",
   "execution_count": null,
   "metadata": {
    "collapsed": true
   },
   "outputs": [],
   "source": [
    "threshold[4200]"
   ]
  },
  {
   "cell_type": "code",
   "execution_count": null,
   "metadata": {
    "collapsed": true
   },
   "outputs": [],
   "source": [
    "fpr, tpr, threshold = roc_curve(y_test, probas)\n",
    "roc_auc = auc(fpr, tpr)\n",
    "\n",
    "fix, ax = plt.subplots(figsize=(14,10))\n",
    "\n",
    "plt.title('Receiver Operating Characteristic', fontsize=20)\n",
    "plt.plot(fpr, tpr, 'b', label = 'AUC = %0.2f' % roc_auc)\n",
    "plt.scatter(fpr[4200], tpr[4200], s=200, label='Threshold = 50%')\n",
    "plt.legend(loc = 'lower right', fontsize=14)\n",
    "plt.plot([0, 1], [0, 1],'r--')\n",
    "plt.xlim([0, 1])\n",
    "plt.ylim([0, 1])\n",
    "plt.ylabel('True Positive Rate', fontsize=16)\n",
    "plt.xlabel('False Positive Rate', fontsize=16)\n",
    "plt.show()"
   ]
  },
  {
   "cell_type": "markdown",
   "metadata": {},
   "source": [
    "### What about double predictions?"
   ]
  },
  {
   "cell_type": "code",
   "execution_count": null,
   "metadata": {
    "collapsed": true
   },
   "outputs": [],
   "source": [
    "test = joined\n",
    "test.head()"
   ]
  },
  {
   "cell_type": "code",
   "execution_count": null,
   "metadata": {
    "collapsed": true
   },
   "outputs": [],
   "source": [
    "test.reset_index(inplace=True)"
   ]
  },
  {
   "cell_type": "code",
   "execution_count": null,
   "metadata": {
    "collapsed": true
   },
   "outputs": [],
   "source": [
    "test.sort_values(['date_game', 'school_id', 'opp_id'], inplace=True)"
   ]
  },
  {
   "cell_type": "code",
   "execution_count": null,
   "metadata": {
    "collapsed": true
   },
   "outputs": [],
   "source": [
    "test.reset_index(inplace=True, drop=True)"
   ]
  },
  {
   "cell_type": "code",
   "execution_count": null,
   "metadata": {
    "collapsed": true
   },
   "outputs": [],
   "source": [
    "test.shape"
   ]
  },
  {
   "cell_type": "code",
   "execution_count": null,
   "metadata": {
    "collapsed": true
   },
   "outputs": [],
   "source": [
    "test.head()"
   ]
  },
  {
   "cell_type": "code",
   "execution_count": null,
   "metadata": {
    "collapsed": true
   },
   "outputs": [],
   "source": [
    "test.index[-1]"
   ]
  },
  {
   "cell_type": "code",
   "execution_count": null,
   "metadata": {
    "collapsed": true
   },
   "outputs": [],
   "source": [
    "team_a = []\n",
    "team_b = []\n",
    "for i in test.index:\n",
    "    if i % 500 == 0:\n",
    "        print('parsing...', i)\n",
    "    if i not in team_b:\n",
    "        for j in range(i, test.index[-1]):\n",
    "            if test['school_id'][j] == test['opp_id'][i] and test['date_game'][i] == test['date_game'][j]:\n",
    "                team_a.append(i)\n",
    "                team_b.append(j)\n",
    "                break"
   ]
  },
  {
   "cell_type": "code",
   "execution_count": null,
   "metadata": {
    "collapsed": true
   },
   "outputs": [],
   "source": [
    "print(len(team_a))\n",
    "print(len(team_b))"
   ]
  },
  {
   "cell_type": "code",
   "execution_count": null,
   "metadata": {
    "collapsed": true
   },
   "outputs": [],
   "source": [
    "team_a_df = test.loc[team_a]\n",
    "team_b_df = test.loc[team_b]"
   ]
  },
  {
   "cell_type": "code",
   "execution_count": null,
   "metadata": {
    "collapsed": true
   },
   "outputs": [],
   "source": [
    "team_a_df.set_index(['school_id', 'date_game', 'opp_id'], inplace=True)\n",
    "team_b_df.set_index(['school_id', 'date_game', 'opp_id'], inplace=True)"
   ]
  },
  {
   "cell_type": "code",
   "execution_count": null,
   "metadata": {
    "collapsed": true
   },
   "outputs": [],
   "source": [
    "team_a_preds = logreg.predict(team_a_df.drop('W', axis=1))\n",
    "team_b_preds = logreg.predict(team_b_df.drop('W', axis=1))"
   ]
  },
  {
   "cell_type": "code",
   "execution_count": null,
   "metadata": {
    "collapsed": true
   },
   "outputs": [],
   "source": [
    "test_sums = team_a_preds + team_b_preds"
   ]
  },
  {
   "cell_type": "code",
   "execution_count": null,
   "metadata": {
    "collapsed": true
   },
   "outputs": [],
   "source": [
    "# In some instances, both teams are being predicted to win, and in others, neither team is \n",
    "# predicted to win!\n",
    "Counter(test_sums)"
   ]
  },
  {
   "cell_type": "code",
   "execution_count": null,
   "metadata": {
    "collapsed": true
   },
   "outputs": [],
   "source": [
    "team_a_probas = logreg.predict_proba(team_a_df.drop('W', axis=1))\n",
    "team_b_probas = logreg.predict_proba(team_b_df.drop('W', axis=1))"
   ]
  },
  {
   "cell_type": "code",
   "execution_count": null,
   "metadata": {
    "collapsed": true
   },
   "outputs": [],
   "source": [
    "team_a_probas"
   ]
  },
  {
   "cell_type": "code",
   "execution_count": null,
   "metadata": {
    "collapsed": true
   },
   "outputs": [],
   "source": [
    "team_a_df.head()"
   ]
  },
  {
   "cell_type": "markdown",
   "metadata": {},
   "source": [
    "## Random Forest Classifier"
   ]
  },
  {
   "cell_type": "code",
   "execution_count": 122,
   "metadata": {},
   "outputs": [
    {
     "data": {
      "text/plain": [
       "RandomForestClassifier(bootstrap=True, class_weight=None, criterion='gini',\n",
       "            max_depth=20, max_features='auto', max_leaf_nodes=None,\n",
       "            min_impurity_decrease=0.0, min_impurity_split=None,\n",
       "            min_samples_leaf=1, min_samples_split=2,\n",
       "            min_weight_fraction_leaf=0.0, n_estimators=10, n_jobs=1,\n",
       "            oob_score=False, random_state=None, verbose=0,\n",
       "            warm_start=False)"
      ]
     },
     "execution_count": 122,
     "metadata": {},
     "output_type": "execute_result"
    }
   ],
   "source": [
    "rfc = RandomForestClassifier(max_depth=20)\n",
    "rfc.fit(X_train, y_train)"
   ]
  },
  {
   "cell_type": "code",
   "execution_count": 123,
   "metadata": {},
   "outputs": [
    {
     "data": {
      "text/plain": [
       "0.665257406789609"
      ]
     },
     "execution_count": 123,
     "metadata": {},
     "output_type": "execute_result"
    }
   ],
   "source": [
    "scores = cross_val_score(rfc, X_train, y_train)\n",
    "np.mean(scores)"
   ]
  },
  {
   "cell_type": "code",
   "execution_count": null,
   "metadata": {
    "collapsed": true
   },
   "outputs": [],
   "source": [
    "feat_series = pd.Series(rfc.feature_importances_, index=joined.drop('W', axis=1).columns)\n",
    "feat_series.head()"
   ]
  },
  {
   "cell_type": "code",
   "execution_count": null,
   "metadata": {
    "collapsed": true,
    "scrolled": true
   },
   "outputs": [],
   "source": [
    "# SRS = Simple Rating System, takes into account SOS\n",
    "# SOS = Strength of Schedule\n",
    "feat_series.sort_values(ascending=False)"
   ]
  },
  {
   "cell_type": "markdown",
   "metadata": {},
   "source": [
    "## GridCV"
   ]
  },
  {
   "cell_type": "code",
   "execution_count": 124,
   "metadata": {
    "collapsed": true
   },
   "outputs": [],
   "source": [
    "rf_params = {'n_estimators':[2,5,10,20],\n",
    "             'criterion':['gini', 'entropy'],\n",
    "             'max_depth':[5,10,20,None]}\n",
    "             #'min_samples_split':[3,4,5]}"
   ]
  },
  {
   "cell_type": "code",
   "execution_count": 125,
   "metadata": {
    "collapsed": true
   },
   "outputs": [],
   "source": [
    "gridcv_rf = RandomizedSearchCV(RandomForestClassifier(), rf_params, cv=5)"
   ]
  },
  {
   "cell_type": "code",
   "execution_count": 126,
   "metadata": {},
   "outputs": [
    {
     "data": {
      "text/plain": [
       "RandomizedSearchCV(cv=5, error_score='raise',\n",
       "          estimator=RandomForestClassifier(bootstrap=True, class_weight=None, criterion='gini',\n",
       "            max_depth=None, max_features='auto', max_leaf_nodes=None,\n",
       "            min_impurity_decrease=0.0, min_impurity_split=None,\n",
       "            min_samples_leaf=1, min_samples_split=2,\n",
       "            min_weight_fraction_leaf=0.0, n_estimators=10, n_jobs=1,\n",
       "            oob_score=False, random_state=None, verbose=0,\n",
       "            warm_start=False),\n",
       "          fit_params=None, iid=True, n_iter=10, n_jobs=1,\n",
       "          param_distributions={'n_estimators': [2, 5, 10, 20], 'criterion': ['gini', 'entropy'], 'max_depth': [5, 10, 20, None]},\n",
       "          pre_dispatch='2*n_jobs', random_state=None, refit=True,\n",
       "          return_train_score='warn', scoring=None, verbose=0)"
      ]
     },
     "execution_count": 126,
     "metadata": {},
     "output_type": "execute_result"
    }
   ],
   "source": [
    "gridcv_rf.fit(X_train, y_train)"
   ]
  },
  {
   "cell_type": "code",
   "execution_count": 127,
   "metadata": {},
   "outputs": [
    {
     "data": {
      "text/plain": [
       "0.779707287480094"
      ]
     },
     "execution_count": 127,
     "metadata": {},
     "output_type": "execute_result"
    }
   ],
   "source": [
    "scores = gridcv_rf.score(X_train, y_train)\n",
    "np.mean(scores)"
   ]
  },
  {
   "cell_type": "code",
   "execution_count": 129,
   "metadata": {},
   "outputs": [
    {
     "data": {
      "text/plain": [
       "0.7055779183438758"
      ]
     },
     "execution_count": 129,
     "metadata": {},
     "output_type": "execute_result"
    }
   ],
   "source": [
    "scores = gridcv_rf.score(X_test, y_test)\n",
    "np.mean(scores)"
   ]
  },
  {
   "cell_type": "code",
   "execution_count": 134,
   "metadata": {},
   "outputs": [
    {
     "data": {
      "text/plain": [
       "{'criterion': 'entropy', 'max_depth': 10, 'n_estimators': 20}"
      ]
     },
     "execution_count": 134,
     "metadata": {},
     "output_type": "execute_result"
    }
   ],
   "source": [
    "gridcv_rf.best_params_"
   ]
  },
  {
   "cell_type": "code",
   "execution_count": null,
   "metadata": {
    "collapsed": true
   },
   "outputs": [],
   "source": [
    "test = pd.read_csv('../data/test.csv', sep='\\t', header=None)\n",
    "test.columns = ['wk', 'date', 'rank', 'school', 'prev_rank', 'chnge', 'conf']"
   ]
  },
  {
   "cell_type": "markdown",
   "metadata": {},
   "source": [
    "## KNN Classifier"
   ]
  },
  {
   "cell_type": "code",
   "execution_count": 118,
   "metadata": {},
   "outputs": [
    {
     "data": {
      "text/plain": [
       "KNeighborsClassifier(algorithm='auto', leaf_size=30, metric='minkowski',\n",
       "           metric_params=None, n_jobs=1, n_neighbors=20, p=2,\n",
       "           weights='uniform')"
      ]
     },
     "execution_count": 118,
     "metadata": {},
     "output_type": "execute_result"
    }
   ],
   "source": [
    "knn = KNeighborsClassifier(n_neighbors=20)\n",
    "knn.fit(X_train, y_train)"
   ]
  },
  {
   "cell_type": "code",
   "execution_count": 119,
   "metadata": {},
   "outputs": [
    {
     "name": "stdout",
     "output_type": "stream",
     "text": [
      "0.6579964848735292\n"
     ]
    }
   ],
   "source": [
    "scores = cross_val_score(knn, X_train, y_train)\n",
    "print(np.mean(scores))"
   ]
  },
  {
   "cell_type": "code",
   "execution_count": null,
   "metadata": {
    "collapsed": true
   },
   "outputs": [],
   "source": []
  },
  {
   "cell_type": "markdown",
   "metadata": {
    "collapsed": true
   },
   "source": [
    "## March Madness!"
   ]
  },
  {
   "cell_type": "code",
   "execution_count": null,
   "metadata": {
    "collapsed": true
   },
   "outputs": [],
   "source": [
    "page1 = pd.read_csv('../data/marchmadness_2018/scores_pg1.csv', sep='\\t')\n",
    "page2 = pd.read_csv('../data/marchmadness_2018/scores_pg2.csv', sep='\\t')"
   ]
  },
  {
   "cell_type": "code",
   "execution_count": null,
   "metadata": {
    "collapsed": true
   },
   "outputs": [],
   "source": [
    "page1.reset_index(inplace=True)"
   ]
  },
  {
   "cell_type": "code",
   "execution_count": null,
   "metadata": {
    "collapsed": true
   },
   "outputs": [],
   "source": [
    "print(page1.shape)\n",
    "print(page2.shape)"
   ]
  },
  {
   "cell_type": "code",
   "execution_count": null,
   "metadata": {
    "collapsed": true
   },
   "outputs": [],
   "source": [
    "page1.columns = ['rank', 'year', 'date', 'region', 'round', 'school_id', 'pts', 'opp_id',\n",
    "                'opp_pts', 'ot', 'pts_df', 'location']\n",
    "\n",
    "page2.columns = ['rank', 'year', 'date', 'region', 'round', 'school_id', 'pts', 'opp_id',\n",
    "                'opp_pts', 'ot', 'pts_df', 'location']"
   ]
  },
  {
   "cell_type": "code",
   "execution_count": null,
   "metadata": {
    "collapsed": true
   },
   "outputs": [],
   "source": [
    "page2.drop(20, inplace=True)"
   ]
  },
  {
   "cell_type": "code",
   "execution_count": null,
   "metadata": {
    "collapsed": true
   },
   "outputs": [],
   "source": [
    "mm_2018 = pd.concat([page1, page2], ignore_index=True)"
   ]
  },
  {
   "cell_type": "code",
   "execution_count": null,
   "metadata": {
    "collapsed": true
   },
   "outputs": [],
   "source": [
    "mm_2018.reset_index(drop=True, inplace=True)"
   ]
  },
  {
   "cell_type": "code",
   "execution_count": null,
   "metadata": {
    "collapsed": true
   },
   "outputs": [],
   "source": [
    "schools_list = []\n",
    "opp_list = []\n",
    "school_wins = []\n",
    "\n",
    "remove_digits = str.maketrans('', '', digits)\n",
    "for i in mm_2018.index:\n",
    "    school_dirty = mm_2018['school_id'][i]\n",
    "    school_clean = school_dirty.translate(remove_digits).lstrip()\n",
    "    \n",
    "    opp_dirty = mm_2018['opp_id'][i]\n",
    "    opp_clean = opp_dirty.translate(remove_digits).lstrip()\n",
    "    \n",
    "    schools_list.append(school_clean)\n",
    "    opp_list.append(opp_clean)\n",
    "    \n",
    "    if mm_2018['pts'][i] > mm_2018['opp_pts'][i]:\n",
    "        school_wins.append(1)\n",
    "    else:\n",
    "        school_wins.append(0)"
   ]
  },
  {
   "cell_type": "code",
   "execution_count": null,
   "metadata": {
    "collapsed": true
   },
   "outputs": [],
   "source": [
    "print(len(schools_list))\n",
    "print(len(opp_list))\n",
    "print(len(school_wins))"
   ]
  },
  {
   "cell_type": "code",
   "execution_count": null,
   "metadata": {
    "collapsed": true
   },
   "outputs": [],
   "source": [
    "mm_2018['school_id'] = schools_list\n",
    "mm_2018['opp_id'] = opp_list\n",
    "mm_2018['W'] = school_wins"
   ]
  },
  {
   "cell_type": "code",
   "execution_count": null,
   "metadata": {
    "collapsed": true
   },
   "outputs": [],
   "source": [
    "mm_2018.head()"
   ]
  },
  {
   "cell_type": "code",
   "execution_count": null,
   "metadata": {
    "collapsed": true
   },
   "outputs": [],
   "source": [
    "notin_list = []\n",
    "for team in mm_2018['school_id']:\n",
    "    if team not in df['school_id'].unique():\n",
    "        notin_list.append(team)"
   ]
  },
  {
   "cell_type": "code",
   "execution_count": null,
   "metadata": {
    "collapsed": true
   },
   "outputs": [],
   "source": [
    "notin_list"
   ]
  },
  {
   "cell_type": "code",
   "execution_count": null,
   "metadata": {
    "collapsed": true,
    "scrolled": true
   },
   "outputs": [],
   "source": [
    "mm_2018['rank'] = mm_2018['rank'].apply(lambda x: int(x))\n",
    "mm_2018.sort_values('rank', inplace=True, ascending=False)\n",
    "mm_2018.reset_index(drop=True, inplace=True)"
   ]
  },
  {
   "cell_type": "code",
   "execution_count": null,
   "metadata": {
    "collapsed": true
   },
   "outputs": [],
   "source": [
    "def row_maker(school, opp):\n",
    "    school_max_date = joined.loc[school].index.max()[0]\n",
    "    #opp = joined.loc[school, school_max_date].index[0]\n",
    "    opp_max_date = joined.loc[opp].index.max()[0]\n",
    "    \n",
    "    row = pd.concat([joined.loc[school, school_max_date][joined.columns[0:64]].reset_index(drop=True),\n",
    "                     joined.loc[opp, opp_max_date][joined.columns[64:128]].reset_index(drop=True),\n",
    "                     joined.loc[school, school_max_date][joined.columns[129:131]].reset_index(drop=True),\n",
    "                     joined.loc[opp, opp_max_date][joined.columns[129:131]].reset_index(drop=True).rename(columns={'SRS':'opp_SRS', 'SOS':'opp_SOS'})], \n",
    "                     axis=1)\n",
    "    \n",
    "    for i, j in interact_pair:\n",
    "        row[i+j] = row[i] - row[j]\n",
    "    \n",
    "    return(row)"
   ]
  },
  {
   "cell_type": "code",
   "execution_count": null,
   "metadata": {
    "collapsed": true
   },
   "outputs": [],
   "source": [
    "mm_2018[mm_2018['school_id']=='St. Bonaventure']"
   ]
  },
  {
   "cell_type": "code",
   "execution_count": null,
   "metadata": {
    "collapsed": true
   },
   "outputs": [],
   "source": [
    "first4_indices = np.arange(0, 8, 1)\n",
    "firstround_indices = np.arange(8, 72, 1)\n",
    "secondround_indices = np.arange(72, 104, 1)\n",
    "sweet16_indices = np.arange(104, 120, 1)\n",
    "regional_indices = np.arange(120, 128, 1)\n",
    "final4_indices = np.arange(128, 132, 1)\n",
    "final_indices = np.arange(132, 134, 1)"
   ]
  },
  {
   "cell_type": "code",
   "execution_count": null,
   "metadata": {
    "collapsed": true
   },
   "outputs": [],
   "source": [
    "# Predictions of 'First 4' Round\n",
    "temp_df = pd.DataFrame(columns=joined.columns.drop('W'))\n",
    "\n",
    "for i in mm_2018.index[firstround_indices]:\n",
    "    temp_df = temp_df.append(row_maker(mm_2018['school_id'][i], mm_2018['opp_id'][i]))\n",
    "    temp_df.reset_index(drop=True, inplace=True)"
   ]
  },
  {
   "cell_type": "code",
   "execution_count": null,
   "metadata": {
    "collapsed": true,
    "scrolled": true
   },
   "outputs": [],
   "source": [
    "temp_df"
   ]
  },
  {
   "cell_type": "code",
   "execution_count": null,
   "metadata": {
    "collapsed": true
   },
   "outputs": [],
   "source": [
    "print(classification_report(mm_2018['W'][firstround_indices], logreg.predict(temp_df)))\n",
    "pd.DataFrame(confusion_matrix(mm_2018['W'][firstround_indices], logreg.predict(temp_df)), columns=['Pred -', 'Pred +'], index=['Act -', 'Act +'])"
   ]
  },
  {
   "cell_type": "code",
   "execution_count": null,
   "metadata": {
    "collapsed": true
   },
   "outputs": [],
   "source": [
    "incorrect_pick = []\n",
    "t_preds = logreg.predict(temp_df)\n",
    "for i in firstround_indices:\n",
    "    if mm_2018['W'][i] != t_preds[i-8]:\n",
    "        incorrect_pick.append(mm_2018['school_id'][i])"
   ]
  },
  {
   "cell_type": "code",
   "execution_count": null,
   "metadata": {
    "collapsed": true
   },
   "outputs": [],
   "source": [
    "incorrect_pick"
   ]
  },
  {
   "cell_type": "code",
   "execution_count": null,
   "metadata": {
    "collapsed": true
   },
   "outputs": [],
   "source": [
    "list(row_maker('Villanova', 'Georgetown').columns)"
   ]
  },
  {
   "cell_type": "code",
   "execution_count": null,
   "metadata": {
    "collapsed": true
   },
   "outputs": [],
   "source": [
    "list(joined.columns)"
   ]
  },
  {
   "cell_type": "code",
   "execution_count": null,
   "metadata": {
    "collapsed": true
   },
   "outputs": [],
   "source": [
    "joined.shape"
   ]
  },
  {
   "cell_type": "code",
   "execution_count": null,
   "metadata": {
    "collapsed": true
   },
   "outputs": [],
   "source": []
  }
 ],
 "metadata": {
  "kernelspec": {
   "display_name": "Python [default]",
   "language": "python",
   "name": "python3"
  },
  "language_info": {
   "codemirror_mode": {
    "name": "ipython",
    "version": 3
   },
   "file_extension": ".py",
   "mimetype": "text/x-python",
   "name": "python",
   "nbconvert_exporter": "python",
   "pygments_lexer": "ipython3",
   "version": "3.6.3"
  }
 },
 "nbformat": 4,
 "nbformat_minor": 2
}
